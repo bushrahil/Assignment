{
 "cells": [
  {
   "cell_type": "markdown",
   "id": "84d51bc2-acde-41eb-afd3-37c4187704a7",
   "metadata": {},
   "source": [
    "1. Write a Python program to print the numbers from 1 to 10 using a `for` loop."
   ]
  },
  {
   "cell_type": "code",
   "execution_count": 3,
   "id": "50dd8163-8866-4458-811d-5885820a9753",
   "metadata": {},
   "outputs": [
    {
     "name": "stdout",
     "output_type": "stream",
     "text": [
      "0\n",
      "1\n",
      "2\n",
      "3\n",
      "4\n",
      "5\n",
      "6\n",
      "7\n",
      "8\n",
      "9\n",
      "10\n"
     ]
    }
   ],
   "source": [
    "for number in range(11):\n",
    "    print(number)"
   ]
  },
  {
   "cell_type": "markdown",
   "id": "98c67e53-4708-4188-95a0-4977afbb1f57",
   "metadata": {},
   "source": [
    "2. Create a program that calculates the sum of all numbers in a list using a `for` loop."
   ]
  },
  {
   "cell_type": "code",
   "execution_count": 6,
   "id": "35533ea0-de89-48d0-8e95-48ff77e15caa",
   "metadata": {},
   "outputs": [
    {
     "name": "stdout",
     "output_type": "stream",
     "text": [
      "The sum of the numbers is: 3\n",
      "The sum of the numbers is: 7\n",
      "The sum of the numbers is: 13\n",
      "The sum of the numbers is: 20\n",
      "The sum of the numbers is: 28\n",
      "The sum of the numbers is: 37\n",
      "The sum of the numbers is: 46\n",
      "The sum of the numbers is: 50\n",
      "The sum of the numbers is: 55\n",
      "The sum of the numbers is: 61\n"
     ]
    }
   ],
   "source": [
    "#creating a list first:\n",
    "l = [3,4,6,7,8,9,9,4,5,6]\n",
    "\n",
    "total = 0\n",
    "\n",
    "for number in l:\n",
    "    total += number\n",
    "    \n",
    "    print(\"The sum of the numbers is:\", total)"
   ]
  },
  {
   "cell_type": "markdown",
   "id": "cc8e48a1-d602-491b-8bce-9aa9f5cf166c",
   "metadata": {},
   "source": [
    "3. Write a program to print the characters of a string in reverse order using a `for` loop."
   ]
  },
  {
   "cell_type": "code",
   "execution_count": 17,
   "id": "af6f3082-6ff9-4b87-b6ff-b5a94c9af22e",
   "metadata": {},
   "outputs": [
    {
     "name": "stdout",
     "output_type": "stream",
     "text": [
      "sllikswp\n"
     ]
    }
   ],
   "source": [
    "s = 'pwskills'\n",
    "\n",
    "reverse_string = \"\"\n",
    "\n",
    "for char in reversed(s):\n",
    "    reverse_string += char\n",
    "    \n",
    "print (reverse_string)"
   ]
  },
  {
   "cell_type": "markdown",
   "id": "bbc6d1ed-1563-4c08-8de5-92565396c527",
   "metadata": {},
   "source": [
    "4. Develop a program that finds the factorial of a given number using a `for` loop."
   ]
  },
  {
   "cell_type": "code",
   "execution_count": 19,
   "id": "4b245ad5-2a9e-4644-bc42-5b7845d0fd2c",
   "metadata": {},
   "outputs": [
    {
     "name": "stdin",
     "output_type": "stream",
     "text": [
      "Enter a number:  6\n"
     ]
    },
    {
     "name": "stdout",
     "output_type": "stream",
     "text": [
      "The factorial of 6 is 720\n"
     ]
    }
   ],
   "source": [
    "#taking input from the user\n",
    "\n",
    "number = int(input(\"Enter a number: \"))\n",
    "\n",
    "factorial = 1\n",
    "\n",
    "if number <0:\n",
    "    print('Factorial number is not define for negative number')\n",
    "elif number == 0:\n",
    "    print('Factorial number of 0 is 1')\n",
    "else:\n",
    "    for i in range (1, number+1):\n",
    "        factorial *= i\n",
    "        \n",
    "    print(f\"The factorial of {number} is {factorial}\")"
   ]
  },
  {
   "cell_type": "markdown",
   "id": "f9b5a9f0-8f21-436f-8420-9977c239cdcb",
   "metadata": {},
   "source": [
    "5. Create a program to print the multiplication table of a given number using a `for` loop."
   ]
  },
  {
   "cell_type": "code",
   "execution_count": 28,
   "id": "0d3aff60-dff3-4444-a371-1690dc2a7f24",
   "metadata": {},
   "outputs": [
    {
     "name": "stdin",
     "output_type": "stream",
     "text": [
      "Enter a number:  10\n"
     ]
    },
    {
     "name": "stdout",
     "output_type": "stream",
     "text": [
      "Multiplication Table for 10:\n",
      "10 x 1 = 10\n",
      "10 x 2 = 20\n",
      "10 x 3 = 30\n",
      "10 x 4 = 40\n",
      "10 x 5 = 50\n",
      "10 x 6 = 60\n",
      "10 x 7 = 70\n",
      "10 x 8 = 80\n",
      "10 x 9 = 90\n",
      "10 x 10 = 100\n"
     ]
    }
   ],
   "source": [
    "num = int(input('Enter a number: '))\n",
    "\n",
    "print(f'Multiplication Table for {num}:')\n",
    "\n",
    "#using a for loop to calculate and print the table\n",
    "\n",
    "for i in range(1, 11):\n",
    "    result = num * i\n",
    "    print (f'{num} x {i} = {result}')"
   ]
  },
  {
   "cell_type": "markdown",
   "id": "774ea2f9-6c2e-4cca-a29b-abd05e704947",
   "metadata": {},
   "source": [
    "6. Write a program that counts the number of even and odd numbers in a list using a `for` loop."
   ]
  },
  {
   "cell_type": "code",
   "execution_count": 31,
   "id": "61b32973-4960-42e5-9503-5e7088dc4191",
   "metadata": {},
   "outputs": [
    {
     "name": "stdout",
     "output_type": "stream",
     "text": [
      "Number of even number: 5\n",
      "Number of odd number: 6\n"
     ]
    }
   ],
   "source": [
    "#first we'll create a list\n",
    "l = [1,2,3,4,5,6,7,8,9,10,11]\n",
    "\n",
    "#counters\n",
    "even_count = 0\n",
    "odd_count = 0\n",
    "\n",
    "#now using for loop to count these even/odd numbers\n",
    "\n",
    "for number in l:\n",
    "    if number %2 ==0:\n",
    "        even_count += 1\n",
    "    else:\n",
    "        odd_count += 1\n",
    "        \n",
    "print('Number of even number:', even_count)\n",
    "print('Number of odd number:', odd_count)"
   ]
  },
  {
   "cell_type": "markdown",
   "id": "d323a6c6-da19-42e0-a71f-a4ed1a0cab51",
   "metadata": {},
   "source": [
    "7. Develop a program that prints the squares of numbers from 1 to 5 using a `for` loop."
   ]
  },
  {
   "cell_type": "code",
   "execution_count": 42,
   "id": "9ae87a5c-c6c5-4863-825a-018428868ae3",
   "metadata": {},
   "outputs": [
    {
     "name": "stdout",
     "output_type": "stream",
     "text": [
      "The square of 1 is 1\n",
      "The square of 2 is 4\n",
      "The square of 3 is 9\n",
      "The square of 4 is 16\n",
      "The square of 5 is 25\n"
     ]
    }
   ],
   "source": [
    "for number in range(1,6):\n",
    "    square = number**2\n",
    "    print(f'The square of {number} is {square}')"
   ]
  },
  {
   "cell_type": "markdown",
   "id": "db395385-d9d7-45de-a72d-04022d94bed6",
   "metadata": {},
   "source": [
    "8. Create a program to find the length of a string without using the `len()` function."
   ]
  },
  {
   "cell_type": "code",
   "execution_count": 48,
   "id": "a126a3e1-8d72-4c99-bff8-11210f9a60cc",
   "metadata": {},
   "outputs": [
    {
     "name": "stdin",
     "output_type": "stream",
     "text": [
      "Enter a string:  rahil\n"
     ]
    },
    {
     "name": "stdout",
     "output_type": "stream",
     "text": [
      "The length of the string is: 5\n"
     ]
    }
   ],
   "source": [
    "#first we'll take input from the user\n",
    "input_string = input('Enter a string: ')\n",
    "\n",
    "length = 0\n",
    "\n",
    "for char in input_string:\n",
    "    length += 1\n",
    "    \n",
    "print(f'The length of the string is: {length}')"
   ]
  },
  {
   "cell_type": "markdown",
   "id": "3665adbb-ff13-4647-b260-097de803baeb",
   "metadata": {},
   "source": [
    "9. Write a program that calculates the average of a list of numbers using a `for` loop."
   ]
  },
  {
   "cell_type": "code",
   "execution_count": 53,
   "id": "98c8c6e4-97b7-4d6e-a04c-68923b532969",
   "metadata": {},
   "outputs": [
    {
     "name": "stdout",
     "output_type": "stream",
     "text": [
      "The average of the number is: 29.4\n"
     ]
    }
   ],
   "source": [
    "#first of all we'll create a list\n",
    "\n",
    "l = [23,45,65,7,7,8,99,25,7,8]\n",
    "\n",
    "total = 0\n",
    "count = 0\n",
    "\n",
    "\n",
    "for number in l:\n",
    "    total += number\n",
    "    count += 1\n",
    "    \n",
    "    if count >0:\n",
    "        average = total/count\n",
    "    else:\n",
    "        average = 0\n",
    "        \n",
    "print ('The average of the number is:', average)"
   ]
  },
  {
   "cell_type": "markdown",
   "id": "9df1cd1d-296f-4191-8675-447a8feae854",
   "metadata": {},
   "source": [
    "10. Develop a program that prints the first `n` Fibonacci numbers using a `for` loop."
   ]
  },
  {
   "cell_type": "code",
   "execution_count": 54,
   "id": "31286511-41af-40f4-b4e6-b9138819ac34",
   "metadata": {},
   "outputs": [],
   "source": [
    "def gen_fib(n): #going to generate a fib serious\n",
    "    if n <= 1:\n",
    "        return n\n",
    "    else:\n",
    "        return gen_fib (n-1) + gen_fib(n-2)"
   ]
  },
  {
   "cell_type": "code",
   "execution_count": 56,
   "id": "bf6a03e8-f715-46f9-805a-f3cb4eff3b58",
   "metadata": {},
   "outputs": [
    {
     "data": {
      "text/plain": [
       "55"
      ]
     },
     "execution_count": 56,
     "metadata": {},
     "output_type": "execute_result"
    }
   ],
   "source": [
    "gen_fib(10)"
   ]
  },
  {
   "cell_type": "markdown",
   "id": "ca30bc5e-6548-4475-a791-e3536177ea8c",
   "metadata": {},
   "source": [
    "11. Write a program to check if a given list contains any duplicates using a `for` loop."
   ]
  },
  {
   "cell_type": "code",
   "execution_count": 5,
   "id": "2e0c37cd-da8e-47f4-9e61-e38e9bfd172a",
   "metadata": {},
   "outputs": [
    {
     "name": "stdout",
     "output_type": "stream",
     "text": [
      "The list does not contain duplicate.\n"
     ]
    }
   ],
   "source": [
    "#so first create a list\n",
    "\n",
    "l = [2,3,43,5,6,7,8]\n",
    "\n",
    "unique_value = set()\n",
    "\n",
    "has_dup = False\n",
    "\n",
    "for item in l:\n",
    "    if item in unique_value:\n",
    "        has_dup = True\n",
    "        break\n",
    "    unique_value.add(item)\n",
    "    \n",
    "if has_dup:\n",
    "    print('The list contain duplicate.')\n",
    "else:\n",
    "    print('The list does not contain duplicate.')"
   ]
  },
  {
   "cell_type": "markdown",
   "id": "c90bd612-59af-46d2-a935-67c46ebbb405",
   "metadata": {},
   "source": [
    "12. Create a program that prints the prime numbers in a given range using a `for` loop."
   ]
  },
  {
   "cell_type": "code",
   "execution_count": 8,
   "id": "fc11629a-c40c-4cb1-9288-256ff875925a",
   "metadata": {},
   "outputs": [
    {
     "name": "stdin",
     "output_type": "stream",
     "text": [
      "Enter the start of the range:  10\n",
      "Enter the end of the range:  20\n"
     ]
    },
    {
     "name": "stdout",
     "output_type": "stream",
     "text": [
      "Prime number is in range:\n",
      "11\n",
      "13\n",
      "17\n",
      "19\n"
     ]
    }
   ],
   "source": [
    "#taking input from the user\n",
    "start = int(input('Enter the start of the range: '))\n",
    "end = int(input('Enter the end of the range: '))\n",
    "\n",
    "def is_prime(number):\n",
    "    if number <=1:\n",
    "        return False\n",
    "    if number <=3:\n",
    "        return True\n",
    "    if number %2 == 0 or number %3 == 0:\n",
    "        return False\n",
    "    \n",
    "    i=5\n",
    "    while i*i <= number:\n",
    "        if number %i ==0 or number % (i-2) ==0:\n",
    "            return False\n",
    "        \n",
    "        i += 6\n",
    "    return True\n",
    "\n",
    "print('Prime number is in range:')\n",
    "for number in range(start, end+1):\n",
    "    if is_prime(number):\n",
    "        print(number)"
   ]
  },
  {
   "cell_type": "markdown",
   "id": "a445e047-cf70-438d-a86c-8be2601df68e",
   "metadata": {},
   "source": [
    "13. Develop a program that counts the number of vowels in a string using a `for` loop."
   ]
  },
  {
   "cell_type": "code",
   "execution_count": 11,
   "id": "127b63b1-4b73-473d-abf4-8c9dda45c625",
   "metadata": {},
   "outputs": [
    {
     "name": "stdin",
     "output_type": "stream",
     "text": [
      "Enter the String:  Rahil\n"
     ]
    },
    {
     "name": "stdout",
     "output_type": "stream",
     "text": [
      "The number of vowels in the string is: 2\n"
     ]
    }
   ],
   "source": [
    "input_string = input('Enter the String: ')\n",
    "\n",
    "input_string = input_string.lower()\n",
    "\n",
    "vowels_count = 0\n",
    "\n",
    "vowels = {'a', 'e', 'i', 'o', 'u'}\n",
    "\n",
    "for char in input_string:\n",
    "    if char in vowels:\n",
    "        vowels_count +=1\n",
    "        \n",
    "print('The number of vowels in the string is:', vowels_count)"
   ]
  },
  {
   "cell_type": "markdown",
   "id": "0f9eabb2-4a55-4c1a-b4c3-804cedde9b8c",
   "metadata": {},
   "source": [
    "14. Write a program to find the maximum element in a 2D list using a nested `for` loop."
   ]
  },
  {
   "cell_type": "code",
   "execution_count": 12,
   "id": "74645fed-d824-4a48-936e-9d5913124ae4",
   "metadata": {},
   "outputs": [
    {
     "name": "stdout",
     "output_type": "stream",
     "text": [
      "The maximum element in the 2D list is: 15\n"
     ]
    }
   ],
   "source": [
    "# Define a 2D list (list of lists)\n",
    "matrix = [\n",
    "    [10, 2, 5],\n",
    "    [4, 12, 8],\n",
    "    [7, 6, 15]\n",
    "]\n",
    "\n",
    "# Initialize a variable to store the maximum element\n",
    "max_element = float('-inf')  # Initialize with negative infinity\n",
    "\n",
    "# Iterate through rows and columns using nested loops\n",
    "for row in matrix:\n",
    "    for element in row:\n",
    "        if element > max_element:\n",
    "            max_element = element\n",
    "\n",
    "# Print the maximum element\n",
    "print(\"The maximum element in the 2D list is:\", max_element)\n"
   ]
  },
  {
   "cell_type": "markdown",
   "id": "7d2495f7-5dae-4440-9978-022d4991e796",
   "metadata": {},
   "source": [
    "15. Create a program that removes all occurrences of a specific element from a list using a `for` loop."
   ]
  },
  {
   "cell_type": "code",
   "execution_count": 13,
   "id": "97cae0c0-6d75-4a7f-8bfb-0d9fa8f08561",
   "metadata": {},
   "outputs": [
    {
     "name": "stdin",
     "output_type": "stream",
     "text": [
      "Enter the element to remove:  3\n"
     ]
    },
    {
     "name": "stdout",
     "output_type": "stream",
     "text": [
      "Original list: [1, 2, 3, 2, 4, 5, 2]\n",
      "Updated list without 3 : [1, 2, 2, 4, 5, 2]\n"
     ]
    }
   ],
   "source": [
    "# Define a list with some elements\n",
    "my_list = [1, 2, 3, 2, 4, 5, 2]\n",
    "\n",
    "# Input: Get the element to be removed from the user\n",
    "element_to_remove = int(input(\"Enter the element to remove: \"))\n",
    "\n",
    "# Initialize an empty list to store the result\n",
    "new_list = []\n",
    "\n",
    "# Iterate through the original list and exclude the specified element\n",
    "for item in my_list:\n",
    "    if item != element_to_remove:\n",
    "        new_list.append(item)\n",
    "\n",
    "# Print the updated list without the specified element\n",
    "print(\"Original list:\", my_list)\n",
    "print(\"Updated list without\", element_to_remove, \":\", new_list)"
   ]
  },
  {
   "cell_type": "markdown",
   "id": "05043315-9620-4663-8f75-d7cc48091456",
   "metadata": {},
   "source": [
    "16. Develop a program that generates a multiplication table for numbers from 1 to 5 using a nested `for` loop."
   ]
  },
  {
   "cell_type": "code",
   "execution_count": 3,
   "id": "fbb42005-e99d-45f7-990a-cceb64f1738e",
   "metadata": {},
   "outputs": [
    {
     "name": "stdout",
     "output_type": "stream",
     "text": [
      "1 x 1 = 1\t1 x 2 = 2\t1 x 3 = 3\t1 x 4 = 4\t1 x 5 = 5\t\n",
      "2 x 1 = 2\t2 x 2 = 4\t2 x 3 = 6\t2 x 4 = 8\t2 x 5 = 10\t\n",
      "3 x 1 = 3\t3 x 2 = 6\t3 x 3 = 9\t3 x 4 = 12\t3 x 5 = 15\t\n",
      "4 x 1 = 4\t4 x 2 = 8\t4 x 3 = 12\t4 x 4 = 16\t4 x 5 = 20\t\n",
      "5 x 1 = 5\t5 x 2 = 10\t5 x 3 = 15\t5 x 4 = 20\t5 x 5 = 25\t\n"
     ]
    }
   ],
   "source": [
    "#first of all we'll define a range for the multiplication table\n",
    "start = 1\n",
    "end = 5\n",
    "\n",
    "for i in range(start, end+1):\n",
    "    \n",
    "    for j in range (start, end+1):\n",
    "        product =i*j\n",
    "        \n",
    "        print(f\"{i} x {j} = {product}\", end=\"\\t\")\n",
    "    \n",
    "    print()"
   ]
  },
  {
   "cell_type": "markdown",
   "id": "30006775-8e6e-4c22-ae66-2cc9c3846de7",
   "metadata": {},
   "source": [
    "17. Write a program that converts a list of Fahrenheit temperatures to Celsius using a `for` loop."
   ]
  },
  {
   "cell_type": "code",
   "execution_count": 4,
   "id": "1fa09e36-c20b-4c65-b5ca-d7e46a90535f",
   "metadata": {},
   "outputs": [
    {
     "name": "stdout",
     "output_type": "stream",
     "text": [
      "F Temp: [50, 32, 100, 68, 212]\n",
      "C Temp: [10.0, 0.0, 37.77777777777778, 20.0, 100.0]\n"
     ]
    }
   ],
   "source": [
    "f_temp = [50, 32, 100, 68, 212]\n",
    "\n",
    "c_temp = []\n",
    "\n",
    "for f in f_temp:\n",
    "    c = (f - 32)*5/9\n",
    "    c_temp.append(c)\n",
    "    \n",
    "print('F Temp:', f_temp)\n",
    "print('C Temp:', c_temp)"
   ]
  },
  {
   "cell_type": "markdown",
   "id": "0f1c094b-c9ee-4318-adb2-69c0a23e3f24",
   "metadata": {},
   "source": [
    "18. Create a program to print the common elements from two lists using a `for` loop."
   ]
  },
  {
   "cell_type": "code",
   "execution_count": 6,
   "id": "68f07966-da82-4a7e-be15-0f48a345d60d",
   "metadata": {},
   "outputs": [
    {
     "name": "stdout",
     "output_type": "stream",
     "text": [
      "common elements [3, 4, 5]\n"
     ]
    }
   ],
   "source": [
    "# Define two lists\n",
    "list1 = [1, 2, 3, 4, 5]\n",
    "list2 = [3, 4, 5, 6, 7]\n",
    "\n",
    "common_list = []\n",
    "\n",
    "for item1 in list1:\n",
    "    for item2 in list2:\n",
    "        if item1 == item2:\n",
    "            common_list.append(item1)\n",
    "            \n",
    "print('common elements', common_list)"
   ]
  },
  {
   "cell_type": "markdown",
   "id": "f7750c3c-7b73-4fc2-886a-6721a9480b8f",
   "metadata": {},
   "source": [
    "19. Develop a program that prints the pattern of right-angled triangles using a `for` loop. Use ‘*’ to draw the pattern"
   ]
  },
  {
   "cell_type": "code",
   "execution_count": 9,
   "id": "237023c2-b578-4a54-a945-4b4011e03a77",
   "metadata": {},
   "outputs": [
    {
     "name": "stdin",
     "output_type": "stream",
     "text": [
      "Enter the number of rows for the right-angled triangle:  10\n"
     ]
    },
    {
     "name": "stdout",
     "output_type": "stream",
     "text": [
      "* \n",
      "* * \n",
      "* * * \n",
      "* * * * \n",
      "* * * * * \n",
      "* * * * * * \n",
      "* * * * * * * \n",
      "* * * * * * * * \n",
      "* * * * * * * * * \n",
      "* * * * * * * * * * \n"
     ]
    }
   ],
   "source": [
    "# Input: Get the number of rows for the triangle from the user\n",
    "num_rows = int(input(\"Enter the number of rows for the right-angled triangle: \"))\n",
    "\n",
    "for i in range(1, num_rows+1):\n",
    "    for j in range (i):\n",
    "        print('*', end=' ')\n",
    "        \n",
    "    print()"
   ]
  },
  {
   "cell_type": "markdown",
   "id": "a0ed51eb-359f-4399-b62a-3f5465fdc593",
   "metadata": {},
   "source": [
    "20. Write a program to find the greatest common divisor (GCD) of two numbers using a `for` loop."
   ]
  },
  {
   "cell_type": "code",
   "execution_count": 10,
   "id": "602ac645-8c27-408c-8bbe-c8583b2a90ed",
   "metadata": {},
   "outputs": [
    {
     "name": "stdin",
     "output_type": "stream",
     "text": [
      "Enter the first number:  10\n",
      "Enter the second number:  50\n"
     ]
    },
    {
     "name": "stdout",
     "output_type": "stream",
     "text": [
      "The greatest common divisor (GCD) of 10 and 50 is 10\n"
     ]
    }
   ],
   "source": [
    "# Input: Get two numbers from the user\n",
    "num1 = int(input(\"Enter the first number: \"))\n",
    "num2 = int(input(\"Enter the second number: \"))\n",
    "\n",
    "min_num = min(num1, num2)\n",
    "\n",
    "gcd =1 \n",
    "\n",
    "for i in range(1, min_num + 1):\n",
    "    if num1 %i == 0 and num2 % i ==0:\n",
    "        gcd = i\n",
    "        \n",
    "print(f'The greatest common divisor (GCD) of {num1} and {num2} is {gcd}')"
   ]
  },
  {
   "cell_type": "markdown",
   "id": "0627f79d-d1c3-4b70-b120-9e8bb8f30dd9",
   "metadata": {},
   "source": [
    "21. Create a program that calculates the sum of the digits of numbers in a list using a list comprehension."
   ]
  },
  {
   "cell_type": "code",
   "execution_count": 3,
   "id": "fc732276-54d0-4c2a-95dd-463fb8d50aae",
   "metadata": {},
   "outputs": [
    {
     "name": "stdout",
     "output_type": "stream",
     "text": [
      "numbers: 231, Sum of Digits: 6\n",
      "numbers: 23, Sum of Digits: 5\n",
      "numbers: 53, Sum of Digits: 8\n",
      "numbers: 5, Sum of Digits: 5\n",
      "numbers: 3134, Sum of Digits: 11\n"
     ]
    }
   ],
   "source": [
    "#first creat a list of numbers\n",
    "\n",
    "numbers = [231,23,53,5,3134]\n",
    "\n",
    "sum_of_digits = [sum(map(int,str(num))) for num in numbers]\n",
    "\n",
    "for num, sum_of_digits in zip(numbers, sum_of_digits):\n",
    "    print(f\"numbers: {num}, Sum of Digits: {sum_of_digits}\")"
   ]
  },
  {
   "cell_type": "markdown",
   "id": "ec2727d2-373f-447e-811a-bffcf8a8c26b",
   "metadata": {},
   "source": [
    "22. Write a program to find the prime factors of a given number using a `for` loop and list comprehension."
   ]
  },
  {
   "cell_type": "code",
   "execution_count": 9,
   "id": "632bf9b8-fd14-4d53-9356-3d02681c6032",
   "metadata": {},
   "outputs": [
    {
     "name": "stdin",
     "output_type": "stream",
     "text": [
      "Enter a number:  100\n"
     ]
    },
    {
     "name": "stdout",
     "output_type": "stream",
     "text": [
      "Prime Factors of 100: [2, 2, 5, 5]\n"
     ]
    }
   ],
   "source": [
    "#Functions to find prime factor of a number\n",
    "\n",
    "def prime_factors(n):\n",
    "    factors = []\n",
    "    #divide n by 2 until it is even\n",
    "    while n % 2== 0:\n",
    "        factors.append(2)\n",
    "        n=n//2\n",
    "        \n",
    "    for i in range(3, int(n**0.5) + 1, 2):\n",
    "        while n % i == 0:\n",
    "            factors.append(i)\n",
    "            n = n // i\n",
    "            \n",
    "    if n>2:\n",
    "        factors.append(n)\n",
    "        \n",
    "    return factors\n",
    "\n",
    "num = int(input('Enter a number: '))\n",
    "\n",
    "prime_factors_list = prime_factors(num)\n",
    "print(f'Prime Factors of {num}: {prime_factors_list}')"
   ]
  },
  {
   "cell_type": "markdown",
   "id": "19b27207-c062-469d-a817-f4140df01e27",
   "metadata": {},
   "source": [
    "23. Develop a program that extracts unique elements from a list and stores them in a new list using a list comprehension."
   ]
  },
  {
   "cell_type": "code",
   "execution_count": 12,
   "id": "fc427c11-3264-41f9-b396-62acb11c6d80",
   "metadata": {},
   "outputs": [
    {
     "name": "stdout",
     "output_type": "stream",
     "text": [
      "Original List: [1, 2, 2, 3, 4, 4, 5, 6, 6]\n",
      "Unique Elements List: [1, 2, 3, 4, 5, 6]\n"
     ]
    }
   ],
   "source": [
    "# Input list with duplicate elements\n",
    "input_list = [1, 2, 2, 3, 4, 4, 5, 6, 6]\n",
    "\n",
    "unique_elements = [x for i, x in enumerate(input_list) if x not in input_list[:i]]\n",
    "\n",
    "print('Original List:', input_list)\n",
    "print('Unique Elements List:', unique_elements)"
   ]
  },
  {
   "cell_type": "markdown",
   "id": "a2473a30-abea-41c2-9c9c-4433eb7a863c",
   "metadata": {},
   "source": [
    "24. Create a program that generates a list of all palindromic numbers up to a specified limit using a list comprehension."
   ]
  },
  {
   "cell_type": "code",
   "execution_count": 13,
   "id": "86a04a75-df8b-4131-9cdc-162a9354d493",
   "metadata": {},
   "outputs": [
    {
     "name": "stdin",
     "output_type": "stream",
     "text": [
      "Enter the upper list:  100\n"
     ]
    },
    {
     "name": "stdout",
     "output_type": "stream",
     "text": [
      "Palindromic Numbers up to 100 : [0, 1, 2, 3, 4, 5, 6, 7, 8, 9, 11, 22, 33, 44, 55, 66, 77, 88, 99]\n"
     ]
    }
   ],
   "source": [
    "# Function to check if a number is palindromic\n",
    "def is_palindromic(num):\n",
    "    return str(num) == str(num)[::-1]\n",
    "\n",
    "limit = int(input('Enter the upper list: '))\n",
    "\n",
    "palindromic_numbers = [num for num in range(limit+1) if is_palindromic(num)]\n",
    "\n",
    "print('Palindromic Numbers up to', limit, ':', palindromic_numbers)"
   ]
  },
  {
   "cell_type": "markdown",
   "id": "17d757f9-ffca-4569-be18-b07bde114dff",
   "metadata": {},
   "source": [
    "25. Write a program to flatten a nested list using list comprehension."
   ]
  },
  {
   "cell_type": "code",
   "execution_count": 3,
   "id": "d20fcf6a-16d0-4574-9de2-30c759295004",
   "metadata": {},
   "outputs": [
    {
     "name": "stdout",
     "output_type": "stream",
     "text": [
      "Original Nested List\n",
      "[1, 2, 3]\n",
      "[4, 5]\n",
      "[6, 7, 8, 9]\n",
      "\n",
      "Flatten List: [1, 2, 3, 4, 5, 6, 7, 8, 9]\n"
     ]
    }
   ],
   "source": [
    "#First of all define the nested list\n",
    "nested_list =[[1,2,3], [4,5], [6,7,8,9]]\n",
    "\n",
    "flatten_list = [item for sublist in nested_list for item in sublist]\n",
    "\n",
    "print('Original Nested List')\n",
    "\n",
    "for sublist in nested_list:\n",
    "    print(sublist)\n",
    "    \n",
    "print('\\nFlatten List:', flatten_list)"
   ]
  },
  {
   "cell_type": "markdown",
   "id": "4133665c-f990-4eac-8cd0-dc93b232fa0e",
   "metadata": {},
   "source": [
    "26. Develop a program that computes the sum of even and odd numbers in a list separately using list comprehension."
   ]
  },
  {
   "cell_type": "code",
   "execution_count": 6,
   "id": "9ee5c4a7-18fd-4765-983b-3b5a002c4621",
   "metadata": {},
   "outputs": [
    {
     "name": "stdout",
     "output_type": "stream",
     "text": [
      "Original Numbers [1, 2, 3, 4, 5, 6, 7, 8, 9, 10]\n",
      "Even Numbers [2, 4, 6, 8, 10]\n",
      "Odd Numbers [1, 3, 5, 7, 9]\n",
      "Sum of Even Numbers 30\n",
      "Sum of Odd Numbers 25\n"
     ]
    }
   ],
   "source": [
    "#here is the list of numbers\n",
    "numbers = [1,2,3,4,5,6,7,8,9,10]\n",
    "\n",
    "even_number = [num for num in numbers if num % 2 ==0]\n",
    "odd_number = [num for num in numbers if num %2 != 0]\n",
    "\n",
    "sum_even = sum(even_number)\n",
    "sum_odd = sum(odd_number)\n",
    "\n",
    "print('Original Numbers', numbers)\n",
    "print('Even Numbers', even_number)\n",
    "print('Odd Numbers', odd_number)\n",
    "print('Sum of Even Numbers', sum_even)\n",
    "print('Sum of Odd Numbers', sum_odd)"
   ]
  },
  {
   "cell_type": "markdown",
   "id": "f471740e-1fd4-4365-ae37-670df3f00002",
   "metadata": {},
   "source": [
    "27. Create a program that generates a list of squares of odd numbers between 1 and 10 using list comprehension."
   ]
  },
  {
   "cell_type": "code",
   "execution_count": 8,
   "id": "70c2e819-3d7d-428b-b93b-38320332d5bd",
   "metadata": {},
   "outputs": [
    {
     "name": "stdout",
     "output_type": "stream",
     "text": [
      "Squares of Odd Numbers [1, 9, 25, 49, 81]\n"
     ]
    }
   ],
   "source": [
    "odd_squares = [x**2 for x in range(1,11) if x % 2 !=0]\n",
    "\n",
    "print('Squares of Odd Numbers', odd_squares)"
   ]
  },
  {
   "cell_type": "markdown",
   "id": "366958fe-4e6f-4e36-8271-c214c49ac732",
   "metadata": {},
   "source": [
    "28. Write a program that combines two lists into a dictionary using list comprehension."
   ]
  },
  {
   "cell_type": "code",
   "execution_count": 9,
   "id": "b76fff4c-cba9-44e6-a796-75f03875960d",
   "metadata": {},
   "outputs": [
    {
     "name": "stdout",
     "output_type": "stream",
     "text": [
      "Combine Dictionary {'Name': 'Alice', 'Age': 25, 'City': 'New York'}\n"
     ]
    }
   ],
   "source": [
    "#input list\n",
    "keys = ['Name', 'Age', 'City']\n",
    "values = ['Alice', 25, 'New York']\n",
    "\n",
    "combine_list = {keys[i]: values[i] for i in range(min(len(keys), len(values)))}\n",
    "\n",
    "print('Combine Dictionary', combine_list)"
   ]
  },
  {
   "cell_type": "markdown",
   "id": "797e5973-38cd-486a-9a69-e48e16984cc0",
   "metadata": {},
   "source": [
    "29. Develop a program that extracts the vowels from a string and stores them in a list using list comprehension."
   ]
  },
  {
   "cell_type": "code",
   "execution_count": 11,
   "id": "16f434d7-59e6-44f6-bef7-bea1d177ea17",
   "metadata": {},
   "outputs": [
    {
     "name": "stdout",
     "output_type": "stream",
     "text": [
      "Original String Hello World!\n",
      "List of vowels ['e', 'o', 'o']\n"
     ]
    }
   ],
   "source": [
    "input_string = 'Hello World!'\n",
    "\n",
    "vowels = ['a', 'e', 'i', 'o', 'u', 'A', 'E', 'I', 'O', 'U']\n",
    "\n",
    "vowel_list = [char for char in input_string if char in vowels]\n",
    "\n",
    "print('Original String', input_string)\n",
    "print('List of vowels', vowel_list)"
   ]
  },
  {
   "cell_type": "markdown",
   "id": "bba5dd13-1c5a-49a3-b15e-704766283962",
   "metadata": {},
   "source": [
    "30. Create a program that removes all non-numeric characters from a list of strings using list comprehension."
   ]
  },
  {
   "cell_type": "code",
   "execution_count": 13,
   "id": "bfdfed63-20b9-4cd1-baf1-a96057dd9bb4",
   "metadata": {},
   "outputs": [
    {
     "name": "stdout",
     "output_type": "stream",
     "text": [
      "Original List of String ['123abc', '45ef', '67daks', 'xyq909', '1b3b5s']\n",
      "List of Numeric String ['123', '45', '67', '909', '135']\n"
     ]
    }
   ],
   "source": [
    "string_list = ['123abc', '45ef', '67daks', 'xyq909', '1b3b5s']\n",
    "\n",
    "numeric_string = [''.join(char for char in s if char.isdigit()) for s in string_list]\n",
    "\n",
    "print('Original List of String', string_list)\n",
    "print('List of Numeric String', numeric_string)"
   ]
  },
  {
   "cell_type": "markdown",
   "id": "6ee225b9-eea7-4278-af66-53f09479ef93",
   "metadata": {},
   "source": [
    "31. Write a program to generate a list of prime numbers using the Sieve of Eratosthenes algorithm and list comprehension."
   ]
  },
  {
   "cell_type": "code",
   "execution_count": 14,
   "id": "dd1e7dd5-1438-485d-a90e-3b930685e83b",
   "metadata": {},
   "outputs": [
    {
     "name": "stdout",
     "output_type": "stream",
     "text": [
      "Prime Numbers up to 50: [2, 3, 5, 7, 11, 13, 17, 19, 23, 29, 31, 37, 41, 43, 47]\n"
     ]
    }
   ],
   "source": [
    "def sieve_of_eratosthenes(n):\n",
    "    is_prime = [True] * (n+1)\n",
    "    is_prime [0] = is_prime[1] = False\n",
    "    \n",
    "    for p in range(2, int(n**0.5) + 1):\n",
    "        if is_prime[p]:\n",
    "            for i in range(p*p, n+1, p):\n",
    "                is_prime[i] = False\n",
    "                \n",
    "    primes = [p for p in range(2, n+1) if is_prime[p]]\n",
    "    return primes\n",
    "\n",
    "limit = 50\n",
    "\n",
    "prime_list = sieve_of_eratosthenes(limit)\n",
    "print('Prime Numbers up to {}: {}'.format(limit, prime_list))"
   ]
  },
  {
   "cell_type": "markdown",
   "id": "eccb8c17-ec6d-4338-8b07-9eaffba2cd78",
   "metadata": {},
   "source": [
    "32. Create a program that generates a list of all Pythagorean triplets up to a specified limit using list comprehension."
   ]
  },
  {
   "cell_type": "code",
   "execution_count": 16,
   "id": "15fb21e7-41e1-40cc-a490-b09bcdbe89e2",
   "metadata": {},
   "outputs": [
    {
     "name": "stdout",
     "output_type": "stream",
     "text": [
      "Pythagorean Triplets up to 30: [(3, 4, 5), (5, 12, 13), (6, 8, 10), (7, 24, 25), (8, 15, 17), (9, 12, 15), (10, 24, 26), (12, 16, 20), (15, 20, 25), (18, 24, 30), (20, 21, 29)]\n"
     ]
    }
   ],
   "source": [
    "limit = 30\n",
    "\n",
    "pythagorean_triplets = [(a,b,c) for a in range(1, limit+2)\n",
    "                       for b in range (a, limit+1)\n",
    "                       for c in range (b, limit+1)\n",
    "                       if a**2 + b**2 == c**2]\n",
    "\n",
    "print('Pythagorean Triplets up to {}: {}'.format(limit, pythagorean_triplets))"
   ]
  },
  {
   "cell_type": "markdown",
   "id": "f61d16ac-ad60-43d0-a3f4-f3dc7403b8df",
   "metadata": {},
   "source": [
    "33. Develop a program that generates a list of all possible combinations of two lists using list comprehension."
   ]
  },
  {
   "cell_type": "code",
   "execution_count": 19,
   "id": "a0eb5dab-f84f-424e-ae31-29adfb74636c",
   "metadata": {},
   "outputs": [
    {
     "name": "stdout",
     "output_type": "stream",
     "text": [
      "All Possible Combinations.\n",
      "(1, 'a')\n",
      "(1, 'b')\n",
      "(1, 'c')\n",
      "(1, 'd')\n",
      "(2, 'a')\n",
      "(2, 'b')\n",
      "(2, 'c')\n",
      "(2, 'd')\n",
      "(3, 'a')\n",
      "(3, 'b')\n",
      "(3, 'c')\n",
      "(3, 'd')\n",
      "(4, 'a')\n",
      "(4, 'b')\n",
      "(4, 'c')\n",
      "(4, 'd')\n"
     ]
    }
   ],
   "source": [
    "list1 = [1,2,3,4]\n",
    "list2 = ['a', 'b', 'c', 'd']\n",
    "\n",
    "combinations = [(x,y) for x in list1 for y in list2]\n",
    "\n",
    "print('All Possible Combinations.')\n",
    "for combination in combinations:\n",
    "    print(combination)"
   ]
  },
  {
   "cell_type": "markdown",
   "id": "0fb20ce5-e0eb-4f1e-a3aa-00e434d5563f",
   "metadata": {},
   "source": [
    "34. Write a program that calculates the mean, median, and mode of a list of numbers using list comprehension."
   ]
  },
  {
   "cell_type": "code",
   "execution_count": 26,
   "id": "ea22941d-a07c-4123-98d4-75df9721ea2c",
   "metadata": {},
   "outputs": [
    {
     "name": "stdout",
     "output_type": "stream",
     "text": [
      "Mean: 44.0\n",
      "Median: 45\n",
      "Mode: [45]\n"
     ]
    }
   ],
   "source": [
    "from collections import Counter\n",
    "\n",
    "numbers = [12, 45, 67, 45, 89, 12, 34, 45, 67, 23, 45]\n",
    "\n",
    "mean = sum(numbers)/len(numbers)\n",
    "\n",
    "sorted_numbers = sorted(numbers)\n",
    "middle = len(sorted_numbers) // 2\n",
    "if len(sorted_numbers) % 2 ==0:\n",
    "    median = (sorted_numbers[middle - 1]+ sorted_numbers[middle]/2)\n",
    "else:\n",
    "    median = sorted_numbers[middle]\n",
    "              \n",
    "numbers_counts = Counter(numbers)\n",
    "max_count = max(numbers_counts.values())\n",
    "mode = [num for num, count in numbers_counts.items() if count == max_count]\n",
    "\n",
    "print('Mean:', mean)\n",
    "print('Median:', median)\n",
    "print('Mode:', mode)"
   ]
  },
  {
   "cell_type": "markdown",
   "id": "bae6b021-0751-48f6-bf9f-f495cadd446a",
   "metadata": {},
   "source": [
    "35. Create a program that generates Pascal's triangle up to a specified number of rows using list comprehension."
   ]
  },
  {
   "cell_type": "code",
   "execution_count": 28,
   "id": "1923a948-fc9b-497e-b314-178f56872292",
   "metadata": {},
   "outputs": [
    {
     "name": "stdin",
     "output_type": "stream",
     "text": [
      "Enter the number of rows for Pascal's triangle:  10\n"
     ]
    },
    {
     "name": "stdout",
     "output_type": "stream",
     "text": [
      "              1               \n",
      "             1 1              \n",
      "            1 2 1             \n",
      "           1 3 3 1            \n",
      "          1 4 6 4 1           \n",
      "        1 5 10 10 5 1         \n",
      "       1 6 15 20 15 6 1       \n",
      "     1 7 21 35 35 21 7 1      \n",
      "    1 8 28 56 70 56 28 8 1    \n",
      " 1 9 36 84 126 126 84 36 9 1  \n"
     ]
    }
   ],
   "source": [
    "# Function to generate Pascal's triangle up to a specified number of rows\n",
    "def generate_pascals_triangle(rows):\n",
    "    triangle = [[1]]\n",
    "    \n",
    "    for _ in range(1, rows):\n",
    "        prev_row = triangle[-1]\n",
    "        new_row = [1] + [prev_row[i] + prev_row[i + 1] for i in range(len(prev_row) - 1)] + [1]\n",
    "        triangle.append(new_row)\n",
    "    \n",
    "    return triangle\n",
    "\n",
    "# Input number of rows for Pascal's triangle\n",
    "num_rows = int(input(\"Enter the number of rows for Pascal's triangle: \"))\n",
    "\n",
    "# Generate Pascal's triangle using the function\n",
    "pascals_triangle = generate_pascals_triangle(num_rows)\n",
    "\n",
    "# Print Pascal's triangle\n",
    "for row in pascals_triangle:\n",
    "    print(\" \".join(map(str, row)).center(num_rows * 3))"
   ]
  },
  {
   "cell_type": "markdown",
   "id": "4dd8f043-e0b1-467a-bad4-07491ccb50a2",
   "metadata": {},
   "source": [
    "36. Develop a program that calculates the sum of the digits of a factorial of numbers from 1 to 5 using list comprehension."
   ]
  },
  {
   "cell_type": "code",
   "execution_count": 29,
   "id": "4857691d-0936-4de8-bc59-a7913488b186",
   "metadata": {},
   "outputs": [
    {
     "name": "stdout",
     "output_type": "stream",
     "text": [
      "Factorial of 1 and sum of its digits: 1\n",
      "Factorial of 2 and sum of its digits: 2\n",
      "Factorial of 3 and sum of its digits: 6\n",
      "Factorial of 4 and sum of its digits: 6\n",
      "Factorial of 5 and sum of its digits: 3\n"
     ]
    }
   ],
   "source": [
    "# Function to calculate the factorial of a number\n",
    "def factorial(n):\n",
    "    if n == 0:\n",
    "        return 1\n",
    "    else:\n",
    "        return n * factorial(n - 1)\n",
    "\n",
    "# List comprehension to calculate the factorial and sum of digits for numbers from 1 to 5\n",
    "factorial_sums = [sum(int(digit) for digit in str(factorial(n))) for n in range(1, 6)]\n",
    "\n",
    "# Print the results\n",
    "for n, result in enumerate(factorial_sums, start=1):\n",
    "    print(f\"Factorial of {n} and sum of its digits: {result}\")"
   ]
  },
  {
   "cell_type": "markdown",
   "id": "f4793e06-95d0-41b1-930b-e45532925ffd",
   "metadata": {},
   "source": [
    "37. Write a program that finds the longest word in a sentence using list comprehension."
   ]
  },
  {
   "cell_type": "code",
   "execution_count": 30,
   "id": "472cb701-fde0-4270-9ec0-8e6c1767bad1",
   "metadata": {},
   "outputs": [
    {
     "name": "stdin",
     "output_type": "stream",
     "text": [
      "Enter a sentence:  What is the benefit to learn Data Science\n"
     ]
    },
    {
     "name": "stdout",
     "output_type": "stream",
     "text": [
      "The longest word in the sentence is: benefit\n"
     ]
    }
   ],
   "source": [
    "# Input sentence\n",
    "sentence = input(\"Enter a sentence: \")\n",
    "\n",
    "# Split the sentence into words and find the longest word using list comprehension\n",
    "words = sentence.split()\n",
    "longest_word = max(words, key=lambda word: len(word))\n",
    "\n",
    "# Print the longest word\n",
    "print(\"The longest word in the sentence is:\", longest_word)\n"
   ]
  },
  {
   "cell_type": "markdown",
   "id": "d54a1216-110b-41fb-872a-002871d51c4a",
   "metadata": {},
   "source": [
    "38. Create a program that filters a list of strings to include only those with more than three vowels using list comprehension."
   ]
  },
  {
   "cell_type": "code",
   "execution_count": null,
   "id": "26a0d01a-9d47-432e-98cb-ed75952dbc3d",
   "metadata": {},
   "outputs": [],
   "source": []
  }
 ],
 "metadata": {
  "kernelspec": {
   "display_name": "Python 3 (ipykernel)",
   "language": "python",
   "name": "python3"
  },
  "language_info": {
   "codemirror_mode": {
    "name": "ipython",
    "version": 3
   },
   "file_extension": ".py",
   "mimetype": "text/x-python",
   "name": "python",
   "nbconvert_exporter": "python",
   "pygments_lexer": "ipython3",
   "version": "3.10.8"
  }
 },
 "nbformat": 4,
 "nbformat_minor": 5
}
