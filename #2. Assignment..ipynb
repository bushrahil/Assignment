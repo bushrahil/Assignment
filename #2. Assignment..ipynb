{
 "cells": [
  {
   "cell_type": "code",
   "execution_count": 1,
   "id": "f7898fdb-8682-40d8-ac16-147011805ccf",
   "metadata": {},
   "outputs": [],
   "source": [
    "#1. Write a program to reverse a string."
   ]
  },
  {
   "cell_type": "code",
   "execution_count": 25,
   "id": "f9fe3282-43e4-4a75-af81-551246b5f9df",
   "metadata": {},
   "outputs": [],
   "source": [
    "#First we need to create a string\n",
    "s = 'we are going to reverse this string'"
   ]
  },
  {
   "cell_type": "code",
   "execution_count": 27,
   "id": "93129b17-2b81-4948-9ffa-ce8918d466bd",
   "metadata": {},
   "outputs": [
    {
     "data": {
      "text/plain": [
       "'we are going to reverse this string'"
      ]
     },
     "execution_count": 27,
     "metadata": {},
     "output_type": "execute_result"
    }
   ],
   "source": [
    "s"
   ]
  },
  {
   "cell_type": "code",
   "execution_count": 30,
   "id": "dadde7e9-8dca-44ec-9de8-7e0e08b9b3ff",
   "metadata": {},
   "outputs": [],
   "source": [
    "reversed_string = s[::-1]"
   ]
  },
  {
   "cell_type": "code",
   "execution_count": 31,
   "id": "e2910221-0ac3-409e-b90b-a6a2ee638873",
   "metadata": {},
   "outputs": [
    {
     "name": "stdout",
     "output_type": "stream",
     "text": [
      "gnirts siht esrever ot gniog era ew\n"
     ]
    }
   ],
   "source": [
    "print(reversed_string)"
   ]
  },
  {
   "cell_type": "code",
   "execution_count": 32,
   "id": "3d1a5f48-105a-49d3-9980-4c9ffc554ae2",
   "metadata": {},
   "outputs": [],
   "source": [
    "#2. Check if a string is a palindrome."
   ]
  },
  {
   "cell_type": "code",
   "execution_count": 38,
   "id": "3d99570c-0a3b-46c1-958c-afe62fd3bb04",
   "metadata": {},
   "outputs": [
    {
     "name": "stdin",
     "output_type": "stream",
     "text": [
      "Enter your string input Tell me your name\n"
     ]
    },
    {
     "name": "stdout",
     "output_type": "stream",
     "text": [
      "this is not a palindrome\n"
     ]
    }
   ],
   "source": [
    "s1 = input(\"Enter your string input\") #example of not a palindrome\n",
    "\n",
    "s2 = s1[::-1]\n",
    "\n",
    "if s1==s2:\n",
    "    print('Yes this is palindrome')\n",
    "else:\n",
    "    print('this is not a palindrome')"
   ]
  },
  {
   "cell_type": "code",
   "execution_count": 39,
   "id": "c5fca30f-39a0-4788-a510-35d8e2561366",
   "metadata": {},
   "outputs": [
    {
     "name": "stdin",
     "output_type": "stream",
     "text": [
      "Enter your string input ababa\n"
     ]
    },
    {
     "name": "stdout",
     "output_type": "stream",
     "text": [
      "Yes this is palindrome\n"
     ]
    }
   ],
   "source": [
    "s1 = input(\"Enter your string input\") #example of a palindrome\n",
    "\n",
    "s2 = s1[::-1]\n",
    "\n",
    "if s1==s2:\n",
    "    print('Yes this is palindrome')\n",
    "else:\n",
    "    print('this is not a palindrome')"
   ]
  },
  {
   "cell_type": "code",
   "execution_count": 40,
   "id": "65066625-d93f-49f7-8035-95a0b835cd01",
   "metadata": {},
   "outputs": [],
   "source": [
    "#3. Convert a string to uppercase."
   ]
  },
  {
   "cell_type": "code",
   "execution_count": 58,
   "id": "8dc40376-c94e-46da-a657-ab473deac621",
   "metadata": {},
   "outputs": [],
   "source": [
    "s3 = ('what are you doing today, I am going to complete my 2nd assignment')"
   ]
  },
  {
   "cell_type": "code",
   "execution_count": 59,
   "id": "810233b8-931e-4cca-a8fa-58fdb4037ff8",
   "metadata": {},
   "outputs": [
    {
     "data": {
      "text/plain": [
       "'what are you doing today, I am going to complete my 2nd assignment'"
      ]
     },
     "execution_count": 59,
     "metadata": {},
     "output_type": "execute_result"
    }
   ],
   "source": [
    "s3"
   ]
  },
  {
   "cell_type": "code",
   "execution_count": 62,
   "id": "fa1c3978-a7b9-4d44-b921-e5193dd92ad8",
   "metadata": {},
   "outputs": [
    {
     "data": {
      "text/plain": [
       "'WHAT ARE YOU DOING TODAY, I AM GOING TO COMPLETE MY 2ND ASSIGNMENT'"
      ]
     },
     "execution_count": 62,
     "metadata": {},
     "output_type": "execute_result"
    }
   ],
   "source": [
    "s3.upper()"
   ]
  },
  {
   "cell_type": "code",
   "execution_count": 63,
   "id": "6b59ddc5-6620-4490-bb15-9105d048b27e",
   "metadata": {},
   "outputs": [],
   "source": [
    "#4. Convert a string to lowercase."
   ]
  },
  {
   "cell_type": "code",
   "execution_count": 64,
   "id": "7b7c38c6-1ff5-4d4e-9215-b498fd362dc6",
   "metadata": {},
   "outputs": [],
   "source": [
    "s4 = 'WE ARE GOING TO CHANGE THIS TEXT TO LOWER CASE'"
   ]
  },
  {
   "cell_type": "code",
   "execution_count": 65,
   "id": "9750d234-824c-4164-bda2-ac433a8f47a7",
   "metadata": {},
   "outputs": [
    {
     "data": {
      "text/plain": [
       "'we are going to change this text to lower case'"
      ]
     },
     "execution_count": 65,
     "metadata": {},
     "output_type": "execute_result"
    }
   ],
   "source": [
    "s4.lower()"
   ]
  },
  {
   "cell_type": "code",
   "execution_count": 66,
   "id": "e51f4218-33fa-4187-bbe1-e3ba48dca61a",
   "metadata": {},
   "outputs": [],
   "source": [
    "#5. Count the number of vowels in a string."
   ]
  },
  {
   "cell_type": "code",
   "execution_count": 67,
   "id": "dc35daa7-729b-4f44-b22e-9d7c550a7605",
   "metadata": {},
   "outputs": [
    {
     "name": "stdin",
     "output_type": "stream",
     "text": [
      "Enter a string:  what we are going to do today?\n"
     ]
    },
    {
     "name": "stdout",
     "output_type": "stream",
     "text": [
      "Number of vowels in the string: 10\n"
     ]
    }
   ],
   "source": [
    "# Taking input from the user\n",
    "input_string = input(\"Enter a string: \")\n",
    "\n",
    "# Converting the input string to lowercase for case-insensitive counting\n",
    "input_string = input_string.lower()\n",
    "\n",
    "# Initializing a variable to count vowels\n",
    "vowel_count = 0\n",
    "\n",
    "# List of vowels\n",
    "vowels = \"aeiou\"\n",
    "\n",
    "# Counting the vowels in the input string\n",
    "for char in input_string:\n",
    "    if char in vowels:\n",
    "        vowel_count += 1\n",
    "\n",
    "# Displaying the count of vowels\n",
    "print(\"Number of vowels in the string:\", vowel_count)"
   ]
  },
  {
   "cell_type": "code",
   "execution_count": 68,
   "id": "fe1cb5e8-f114-457a-a89f-0a64c084185f",
   "metadata": {},
   "outputs": [],
   "source": [
    "#6. Count the number of consonants in a string."
   ]
  },
  {
   "cell_type": "code",
   "execution_count": 69,
   "id": "7c837eb6-01cf-4cdf-a0c6-8bf8dd473c7b",
   "metadata": {},
   "outputs": [
    {
     "name": "stdin",
     "output_type": "stream",
     "text": [
      "Enter a string:  what we are going to do today?\n"
     ]
    },
    {
     "name": "stdout",
     "output_type": "stream",
     "text": [
      "Number of consonants in the string: 13\n"
     ]
    }
   ],
   "source": [
    "# Taking input from the user\n",
    "input_string = input(\"Enter a string: \")\n",
    "\n",
    "# Converting the input string to lowercase for case-insensitive counting\n",
    "input_string = input_string.lower()\n",
    "\n",
    "# Initializing a variable to count consonants\n",
    "consonant_count = 0\n",
    "\n",
    "# List of vowels\n",
    "vowels = \"aeiou\"\n",
    "\n",
    "# Counting the consonants in the input string\n",
    "for char in input_string:\n",
    "    if char.isalpha() and char not in vowels:\n",
    "        consonant_count += 1\n",
    "\n",
    "# Displaying the count of consonants\n",
    "print(\"Number of consonants in the string:\", consonant_count)"
   ]
  },
  {
   "cell_type": "code",
   "execution_count": 70,
   "id": "f658d0d9-51cf-4ed6-b204-5f280954afc8",
   "metadata": {},
   "outputs": [],
   "source": [
    "#7. Remove all whitespaces from a string."
   ]
  },
  {
   "cell_type": "code",
   "execution_count": 1,
   "id": "614bb05f-90f1-4b1d-8ba3-0f8c25a98f00",
   "metadata": {},
   "outputs": [
    {
     "name": "stdin",
     "output_type": "stream",
     "text": [
      "Enter a string:  remove spaces\n"
     ]
    },
    {
     "name": "stdout",
     "output_type": "stream",
     "text": [
      "String with whitespaces removed: removespaces\n"
     ]
    }
   ],
   "source": [
    "# Taking input from the user\n",
    "input_string = input(\"Enter a string: \")\n",
    "\n",
    "# Removing whitespaces using the replace() method\n",
    "no_whitespace_string = input_string.replace(\" \", \"\")\n",
    "\n",
    "# Displaying the string with whitespaces removed\n",
    "print(\"String with whitespaces removed:\", no_whitespace_string)"
   ]
  },
  {
   "cell_type": "code",
   "execution_count": 2,
   "id": "3a7971c9-0307-47a3-a4d3-804d805fcce9",
   "metadata": {},
   "outputs": [],
   "source": [
    "#8. Find the length of a string without using the `len()` function."
   ]
  },
  {
   "cell_type": "code",
   "execution_count": 1,
   "id": "c1b8e8f5-5a73-459b-a55a-eca766fb45dd",
   "metadata": {},
   "outputs": [
    {
     "name": "stdout",
     "output_type": "stream",
     "text": [
      "Length of the string is: 13\n"
     ]
    }
   ],
   "source": [
    "def find_string_length(input_string):\n",
    "    length = 0\n",
    "    for char in input_string:\n",
    "        length += 1\n",
    "    return length\n",
    "\n",
    "# Example usage:\n",
    "my_string = \"Hello, World!\"\n",
    "length = find_string_length(my_string)\n",
    "print(\"Length of the string is:\", length)"
   ]
  },
  {
   "cell_type": "code",
   "execution_count": 2,
   "id": "3fa36b0c-4201-487c-9eaa-08f6b32e2e3e",
   "metadata": {},
   "outputs": [],
   "source": [
    "# 9. Check if a string contains a specific word."
   ]
  },
  {
   "cell_type": "code",
   "execution_count": 3,
   "id": "26fb1529-58de-471f-b3b3-34b76f8eed89",
   "metadata": {},
   "outputs": [
    {
     "name": "stdout",
     "output_type": "stream",
     "text": [
      "The string contains the word 'World'.\n"
     ]
    }
   ],
   "source": [
    "def contains_word(input_string, target_word):\n",
    "    return target_word in input_string\n",
    "\n",
    "# Example usage:\n",
    "my_string = \"Hello, World! How are you today?\"\n",
    "word_to_check = \"World\"\n",
    "\n",
    "if contains_word(my_string, word_to_check):\n",
    "    print(f\"The string contains the word '{word_to_check}'.\")\n",
    "else:\n",
    "    print(f\"The string does not contain the word '{word_to_check}'.\")"
   ]
  },
  {
   "cell_type": "code",
   "execution_count": 4,
   "id": "0463d816-1d5f-41ef-84bd-5c4396073e08",
   "metadata": {},
   "outputs": [],
   "source": [
    "# 10. Replace a word in a string with another word."
   ]
  },
  {
   "cell_type": "code",
   "execution_count": 5,
   "id": "75fecbaa-2731-4b35-888d-824d2b2f0ef1",
   "metadata": {},
   "outputs": [
    {
     "name": "stdout",
     "output_type": "stream",
     "text": [
      "Original String: Hello, World! How are you today?\n",
      "Modified String: Hello, Universe! How are you today?\n"
     ]
    }
   ],
   "source": [
    "def replace_word(input_string, old_word, new_word):\n",
    "    return input_string.replace(old_word, new_word)\n",
    "\n",
    "# Example usage:\n",
    "original_string = \"Hello, World! How are you today?\"\n",
    "word_to_replace = \"World\"\n",
    "replacement_word = \"Universe\"\n",
    "\n",
    "result_string = replace_word(original_string, word_to_replace, replacement_word)\n",
    "print(\"Original String:\", original_string)\n",
    "print(\"Modified String:\", result_string)"
   ]
  },
  {
   "cell_type": "code",
   "execution_count": 6,
   "id": "fa648752-e9d2-428b-a364-3e3a6104887f",
   "metadata": {},
   "outputs": [],
   "source": [
    "# 11. Count the occurrences of a word in a string."
   ]
  },
  {
   "cell_type": "code",
   "execution_count": 7,
   "id": "b2958085-2064-43db-96f2-0e23aac13790",
   "metadata": {},
   "outputs": [
    {
     "name": "stdout",
     "output_type": "stream",
     "text": [
      "The word 'test' appears 1 times in the string.\n"
     ]
    }
   ],
   "source": [
    "def count_word_occurrences(input_string, word_to_count):\n",
    "    # Split the input string into words using spaces as separators\n",
    "    words = input_string.split()\n",
    "    \n",
    "    # Initialize a counter for word occurrences\n",
    "    count = 0\n",
    "    \n",
    "    # Iterate through the words and count occurrences\n",
    "    for word in words:\n",
    "        if word == word_to_count:\n",
    "            count += 1\n",
    "    \n",
    "    return count\n",
    "\n",
    "# Example usage:\n",
    "my_string = \"This is a test. This test is just an example test.\"\n",
    "word_to_count = \"test\"\n",
    "\n",
    "occurrences = count_word_occurrences(my_string, word_to_count)\n",
    "print(f\"The word '{word_to_count}' appears {occurrences} times in the string.\")"
   ]
  },
  {
   "cell_type": "code",
   "execution_count": 8,
   "id": "05176e62-4660-45d3-8282-9c6b16ff288d",
   "metadata": {},
   "outputs": [],
   "source": [
    "#12. Find the first occurrence of a word in a string."
   ]
  },
  {
   "cell_type": "code",
   "execution_count": 9,
   "id": "d5d49380-137e-4d96-a437-9148b076f934",
   "metadata": {},
   "outputs": [
    {
     "name": "stdout",
     "output_type": "stream",
     "text": [
      "The first occurrence of 'test' starts at index 10.\n"
     ]
    }
   ],
   "source": [
    "def find_first_occurrence(input_string, word_to_find):\n",
    "    index = input_string.find(word_to_find)\n",
    "    return index\n",
    "\n",
    "# Example usage:\n",
    "my_string = \"This is a test. This test is just an example test.\"\n",
    "word_to_find = \"test\"\n",
    "\n",
    "index = find_first_occurrence(my_string, word_to_find)\n",
    "\n",
    "if index != -1:\n",
    "    print(f\"The first occurrence of '{word_to_find}' starts at index {index}.\")\n",
    "else:\n",
    "    print(f\"'{word_to_find}' not found in the string.\")"
   ]
  },
  {
   "cell_type": "code",
   "execution_count": 10,
   "id": "aaa393b9-b164-40eb-b8fa-751414fca462",
   "metadata": {},
   "outputs": [],
   "source": [
    "# 13. Find the last occurrence of a word in a string."
   ]
  },
  {
   "cell_type": "code",
   "execution_count": 11,
   "id": "64b404f1-048f-42a0-9633-75275b431873",
   "metadata": {},
   "outputs": [
    {
     "name": "stdout",
     "output_type": "stream",
     "text": [
      "The last occurrence of 'test' starts at index 45.\n"
     ]
    }
   ],
   "source": [
    "def find_last_occurrence(input_string, word_to_find):\n",
    "    index = input_string.rfind(word_to_find)\n",
    "    return index\n",
    "\n",
    "# Example usage:\n",
    "my_string = \"This is a test. This test is just an example test.\"\n",
    "word_to_find = \"test\"\n",
    "\n",
    "index = find_last_occurrence(my_string, word_to_find)\n",
    "\n",
    "if index != -1:\n",
    "    print(f\"The last occurrence of '{word_to_find}' starts at index {index}.\")\n",
    "else:\n",
    "    print(f\"'{word_to_find}' not found in the string.\")"
   ]
  },
  {
   "cell_type": "code",
   "execution_count": 12,
   "id": "508f70b6-9d4f-454a-afa8-1a84cffebb5f",
   "metadata": {},
   "outputs": [],
   "source": [
    "# 14. Split a string into a list of words."
   ]
  },
  {
   "cell_type": "code",
   "execution_count": 13,
   "id": "92e5cc4c-bb36-4bc9-bd80-0d5f20acbd9f",
   "metadata": {},
   "outputs": [
    {
     "name": "stdout",
     "output_type": "stream",
     "text": [
      "['This', 'is', 'a', 'test.', 'This', 'test', 'is', 'just', 'an', 'example', 'test.']\n"
     ]
    }
   ],
   "source": [
    "def split_into_words(input_string):\n",
    "    words = input_string.split()\n",
    "    return words\n",
    "\n",
    "# Example usage:\n",
    "my_string = \"This is a test. This test is just an example test.\"\n",
    "\n",
    "word_list = split_into_words(my_string)\n",
    "print(word_list)"
   ]
  },
  {
   "cell_type": "code",
   "execution_count": 14,
   "id": "fd196238-8884-4ae4-9ba0-483e7e8859f3",
   "metadata": {},
   "outputs": [],
   "source": [
    "# 15. Join a list of words into a string."
   ]
  },
  {
   "cell_type": "code",
   "execution_count": 15,
   "id": "7c8f9b6a-456f-4daf-86b4-8cf841fd4863",
   "metadata": {},
   "outputs": [
    {
     "name": "stdout",
     "output_type": "stream",
     "text": [
      "This is a list of words\n"
     ]
    }
   ],
   "source": [
    "def join_words(word_list):\n",
    "    joined_string = ' '.join(word_list)\n",
    "    return joined_string\n",
    "\n",
    "# Example usage:\n",
    "word_list = ['This', 'is', 'a', 'list', 'of', 'words']\n",
    "\n",
    "joined_string = join_words(word_list)\n",
    "print(joined_string)"
   ]
  },
  {
   "cell_type": "code",
   "execution_count": 16,
   "id": "794f7337-9ce9-4358-8e10-67663fe15edc",
   "metadata": {},
   "outputs": [],
   "source": [
    "# 16. Convert a string where words are separated by spaces to one where words are separated by underscores."
   ]
  },
  {
   "cell_type": "code",
   "execution_count": 17,
   "id": "36d4f2a5-6d24-4c77-bd6e-b830c6666033",
   "metadata": {},
   "outputs": [
    {
     "name": "stdout",
     "output_type": "stream",
     "text": [
      "This_is_a_sample_string_with_spaces.\n"
     ]
    }
   ],
   "source": [
    "def convert_spaces_to_underscores(input_string):\n",
    "    modified_string = input_string.replace(' ', '_')\n",
    "    return modified_string\n",
    "\n",
    "# Example usage:\n",
    "original_string = \"This is a sample string with spaces.\"\n",
    "\n",
    "underscored_string = convert_spaces_to_underscores(original_string)\n",
    "print(underscored_string)"
   ]
  },
  {
   "cell_type": "code",
   "execution_count": 18,
   "id": "c0ff5a08-df9e-4ffa-8f34-c6ae6822c1c4",
   "metadata": {},
   "outputs": [],
   "source": [
    "# 17. Check if a string starts with a specific word or phrase."
   ]
  },
  {
   "cell_type": "code",
   "execution_count": 19,
   "id": "419b99b3-0cd4-48c3-87ad-5969173aa20f",
   "metadata": {},
   "outputs": [
    {
     "name": "stdout",
     "output_type": "stream",
     "text": [
      "The string starts with 'Hello'.\n"
     ]
    }
   ],
   "source": [
    "def starts_with(input_string, prefix):\n",
    "    return input_string.startswith(prefix)\n",
    "\n",
    "# Example usage:\n",
    "my_string = \"Hello, World!\"\n",
    "prefix_to_check = \"Hello\"\n",
    "\n",
    "if starts_with(my_string, prefix_to_check):\n",
    "    print(f\"The string starts with '{prefix_to_check}'.\")\n",
    "else:\n",
    "    print(f\"The string does not start with '{prefix_to_check}'.\")"
   ]
  },
  {
   "cell_type": "code",
   "execution_count": 20,
   "id": "c77d133c-e4a4-4eaa-8c45-8141da73d980",
   "metadata": {},
   "outputs": [],
   "source": [
    "# 18. Check if a string ends with a specific word or phrase."
   ]
  },
  {
   "cell_type": "code",
   "execution_count": 21,
   "id": "7e50ceb3-34fc-431f-a754-84524d76dbb3",
   "metadata": {},
   "outputs": [
    {
     "name": "stdout",
     "output_type": "stream",
     "text": [
      "The string ends with 'World!'.\n"
     ]
    }
   ],
   "source": [
    "def ends_with(input_string, suffix):\n",
    "    return input_string.endswith(suffix)\n",
    "\n",
    "# Example usage:\n",
    "my_string = \"Hello, World!\"\n",
    "suffix_to_check = \"World!\"\n",
    "\n",
    "if ends_with(my_string, suffix_to_check):\n",
    "    print(f\"The string ends with '{suffix_to_check}'.\")\n",
    "else:\n",
    "    print(f\"The string does not end with '{suffix_to_check}'.\")"
   ]
  },
  {
   "cell_type": "code",
   "execution_count": 22,
   "id": "0fde138a-d0db-4a12-8d38-9f92809c699e",
   "metadata": {},
   "outputs": [],
   "source": [
    "# 19. Convert a string to title case (e.g., \"hello world\" to \"Hello World\")."
   ]
  },
  {
   "cell_type": "code",
   "execution_count": 23,
   "id": "ce0bc5e8-f7c5-437f-a425-5e54b57c6b7f",
   "metadata": {},
   "outputs": [
    {
     "name": "stdout",
     "output_type": "stream",
     "text": [
      "Hello World\n"
     ]
    }
   ],
   "source": [
    "def to_title_case(input_string):\n",
    "    return input_string.title()\n",
    "\n",
    "# Example usage:\n",
    "my_string = \"hello world\"\n",
    "\n",
    "title_case_string = to_title_case(my_string)\n",
    "print(title_case_string)"
   ]
  },
  {
   "cell_type": "code",
   "execution_count": 24,
   "id": "0148cba1-cfc0-44c2-9b53-2dc7d83c63b7",
   "metadata": {},
   "outputs": [],
   "source": [
    "# 20. Find the longest word in a string."
   ]
  },
  {
   "cell_type": "code",
   "execution_count": 25,
   "id": "f5aea5e3-21bf-4e83-bc9b-fc81c2199906",
   "metadata": {},
   "outputs": [
    {
     "name": "stdout",
     "output_type": "stream",
     "text": [
      "The longest word is: 'different'\n"
     ]
    }
   ],
   "source": [
    "def find_longest_word(input_string):\n",
    "    words = input_string.split()\n",
    "    longest_word = \"\"\n",
    "\n",
    "    for word in words:\n",
    "        if len(word) > len(longest_word):\n",
    "            longest_word = word\n",
    "\n",
    "    return longest_word\n",
    "\n",
    "# Example usage:\n",
    "my_string = \"This is a sample sentence with several words of different lengths.\"\n",
    "\n",
    "longest = find_longest_word(my_string)\n",
    "print(f\"The longest word is: '{longest}'\")"
   ]
  },
  {
   "cell_type": "code",
   "execution_count": 26,
   "id": "ebf1f98c-8470-48d0-942f-c79b2b26e384",
   "metadata": {},
   "outputs": [],
   "source": [
    "# 21. Find the shortest word in a string."
   ]
  },
  {
   "cell_type": "code",
   "execution_count": 27,
   "id": "f88e994c-f36c-4cea-98b3-1ee4d5041dce",
   "metadata": {},
   "outputs": [
    {
     "name": "stdout",
     "output_type": "stream",
     "text": [
      "The shortest word is: 'a'\n"
     ]
    }
   ],
   "source": [
    "def find_shortest_word(input_string):\n",
    "    words = input_string.split()\n",
    "    \n",
    "    # Initialize shortest_word with the first word in the list\n",
    "    shortest_word = words[0]\n",
    "\n",
    "    for word in words:\n",
    "        if len(word) < len(shortest_word):\n",
    "            shortest_word = word\n",
    "\n",
    "    return shortest_word\n",
    "\n",
    "# Example usage:\n",
    "my_string = \"This is a sample sentence with several words of different lengths.\"\n",
    "\n",
    "shortest = find_shortest_word(my_string)\n",
    "print(f\"The shortest word is: '{shortest}'\")"
   ]
  },
  {
   "cell_type": "code",
   "execution_count": 28,
   "id": "dfc4c91a-c0b6-46cd-98e1-b3a23e827566",
   "metadata": {},
   "outputs": [],
   "source": [
    "# 22. Reverse the order of words in a string."
   ]
  },
  {
   "cell_type": "code",
   "execution_count": 29,
   "id": "36bff379-ee34-4462-9bce-401238dbbdcf",
   "metadata": {},
   "outputs": [
    {
     "name": "stdout",
     "output_type": "stream",
     "text": [
      "string. sample a is This\n"
     ]
    }
   ],
   "source": [
    "def reverse_words(input_string):\n",
    "    words = input_string.split()\n",
    "    reversed_string = ' '.join(reversed(words))\n",
    "    return reversed_string\n",
    "\n",
    "# Example usage:\n",
    "my_string = \"This is a sample string.\"\n",
    "\n",
    "reversed_string = reverse_words(my_string)\n",
    "print(reversed_string)"
   ]
  },
  {
   "cell_type": "code",
   "execution_count": 30,
   "id": "66c48dc1-ed5f-415a-a077-ab5c3d36af20",
   "metadata": {},
   "outputs": [],
   "source": [
    "# 23. Check if a string is alphanumeric."
   ]
  },
  {
   "cell_type": "code",
   "execution_count": 31,
   "id": "90692632-eee6-46ea-a8f4-a7289487ddff",
   "metadata": {},
   "outputs": [
    {
     "name": "stdout",
     "output_type": "stream",
     "text": [
      "'Hello123' is alphanumeric.\n",
      "'Hello 123!' is not alphanumeric.\n"
     ]
    }
   ],
   "source": [
    "def is_alphanumeric(input_string):\n",
    "    return input_string.isalnum()\n",
    "\n",
    "# Example usage:\n",
    "string1 = \"Hello123\"\n",
    "string2 = \"Hello 123!\"  # Contains spaces and special characters\n",
    "\n",
    "if is_alphanumeric(string1):\n",
    "    print(f\"'{string1}' is alphanumeric.\")\n",
    "else:\n",
    "    print(f\"'{string1}' is not alphanumeric.\")\n",
    "\n",
    "if is_alphanumeric(string2):\n",
    "    print(f\"'{string2}' is alphanumeric.\")\n",
    "else:\n",
    "    print(f\"'{string2}' is not alphanumeric.\")"
   ]
  },
  {
   "cell_type": "code",
   "execution_count": 32,
   "id": "abcfda2d-b1e0-4a1e-9379-f0f49939fdbe",
   "metadata": {},
   "outputs": [],
   "source": [
    "# 24. Extract all digits from a string."
   ]
  },
  {
   "cell_type": "code",
   "execution_count": 33,
   "id": "6466f2f9-86cb-4430-983d-df291a430075",
   "metadata": {},
   "outputs": [
    {
     "name": "stdout",
     "output_type": "stream",
     "text": [
      "123456\n"
     ]
    }
   ],
   "source": [
    "import re\n",
    "\n",
    "def extract_digits(input_string):\n",
    "    return ''.join(re.findall(r'\\d', input_string))\n",
    "\n",
    "# Example usage:\n",
    "my_string = \"Hello 123 World 456!\"\n",
    "\n",
    "digits = extract_digits(my_string)\n",
    "print(digits)"
   ]
  },
  {
   "cell_type": "code",
   "execution_count": 34,
   "id": "54b96a28-b93c-4660-b908-4c7c3afc61fa",
   "metadata": {},
   "outputs": [],
   "source": [
    "# 25. Extract all alphabets from a string."
   ]
  },
  {
   "cell_type": "code",
   "execution_count": 35,
   "id": "349f5b4b-4fc3-440b-9b74-32a66a9eee73",
   "metadata": {},
   "outputs": [
    {
     "name": "stdout",
     "output_type": "stream",
     "text": [
      "HelloWorld\n"
     ]
    }
   ],
   "source": [
    "import re\n",
    "\n",
    "def extract_letters(input_string):\n",
    "    return ''.join(re.findall(r'[a-zA-Z]', input_string))\n",
    "\n",
    "# Example usage:\n",
    "my_string = \"Hello 123 World!\"\n",
    "\n",
    "letters = extract_letters(my_string)\n",
    "print(letters)"
   ]
  },
  {
   "cell_type": "code",
   "execution_count": 36,
   "id": "a89b0c71-e3ce-4139-96e5-14f2d9795eaa",
   "metadata": {},
   "outputs": [],
   "source": [
    "# 26. Count the number of uppercase letters in a string."
   ]
  },
  {
   "cell_type": "code",
   "execution_count": 37,
   "id": "7ad5e88a-4ada-41a7-8ba6-ec6726fd2a40",
   "metadata": {},
   "outputs": [
    {
     "name": "stdout",
     "output_type": "stream",
     "text": [
      "Number of uppercase letters: 5\n"
     ]
    }
   ],
   "source": [
    "def count_uppercase_letters(input_string):\n",
    "    count = 0\n",
    "    for char in input_string:\n",
    "        if char.isupper():\n",
    "            count += 1\n",
    "    return count\n",
    "\n",
    "# Example usage:\n",
    "my_string = \"Hello World! How Are You?\"\n",
    "\n",
    "uppercase_count = count_uppercase_letters(my_string)\n",
    "print(\"Number of uppercase letters:\", uppercase_count)"
   ]
  },
  {
   "cell_type": "code",
   "execution_count": 38,
   "id": "b038ab43-7383-4c9c-ae46-6a1266548cee",
   "metadata": {},
   "outputs": [],
   "source": [
    "# 27. Count the number of lowercase letters in a string."
   ]
  },
  {
   "cell_type": "code",
   "execution_count": 39,
   "id": "d7c13066-d98f-4bcd-8405-a40bad6f283c",
   "metadata": {},
   "outputs": [
    {
     "name": "stdout",
     "output_type": "stream",
     "text": [
      "Number of lowercase letters: 14\n"
     ]
    }
   ],
   "source": [
    "def count_lowercase_letters(input_string):\n",
    "    count = 0\n",
    "    for char in input_string:\n",
    "        if char.islower():\n",
    "            count += 1\n",
    "    return count\n",
    "\n",
    "# Example usage:\n",
    "my_string = \"Hello World! How Are You?\"\n",
    "\n",
    "lowercase_count = count_lowercase_letters(my_string)\n",
    "print(\"Number of lowercase letters:\", lowercase_count)"
   ]
  },
  {
   "cell_type": "code",
   "execution_count": 40,
   "id": "9200efa0-c551-43b8-8d5c-419e7e0b8a5e",
   "metadata": {},
   "outputs": [],
   "source": [
    "# 28. Swap the case of each character in a string."
   ]
  },
  {
   "cell_type": "code",
   "execution_count": 41,
   "id": "3aaf8b8e-4de0-4c11-94cd-3cea5b5f1b05",
   "metadata": {},
   "outputs": [
    {
     "name": "stdout",
     "output_type": "stream",
     "text": [
      "hELLO wORLD!\n"
     ]
    }
   ],
   "source": [
    "def swap_case(input_string):\n",
    "    return input_string.swapcase()\n",
    "\n",
    "# Example usage:\n",
    "my_string = \"Hello World!\"\n",
    "\n",
    "swapped_string = swap_case(my_string)\n",
    "print(swapped_string)"
   ]
  },
  {
   "cell_type": "code",
   "execution_count": 42,
   "id": "51e370ee-6bd7-4f73-b505-d08f5429d4af",
   "metadata": {},
   "outputs": [],
   "source": [
    "# 29. Remove a specific word from a string."
   ]
  },
  {
   "cell_type": "code",
   "execution_count": 43,
   "id": "55287653-7c4d-4e86-b8c8-aa13f7557577",
   "metadata": {},
   "outputs": [
    {
     "name": "stdout",
     "output_type": "stream",
     "text": [
      "This is a  sentence. This sentence contains the word ''.\n"
     ]
    }
   ],
   "source": [
    "def remove_word(input_string, word_to_remove):\n",
    "    return input_string.replace(word_to_remove, '')\n",
    "\n",
    "# Example usage:\n",
    "my_string = \"This is a sample sentence. This sentence contains the word 'sample'.\"\n",
    "\n",
    "word_to_remove = \"sample\"\n",
    "\n",
    "result_string = remove_word(my_string, word_to_remove)\n",
    "print(result_string)"
   ]
  },
  {
   "cell_type": "code",
   "execution_count": 44,
   "id": "1d007923-6880-4faa-8737-3b26d595b345",
   "metadata": {},
   "outputs": [],
   "source": [
    "# 30. Check if a string is a valid email address."
   ]
  },
  {
   "cell_type": "code",
   "execution_count": 45,
   "id": "933dc2e2-8698-4eb5-9e69-033c4a508a00",
   "metadata": {},
   "outputs": [
    {
     "name": "stdout",
     "output_type": "stream",
     "text": [
      "'example@email.com' is a valid email: True\n",
      "'invalid-email' is a valid email: False\n",
      "'another.example.com' is a valid email: False\n"
     ]
    }
   ],
   "source": [
    "import re\n",
    "\n",
    "def is_valid_email(email):\n",
    "    # Define a basic email pattern using regular expressions\n",
    "    email_pattern = r'^[a-zA-Z0-9._%+-]+@[a-zA-Z0-9.-]+\\.[a-zA-Z]{2,}$'\n",
    "    \n",
    "    # Use the re.match() function to check if the string matches the pattern\n",
    "    if re.match(email_pattern, email):\n",
    "        return True\n",
    "    else:\n",
    "        return False\n",
    "\n",
    "# Example usage:\n",
    "email1 = \"example@email.com\"\n",
    "email2 = \"invalid-email\"\n",
    "email3 = \"another.example.com\"\n",
    "\n",
    "print(f\"'{email1}' is a valid email: {is_valid_email(email1)}\")\n",
    "print(f\"'{email2}' is a valid email: {is_valid_email(email2)}\")\n",
    "print(f\"'{email3}' is a valid email: {is_valid_email(email3)}\")"
   ]
  },
  {
   "cell_type": "code",
   "execution_count": 46,
   "id": "dc3566e3-4325-4a2d-a542-215c595aef9a",
   "metadata": {},
   "outputs": [],
   "source": [
    "# 31. Extract the username from an email address string."
   ]
  },
  {
   "cell_type": "code",
   "execution_count": 47,
   "id": "3fef88ce-89d4-4436-9397-b8cc45d57886",
   "metadata": {},
   "outputs": [
    {
     "name": "stdout",
     "output_type": "stream",
     "text": [
      "The username is: user\n"
     ]
    }
   ],
   "source": [
    "def extract_username(email):\n",
    "    parts = email.split('@')\n",
    "    if len(parts) == 2:\n",
    "        return parts[0]\n",
    "    else:\n",
    "        return None\n",
    "\n",
    "# Example usage:\n",
    "email = \"user@example.com\"\n",
    "\n",
    "username = extract_username(email)\n",
    "if username:\n",
    "    print(f\"The username is: {username}\")\n",
    "else:\n",
    "    print(\"Invalid email address format.\")\n"
   ]
  },
  {
   "cell_type": "code",
   "execution_count": 48,
   "id": "f8c19540-297c-437e-ab14-3bb84a0b74e8",
   "metadata": {},
   "outputs": [],
   "source": [
    "# 32. Extract the domain name from an email address string."
   ]
  },
  {
   "cell_type": "code",
   "execution_count": 49,
   "id": "55da9a6f-c9db-47ff-b61b-446864dac181",
   "metadata": {},
   "outputs": [
    {
     "name": "stdout",
     "output_type": "stream",
     "text": [
      "The domain name is: example.com\n"
     ]
    }
   ],
   "source": [
    "def extract_domain(email):\n",
    "    parts = email.split('@')\n",
    "    if len(parts) == 2:\n",
    "        return parts[1]\n",
    "    else:\n",
    "        return None\n",
    "\n",
    "# Example usage:\n",
    "email = \"user@example.com\"\n",
    "\n",
    "domain = extract_domain(email)\n",
    "if domain:\n",
    "    print(f\"The domain name is: {domain}\")\n",
    "else:\n",
    "    print(\"Invalid email address format.\")"
   ]
  },
  {
   "cell_type": "code",
   "execution_count": 50,
   "id": "35fd94b4-2987-4521-ae86-fe2a7e1038ad",
   "metadata": {},
   "outputs": [],
   "source": [
    "# 33. Replace multiple spaces in a string with a single space."
   ]
  },
  {
   "cell_type": "code",
   "execution_count": 51,
   "id": "5dc3aa25-37af-487d-abcb-dfd9ccf0b1f4",
   "metadata": {},
   "outputs": [
    {
     "name": "stdout",
     "output_type": "stream",
     "text": [
      "This is a string with multiple spaces.\n"
     ]
    }
   ],
   "source": [
    "import re\n",
    "\n",
    "def replace_multiple_spaces(input_string):\n",
    "    return re.sub(r'\\s+', ' ', input_string)\n",
    "\n",
    "# Example usage:\n",
    "my_string = \"This   is   a    string   with   multiple    spaces.\"\n",
    "\n",
    "cleaned_string = replace_multiple_spaces(my_string)\n",
    "print(cleaned_string)"
   ]
  },
  {
   "cell_type": "code",
   "execution_count": 52,
   "id": "31634192-54eb-4d1f-8a94-94871b02d0e0",
   "metadata": {},
   "outputs": [],
   "source": [
    "# 34. Check if a string is a valid URL."
   ]
  },
  {
   "cell_type": "code",
   "execution_count": 53,
   "id": "ab72ff56-ab6a-42de-9167-27dec0c4494a",
   "metadata": {},
   "outputs": [
    {
     "name": "stdout",
     "output_type": "stream",
     "text": [
      "'http://www.example.com' is a valid URL: True\n",
      "'https://example.com' is a valid URL: True\n",
      "'ftp://invalid-url' is a valid URL: False\n",
      "'not_a_url' is a valid URL: False\n"
     ]
    }
   ],
   "source": [
    "from urllib.parse import urlparse\n",
    "\n",
    "def is_valid_url(url):\n",
    "    try:\n",
    "        parsed_url = urlparse(url)\n",
    "        return parsed_url.scheme in ('http', 'https') and parsed_url.netloc != ''\n",
    "    except ValueError:\n",
    "        return False\n",
    "\n",
    "# Example usage:\n",
    "url1 = \"http://www.example.com\"\n",
    "url2 = \"https://example.com\"\n",
    "url3 = \"ftp://invalid-url\"\n",
    "url4 = \"not_a_url\"\n",
    "\n",
    "print(f\"'{url1}' is a valid URL: {is_valid_url(url1)}\")\n",
    "print(f\"'{url2}' is a valid URL: {is_valid_url(url2)}\")\n",
    "print(f\"'{url3}' is a valid URL: {is_valid_url(url3)}\")\n",
    "print(f\"'{url4}' is a valid URL: {is_valid_url(url4)}\")"
   ]
  },
  {
   "cell_type": "code",
   "execution_count": 54,
   "id": "c3412d41-52e2-479b-a52a-21f0e3eacaad",
   "metadata": {},
   "outputs": [],
   "source": [
    "# 35. Extract the protocol (http or https) from a URL string."
   ]
  },
  {
   "cell_type": "code",
   "execution_count": 55,
   "id": "2bc48f0f-8e35-4cb0-8316-70014d389d41",
   "metadata": {},
   "outputs": [
    {
     "name": "stdout",
     "output_type": "stream",
     "text": [
      "Protocol of 'http://www.example.com': http\n",
      "Protocol of 'https://example.com': https\n",
      "Protocol of 'ftp://invalid-url': None\n",
      "Protocol of 'not_a_url': None\n"
     ]
    }
   ],
   "source": [
    "from urllib.parse import urlparse\n",
    "\n",
    "def extract_protocol(url):\n",
    "    try:\n",
    "        parsed_url = urlparse(url)\n",
    "        if parsed_url.scheme in ('http', 'https'):\n",
    "            return parsed_url.scheme\n",
    "        else:\n",
    "            return None\n",
    "    except ValueError:\n",
    "        return None\n",
    "\n",
    "# Example usage:\n",
    "url1 = \"http://www.example.com\"\n",
    "url2 = \"https://example.com\"\n",
    "url3 = \"ftp://invalid-url\"\n",
    "url4 = \"not_a_url\"\n",
    "\n",
    "protocol1 = extract_protocol(url1)\n",
    "protocol2 = extract_protocol(url2)\n",
    "protocol3 = extract_protocol(url3)\n",
    "protocol4 = extract_protocol(url4)\n",
    "\n",
    "print(f\"Protocol of '{url1}': {protocol1}\")\n",
    "print(f\"Protocol of '{url2}': {protocol2}\")\n",
    "print(f\"Protocol of '{url3}': {protocol3}\")\n",
    "print(f\"Protocol of '{url4}': {protocol4}\")"
   ]
  },
  {
   "cell_type": "code",
   "execution_count": 56,
   "id": "2a32c611-e059-46c9-834e-4635e0d9211a",
   "metadata": {},
   "outputs": [],
   "source": [
    "# 36. Find the frequency of each character in a string."
   ]
  },
  {
   "cell_type": "code",
   "execution_count": 57,
   "id": "561852ce-f761-45bc-b5f4-3deec0feed97",
   "metadata": {},
   "outputs": [
    {
     "name": "stdout",
     "output_type": "stream",
     "text": [
      "'H' occurs 1 times\n",
      "'e' occurs 1 times\n",
      "'l' occurs 3 times\n",
      "'o' occurs 2 times\n",
      "',' occurs 1 times\n",
      "'W' occurs 1 times\n",
      "'r' occurs 1 times\n",
      "'d' occurs 1 times\n",
      "'!' occurs 1 times\n"
     ]
    }
   ],
   "source": [
    "def character_frequency(input_string):\n",
    "    # Initialize an empty dictionary to store character frequencies\n",
    "    frequency_dict = {}\n",
    "\n",
    "    # Iterate through the characters in the input string\n",
    "    for char in input_string:\n",
    "        # Check if the character is not a space (you can modify this condition as needed)\n",
    "        if char != ' ':\n",
    "            # Use the get() method to increment the count for each character\n",
    "            frequency_dict[char] = frequency_dict.get(char, 0) + 1\n",
    "\n",
    "    return frequency_dict\n",
    "\n",
    "# Example usage:\n",
    "my_string = \"Hello, World!\"\n",
    "\n",
    "char_freq = character_frequency(my_string)\n",
    "for char, count in char_freq.items():\n",
    "    print(f\"'{char}' occurs {count} times\")"
   ]
  },
  {
   "cell_type": "code",
   "execution_count": 58,
   "id": "09119026-669b-4d5c-9cf0-9dd88e986147",
   "metadata": {},
   "outputs": [],
   "source": [
    "# 37. Remove all punctuation from a string."
   ]
  },
  {
   "cell_type": "code",
   "execution_count": 59,
   "id": "df2dd3fd-bae6-46ce-b4ca-309c5a1136ed",
   "metadata": {},
   "outputs": [
    {
     "name": "stdout",
     "output_type": "stream",
     "text": [
      "Hello World This is an example string\n"
     ]
    }
   ],
   "source": [
    "import re\n",
    "import string\n",
    "\n",
    "def remove_punctuation(input_string):\n",
    "    # Define a regular expression pattern to match punctuation characters\n",
    "    punctuation_pattern = re.compile('[%s]' % re.escape(string.punctuation))\n",
    "    \n",
    "    # Use re.sub() to replace punctuation characters with an empty string\n",
    "    cleaned_string = punctuation_pattern.sub('', input_string)\n",
    "    \n",
    "    return cleaned_string\n",
    "\n",
    "# Example usage:\n",
    "my_string = \"Hello, World! This is an example string.\"\n",
    "\n",
    "cleaned_string = remove_punctuation(my_string)\n",
    "print(cleaned_string)"
   ]
  },
  {
   "cell_type": "code",
   "execution_count": 60,
   "id": "cbdbbd24-8d7f-4360-9973-5f6f726e9ba4",
   "metadata": {},
   "outputs": [],
   "source": [
    "# 38. Check if a string contains only digits."
   ]
  },
  {
   "cell_type": "code",
   "execution_count": 61,
   "id": "1fa94e4a-0c31-4044-ba88-82906b38704f",
   "metadata": {},
   "outputs": [
    {
     "name": "stdout",
     "output_type": "stream",
     "text": [
      "'12345' contains only digits: True\n",
      "'12abc34' contains only digits: False\n",
      "'  567  ' contains only digits: False\n"
     ]
    }
   ],
   "source": [
    "def contains_only_digits(input_string):\n",
    "    return input_string.isdigit()\n",
    "\n",
    "# Example usage:\n",
    "string1 = \"12345\"\n",
    "string2 = \"12abc34\"\n",
    "string3 = \"  567  \"\n",
    "\n",
    "print(f\"'{string1}' contains only digits: {contains_only_digits(string1)}\")\n",
    "print(f\"'{string2}' contains only digits: {contains_only_digits(string2)}\")\n",
    "print(f\"'{string3}' contains only digits: {contains_only_digits(string3)}\")"
   ]
  },
  {
   "cell_type": "code",
   "execution_count": 62,
   "id": "76176cf0-ef5c-4df8-8757-753bbeb101e3",
   "metadata": {},
   "outputs": [],
   "source": [
    "# 39. Check if a string contains only alphabets."
   ]
  },
  {
   "cell_type": "code",
   "execution_count": 63,
   "id": "ee65f4ac-15f5-4e46-9f63-1e5ede8ead5d",
   "metadata": {},
   "outputs": [
    {
     "name": "stdout",
     "output_type": "stream",
     "text": [
      "'Hello' contains only alphabets: True\n",
      "'Hello123' contains only alphabets: False\n",
      "'12345' contains only alphabets: False\n"
     ]
    }
   ],
   "source": [
    "def contains_only_alphabets(input_string):\n",
    "    return input_string.isalpha()\n",
    "\n",
    "# Example usage:\n",
    "string1 = \"Hello\"\n",
    "string2 = \"Hello123\"\n",
    "string3 = \"12345\"\n",
    "\n",
    "print(f\"'{string1}' contains only alphabets: {contains_only_alphabets(string1)}\")\n",
    "print(f\"'{string2}' contains only alphabets: {contains_only_alphabets(string2)}\")\n",
    "print(f\"'{string3}' contains only alphabets: {contains_only_alphabets(string3)}\")\n"
   ]
  },
  {
   "cell_type": "code",
   "execution_count": 64,
   "id": "6fadb84d-0715-4c8c-a541-c62663cc84f3",
   "metadata": {},
   "outputs": [],
   "source": [
    "# 40. Convert a string to a list of characters."
   ]
  },
  {
   "cell_type": "code",
   "execution_count": 65,
   "id": "04a7ef1b-f033-42df-8dba-984e86526f30",
   "metadata": {},
   "outputs": [
    {
     "name": "stdout",
     "output_type": "stream",
     "text": [
      "['H', 'e', 'l', 'l', 'o', ',', ' ', 'W', 'o', 'r', 'l', 'd', '!']\n"
     ]
    }
   ],
   "source": [
    "def string_to_list(input_string):\n",
    "    char_list = []\n",
    "    for char in input_string:\n",
    "        char_list.append(char)\n",
    "    return char_list\n",
    "\n",
    "# Example usage:\n",
    "my_string = \"Hello, World!\"\n",
    "\n",
    "char_list = string_to_list(my_string)\n",
    "print(char_list)\n"
   ]
  },
  {
   "cell_type": "code",
   "execution_count": 66,
   "id": "fa09fdbc-0900-4f83-a72e-520c31e7ac64",
   "metadata": {},
   "outputs": [],
   "source": [
    "# 41. Check if two strings are anagrams."
   ]
  },
  {
   "cell_type": "code",
   "execution_count": 67,
   "id": "d59bc304-24f4-42ee-93f1-c0ade9139b7e",
   "metadata": {},
   "outputs": [
    {
     "name": "stdout",
     "output_type": "stream",
     "text": [
      "'listen' and 'silent' are anagrams: True\n",
      "'listen' and 'hello' are anagrams: False\n",
      "'listen' and 'world' are anagrams: False\n"
     ]
    }
   ],
   "source": [
    "def are_anagrams(str1, str2):\n",
    "    # Remove spaces and convert both strings to lowercase for case-insensitive comparison\n",
    "    str1 = str1.replace(\" \", \"\").lower()\n",
    "    str2 = str2.replace(\" \", \"\").lower()\n",
    "\n",
    "    # Check if the sorted characters of both strings are the same\n",
    "    return sorted(str1) == sorted(str2)\n",
    "\n",
    "# Example usage:\n",
    "string1 = \"listen\"\n",
    "string2 = \"silent\"\n",
    "string3 = \"hello\"\n",
    "string4 = \"world\"\n",
    "\n",
    "print(f\"'{string1}' and '{string2}' are anagrams: {are_anagrams(string1, string2)}\")\n",
    "print(f\"'{string1}' and '{string3}' are anagrams: {are_anagrams(string1, string3)}\")\n",
    "print(f\"'{string1}' and '{string4}' are anagrams: {are_anagrams(string1, string4)}\")\n"
   ]
  },
  {
   "cell_type": "code",
   "execution_count": 68,
   "id": "0774c635-3917-4eb7-a40e-a73e4d42c8a7",
   "metadata": {},
   "outputs": [],
   "source": [
    "# 42. Encode a string using a Caesar cipher."
   ]
  },
  {
   "cell_type": "code",
   "execution_count": 69,
   "id": "68c5b10d-26ab-493e-89a9-05efa18debf9",
   "metadata": {},
   "outputs": [
    {
     "name": "stdout",
     "output_type": "stream",
     "text": [
      "Khoor, Zruog!\n"
     ]
    }
   ],
   "source": [
    "def caesar_cipher_encode(input_string, shift):\n",
    "    result = \"\"\n",
    "    for char in input_string:\n",
    "        if char.isalpha():  # Check if the character is a letter\n",
    "            # Determine whether to shift up or down the alphabet\n",
    "            if char.islower():\n",
    "                shifted_char = chr(((ord(char) - ord('a') + shift) % 26) + ord('a'))\n",
    "            else:\n",
    "                shifted_char = chr(((ord(char) - ord('A') + shift) % 26) + ord('A'))\n",
    "            result += shifted_char\n",
    "        else:\n",
    "            result += char  # Keep non-alphabet characters unchanged\n",
    "    return result\n",
    "\n",
    "# Example usage:\n",
    "plaintext = \"Hello, World!\"\n",
    "shift_amount = 3\n",
    "\n",
    "encoded_text = caesar_cipher_encode(plaintext, shift_amount)\n",
    "print(encoded_text)\n"
   ]
  },
  {
   "cell_type": "code",
   "execution_count": 70,
   "id": "13b55ce1-a88e-41b0-b69c-40486482ab62",
   "metadata": {},
   "outputs": [],
   "source": [
    "# 43. Decode a Caesar cipher encoded string."
   ]
  },
  {
   "cell_type": "code",
   "execution_count": 71,
   "id": "6f00b596-c378-4c7b-9c4c-a1be4f9019cb",
   "metadata": {},
   "outputs": [
    {
     "name": "stdout",
     "output_type": "stream",
     "text": [
      "Hello, World!\n"
     ]
    }
   ],
   "source": [
    "def caesar_cipher_decode(encoded_string, shift):\n",
    "    result = \"\"\n",
    "    for char in encoded_string:\n",
    "        if char.isalpha():  # Check if the character is a letter\n",
    "            # Determine whether to shift up or down the alphabet to decode\n",
    "            if char.islower():\n",
    "                shifted_char = chr(((ord(char) - ord('a') - shift) % 26) + ord('a'))\n",
    "            else:\n",
    "                shifted_char = chr(((ord(char) - ord('A') - shift) % 26) + ord('A'))\n",
    "            result += shifted_char\n",
    "        else:\n",
    "            result += char  # Keep non-alphabet characters unchanged\n",
    "    return result\n",
    "\n",
    "# Example usage:\n",
    "encoded_text = \"Khoor, Zruog!\"\n",
    "shift_amount = 3\n",
    "\n",
    "decoded_text = caesar_cipher_decode(encoded_text, shift_amount)\n",
    "print(decoded_text)\n"
   ]
  },
  {
   "cell_type": "code",
   "execution_count": 72,
   "id": "f0e5e20f-c494-4f7b-8de9-1dd68555db82",
   "metadata": {},
   "outputs": [],
   "source": [
    "# 44. Find the most frequent word in a string."
   ]
  },
  {
   "cell_type": "code",
   "execution_count": 73,
   "id": "d0c594e8-419a-4c95-b65c-c28d28cc09a1",
   "metadata": {},
   "outputs": [
    {
     "name": "stdout",
     "output_type": "stream",
     "text": [
      "Most frequent word: this\n"
     ]
    }
   ],
   "source": [
    "def most_frequent_word(input_string):\n",
    "    # Remove punctuation and convert the string to lowercase\n",
    "    cleaned_string = ''.join(char if char.isalnum() or char.isspace() else ' ' for char in input_string)\n",
    "    cleaned_string = cleaned_string.lower()\n",
    "\n",
    "    # Split the string into words\n",
    "    words = cleaned_string.split()\n",
    "\n",
    "    # Create a dictionary to store word frequencies\n",
    "    word_freq = {}\n",
    "\n",
    "    # Count the frequency of each word\n",
    "    for word in words:\n",
    "        if word in word_freq:\n",
    "            word_freq[word] += 1\n",
    "        else:\n",
    "            word_freq[word] = 1\n",
    "\n",
    "    # Find the word with the highest frequency\n",
    "    most_frequent = max(word_freq, key=word_freq.get)\n",
    "\n",
    "    return most_frequent\n",
    "\n",
    "# Example usage:\n",
    "my_string = \"This is a sample sentence. This sentence contains the word 'sample'.\"\n",
    "most_frequent_word_result = most_frequent_word(my_string)\n",
    "print(\"Most frequent word:\", most_frequent_word_result)\n"
   ]
  },
  {
   "cell_type": "code",
   "execution_count": 74,
   "id": "3acd3e0f-2618-4684-976d-534d624efb72",
   "metadata": {},
   "outputs": [],
   "source": [
    "# 45. Find all unique words in a string."
   ]
  },
  {
   "cell_type": "code",
   "execution_count": 75,
   "id": "d65dcb1a-a2f8-438b-ab25-b4b9a3c80932",
   "metadata": {},
   "outputs": [
    {
     "name": "stdout",
     "output_type": "stream",
     "text": [
      "Unique words: ['sample', 'the', 'sentence', 'word', 'is', 'contains', 'a', 'this']\n"
     ]
    }
   ],
   "source": [
    "def unique_words(input_string):\n",
    "    # Remove punctuation and convert the string to lowercase\n",
    "    cleaned_string = ''.join(char if char.isalnum() or char.isspace() else ' ' for char in input_string)\n",
    "    cleaned_string = cleaned_string.lower()\n",
    "\n",
    "    # Split the string into words\n",
    "    words = cleaned_string.split()\n",
    "\n",
    "    # Use a set to store unique words\n",
    "    unique_word_set = set(words)\n",
    "\n",
    "    return list(unique_word_set)\n",
    "\n",
    "# Example usage:\n",
    "my_string = \"This is a sample sentence. This sentence contains the word 'sample'.\"\n",
    "unique_words_result = unique_words(my_string)\n",
    "print(\"Unique words:\", unique_words_result)\n"
   ]
  },
  {
   "cell_type": "code",
   "execution_count": 76,
   "id": "c3ad760c-6ced-4e28-b50a-68bdae4b568c",
   "metadata": {},
   "outputs": [],
   "source": [
    "# 46. Count the number of syllables in a string."
   ]
  },
  {
   "cell_type": "code",
   "execution_count": 77,
   "id": "344df30a-6d64-49e5-9e09-fe7b3fabadf6",
   "metadata": {},
   "outputs": [
    {
     "name": "stdout",
     "output_type": "stream",
     "text": [
      "'banana' has 3 syllables.\n",
      "'hello' has 2 syllables.\n",
      "'elephant' has 3 syllables.\n",
      "'programming' has 3 syllables.\n",
      "'exaggeration' has 5 syllables.\n"
     ]
    }
   ],
   "source": [
    "def count_syllables(word):\n",
    "    vowels = \"AEIOUaeiou\"\n",
    "    syllable_count = 0\n",
    "    prev_char_vowel = False\n",
    "\n",
    "    for char in word:\n",
    "        if char in vowels:\n",
    "            if not prev_char_vowel:\n",
    "                syllable_count += 1\n",
    "            prev_char_vowel = True\n",
    "        else:\n",
    "            prev_char_vowel = False\n",
    "\n",
    "    # Adjust for common endings\n",
    "    if word.endswith((\"es\", \"ed\")):\n",
    "        syllable_count -= 1\n",
    "    if word.endswith(\"e\"):\n",
    "        syllable_count -= 1\n",
    "\n",
    "    # Ensure there's at least one syllable\n",
    "    syllable_count = max(1, syllable_count)\n",
    "\n",
    "    return syllable_count\n",
    "\n",
    "# Example usage:\n",
    "word1 = \"banana\"\n",
    "word2 = \"hello\"\n",
    "word3 = \"elephant\"\n",
    "word4 = \"programming\"\n",
    "word5 = \"exaggeration\"\n",
    "\n",
    "print(f\"'{word1}' has {count_syllables(word1)} syllables.\")\n",
    "print(f\"'{word2}' has {count_syllables(word2)} syllables.\")\n",
    "print(f\"'{word3}' has {count_syllables(word3)} syllables.\")\n",
    "print(f\"'{word4}' has {count_syllables(word4)} syllables.\")\n",
    "print(f\"'{word5}' has {count_syllables(word5)} syllables.\")\n"
   ]
  },
  {
   "cell_type": "code",
   "execution_count": 78,
   "id": "d76777f0-1b0f-4bab-b8e1-64c5dc962895",
   "metadata": {},
   "outputs": [],
   "source": [
    "# 47. Check if a string contains any special characters."
   ]
  },
  {
   "cell_type": "code",
   "execution_count": 79,
   "id": "ca92d451-8a4e-48ea-998c-96d95a54b4aa",
   "metadata": {},
   "outputs": [
    {
     "name": "stdout",
     "output_type": "stream",
     "text": [
      "'Hello, World!' contains special characters: True\n",
      "'This_is_a_special_string!' contains special characters: True\n",
      "'Alphanumeric123' contains special characters: False\n"
     ]
    }
   ],
   "source": [
    "import re\n",
    "\n",
    "def contains_special_characters(input_string):\n",
    "    # Define a regular expression pattern to match special characters\n",
    "    special_characters_pattern = re.compile(r'[!@#$%^&*()_+{}\\[\\]:;<>,.?~\\\\|/`\"\\'\\-=]')\n",
    "\n",
    "    # Use re.search() to check if the pattern is found in the input string\n",
    "    if re.search(special_characters_pattern, input_string):\n",
    "        return True\n",
    "    else:\n",
    "        return False\n",
    "\n",
    "# Example usage:\n",
    "string1 = \"Hello, World!\"\n",
    "string2 = \"This_is_a_special_string!\"\n",
    "string3 = \"Alphanumeric123\"\n",
    "\n",
    "print(f\"'{string1}' contains special characters: {contains_special_characters(string1)}\")\n",
    "print(f\"'{string2}' contains special characters: {contains_special_characters(string2)}\")\n",
    "print(f\"'{string3}' contains special characters: {contains_special_characters(string3)}\")\n"
   ]
  },
  {
   "cell_type": "code",
   "execution_count": 80,
   "id": "d25b85b6-ade2-44b9-9092-be6a1287a36d",
   "metadata": {},
   "outputs": [],
   "source": [
    "# 48. Remove the nth word from a string."
   ]
  },
  {
   "cell_type": "code",
   "execution_count": 81,
   "id": "799321ad-2f25-44f1-a9d9-60835636c170",
   "metadata": {},
   "outputs": [
    {
     "name": "stdout",
     "output_type": "stream",
     "text": [
      "This is sample sentence. Remove the third word.\n"
     ]
    }
   ],
   "source": [
    "def remove_nth_word(input_string, n):\n",
    "    # Split the string into words\n",
    "    words = input_string.split()\n",
    "\n",
    "    # Check if the specified index is within the range of words\n",
    "    if 1 <= n <= len(words):\n",
    "        # Remove the nth word by excluding it from the list of words\n",
    "        del words[n - 1]\n",
    "\n",
    "        # Join the remaining words back together\n",
    "        result = ' '.join(words)\n",
    "        return result\n",
    "    else:\n",
    "        # If n is out of range, return the original string\n",
    "        return input_string\n",
    "\n",
    "# Example usage:\n",
    "my_string = \"This is a sample sentence. Remove the third word.\"\n",
    "n = 3\n",
    "\n",
    "new_string = remove_nth_word(my_string, n)\n",
    "print(new_string)\n"
   ]
  },
  {
   "cell_type": "code",
   "execution_count": 82,
   "id": "7d10beb9-d05c-44c5-9f5d-a4a2877b27db",
   "metadata": {},
   "outputs": [],
   "source": [
    "# 49. Insert a word at the nth position in a string."
   ]
  },
  {
   "cell_type": "code",
   "execution_count": 83,
   "id": "62c66f5d-7c9f-4f4a-bfba-0c9204be2513",
   "metadata": {},
   "outputs": [
    {
     "name": "stdout",
     "output_type": "stream",
     "text": [
      "This is a sample new sentence. Insert 'new' at the fifth position.\n"
     ]
    }
   ],
   "source": [
    "def insert_word_at_position(input_string, word_to_insert, n):\n",
    "    # Split the string into words\n",
    "    words = input_string.split()\n",
    "\n",
    "    # Check if the specified index is within the valid range\n",
    "    if 0 <= n <= len(words):\n",
    "        # Insert the word at the specified position\n",
    "        words.insert(n, word_to_insert)\n",
    "\n",
    "        # Join the words back together into a string\n",
    "        result = ' '.join(words)\n",
    "        return result\n",
    "    else:\n",
    "        # If n is out of range, return the original string\n",
    "        return input_string\n",
    "\n",
    "# Example usage:\n",
    "my_string = \"This is a sample sentence. Insert 'new' at the fifth position.\"\n",
    "word_to_insert = \"new\"\n",
    "position = 4  # 0-based index, so 4 corresponds to the fifth position\n",
    "\n",
    "new_string = insert_word_at_position(my_string, word_to_insert, position)\n",
    "print(new_string)\n"
   ]
  },
  {
   "cell_type": "code",
   "execution_count": 84,
   "id": "92dab7da-fb26-4ff3-b88b-5ada576c270f",
   "metadata": {},
   "outputs": [],
   "source": [
    "# 50. Convert a CSV string to a list of lists."
   ]
  },
  {
   "cell_type": "code",
   "execution_count": 85,
   "id": "1354036e-51d7-4ced-8182-d6ec756cd4ad",
   "metadata": {},
   "outputs": [
    {
     "name": "stdout",
     "output_type": "stream",
     "text": [
      "['Name', ' Age', ' Country']\n",
      "['Alice', ' 25', ' USA']\n",
      "['Bob', ' 30', ' Canada']\n",
      "['Charlie', ' 22', ' UK']\n"
     ]
    }
   ],
   "source": [
    "import csv\n",
    "from io import StringIO\n",
    "\n",
    "def csv_string_to_list(csv_string):\n",
    "    # Use StringIO to create a file-like object for reading the CSV string\n",
    "    csv_file = StringIO(csv_string)\n",
    "\n",
    "    # Initialize a CSV reader\n",
    "    csv_reader = csv.reader(csv_file)\n",
    "\n",
    "    # Convert the CSV data into a list of lists\n",
    "    csv_data = [row for row in csv_reader]\n",
    "\n",
    "    return csv_data\n",
    "\n",
    "# Example usage:\n",
    "csv_string = \"Name, Age, Country\\nAlice, 25, USA\\nBob, 30, Canada\\nCharlie, 22, UK\"\n",
    "\n",
    "csv_list = csv_string_to_list(csv_string)\n",
    "for row in csv_list:\n",
    "    print(row)\n"
   ]
  },
  {
   "cell_type": "code",
   "execution_count": 86,
   "id": "68ba4740-770f-485e-8109-387e8048abe7",
   "metadata": {},
   "outputs": [],
   "source": [
    "# List Based Practice Problem :\n",
    "\n",
    "#1. Create a list with integers from 1 to 10."
   ]
  },
  {
   "cell_type": "code",
   "execution_count": 1,
   "id": "7ad453ba-0763-4857-b39a-db6167031827",
   "metadata": {},
   "outputs": [],
   "source": [
    "my_list = [1, 2, 3, 4, 5, 6, 7, 8, 9, 10]"
   ]
  },
  {
   "cell_type": "code",
   "execution_count": 2,
   "id": "bdfc6db7-0ff6-4096-9276-8160f0dcae6c",
   "metadata": {},
   "outputs": [
    {
     "data": {
      "text/plain": [
       "[1, 2, 3, 4, 5, 6, 7, 8, 9, 10]"
      ]
     },
     "execution_count": 2,
     "metadata": {},
     "output_type": "execute_result"
    }
   ],
   "source": [
    "my_list"
   ]
  },
  {
   "cell_type": "code",
   "execution_count": 3,
   "id": "df6ee450-f640-4c12-8340-302b4c44928f",
   "metadata": {},
   "outputs": [],
   "source": [
    "# 2. Find the length of a list without using the `len()` function."
   ]
  },
  {
   "cell_type": "code",
   "execution_count": 4,
   "id": "d72b61c8-85c2-4037-b2ed-b62686046c87",
   "metadata": {},
   "outputs": [
    {
     "name": "stdout",
     "output_type": "stream",
     "text": [
      "The length of the list is: 10\n"
     ]
    }
   ],
   "source": [
    "my_list = [1, 2, 3, 4, 5, 6, 7, 8, 9, 10]\n",
    "count = 0\n",
    "\n",
    "for _ in my_list:\n",
    "    count += 1\n",
    "\n",
    "print(\"The length of the list is:\", count)\n"
   ]
  },
  {
   "cell_type": "code",
   "execution_count": 5,
   "id": "3c8d6574-af53-4760-97aa-f824b464bd98",
   "metadata": {},
   "outputs": [],
   "source": [
    "# 3. Append an element to the end of a list."
   ]
  },
  {
   "cell_type": "code",
   "execution_count": 6,
   "id": "6b9069f5-676d-4e01-a752-60be53d38ba3",
   "metadata": {},
   "outputs": [
    {
     "name": "stdout",
     "output_type": "stream",
     "text": [
      "[1, 2, 3, 4, 5, 6]\n"
     ]
    }
   ],
   "source": [
    "my_list = [1, 2, 3, 4, 5]\n",
    "\n",
    "# Append an element (e.g., 6) to the end of the list\n",
    "my_list.append(6)\n",
    "\n",
    "print(my_list)\n"
   ]
  },
  {
   "cell_type": "code",
   "execution_count": 7,
   "id": "4868f78c-5705-4e66-b247-5f39e42d58fa",
   "metadata": {},
   "outputs": [],
   "source": [
    "# 4. Insert an element at a specific index in a list."
   ]
  },
  {
   "cell_type": "code",
   "execution_count": 8,
   "id": "c34e7807-8d5c-460e-bbb8-e92275f63e93",
   "metadata": {},
   "outputs": [
    {
     "name": "stdout",
     "output_type": "stream",
     "text": [
      "[1, 2, 6, 3, 4, 5]\n"
     ]
    }
   ],
   "source": [
    "my_list = [1, 2, 3, 4, 5]\n",
    "\n",
    "# Insert the element 6 at index 2\n",
    "my_list.insert(2, 6)\n",
    "\n",
    "print(my_list)\n"
   ]
  },
  {
   "cell_type": "code",
   "execution_count": 9,
   "id": "15ff6ff9-d980-4580-acc1-36af5ea98205",
   "metadata": {},
   "outputs": [],
   "source": [
    "# 5. Remove an element from a list by its value."
   ]
  },
  {
   "cell_type": "code",
   "execution_count": 10,
   "id": "fa795d2d-aaf8-411b-8997-bc44a7cda171",
   "metadata": {},
   "outputs": [
    {
     "name": "stdout",
     "output_type": "stream",
     "text": [
      "[1, 2, 4, 5]\n"
     ]
    }
   ],
   "source": [
    "my_list = [1, 2, 3, 4, 5]\n",
    "\n",
    "# Remove the element with the value 3 from the list\n",
    "my_list.remove(3)\n",
    "\n",
    "print(my_list)\n"
   ]
  },
  {
   "cell_type": "code",
   "execution_count": 11,
   "id": "67e4c9f1-451c-4840-a339-7fbd2cf75537",
   "metadata": {},
   "outputs": [],
   "source": [
    "# 6. Remove an element from a list by its index."
   ]
  },
  {
   "cell_type": "code",
   "execution_count": 12,
   "id": "8e768ab4-a490-43b5-9722-46a71c51bf66",
   "metadata": {},
   "outputs": [
    {
     "name": "stdout",
     "output_type": "stream",
     "text": [
      "Removed element: 3\n",
      "Updated list: [1, 2, 4, 5]\n"
     ]
    }
   ],
   "source": [
    "my_list = [1, 2, 3, 4, 5]\n",
    "\n",
    "# Remove the element at index 2 (which is the third element)\n",
    "removed_element = my_list.pop(2)\n",
    "\n",
    "print(\"Removed element:\", removed_element)\n",
    "print(\"Updated list:\", my_list)\n"
   ]
  },
  {
   "cell_type": "code",
   "execution_count": 13,
   "id": "92dcb673-03ff-44ea-87a3-46ebdffd7793",
   "metadata": {},
   "outputs": [],
   "source": [
    "# 7. Check if an element exists in a list."
   ]
  },
  {
   "cell_type": "code",
   "execution_count": 14,
   "id": "c4589146-8295-4433-bcba-43ef824f0ef4",
   "metadata": {},
   "outputs": [
    {
     "name": "stdout",
     "output_type": "stream",
     "text": [
      "3 is in the list\n"
     ]
    }
   ],
   "source": [
    "my_list = [1, 2, 3, 4, 5]\n",
    "\n",
    "# Check if 3 is in the list\n",
    "if 3 in my_list:\n",
    "    print(\"3 is in the list\")\n",
    "else:\n",
    "    print(\"3 is not in the list\")\n"
   ]
  },
  {
   "cell_type": "code",
   "execution_count": 15,
   "id": "b442955a-856d-4e51-94d6-586e4131bb6d",
   "metadata": {},
   "outputs": [],
   "source": [
    "# 8. Find the index of the first occurrence of an element in a list."
   ]
  },
  {
   "cell_type": "code",
   "execution_count": 16,
   "id": "69878677-6f40-4148-8744-0e5ccb292039",
   "metadata": {},
   "outputs": [
    {
     "name": "stdout",
     "output_type": "stream",
     "text": [
      "Index of the first occurrence of 3: 2\n"
     ]
    }
   ],
   "source": [
    "my_list = [1, 2, 3, 4, 5, 3]\n",
    "\n",
    "# Find the index of the first occurrence of the value 3\n",
    "index = my_list.index(3)\n",
    "\n",
    "print(\"Index of the first occurrence of 3:\", index)\n"
   ]
  },
  {
   "cell_type": "code",
   "execution_count": 17,
   "id": "cf738cab-27ab-446e-bc6f-4bf54ddd95af",
   "metadata": {},
   "outputs": [],
   "source": [
    "# 9. Count the occurrences of an element in a list."
   ]
  },
  {
   "cell_type": "code",
   "execution_count": 18,
   "id": "bfc7ca66-3521-4479-ba64-ae35dafb9268",
   "metadata": {},
   "outputs": [
    {
     "name": "stdout",
     "output_type": "stream",
     "text": [
      "Occurrences of 3 in the list: 3\n"
     ]
    }
   ],
   "source": [
    "my_list = [1, 2, 3, 4, 5, 3, 3]\n",
    "\n",
    "# Count the occurrences of the value 3 in the list\n",
    "count = my_list.count(3)\n",
    "\n",
    "print(\"Occurrences of 3 in the list:\", count)"
   ]
  },
  {
   "cell_type": "code",
   "execution_count": 19,
   "id": "4a61173e-5bd1-4be4-996e-c824bef74d38",
   "metadata": {},
   "outputs": [],
   "source": [
    "# 10. Reverse the order of elements in a list."
   ]
  },
  {
   "cell_type": "code",
   "execution_count": 20,
   "id": "04c3f8d6-89a1-4e75-a234-ad6829d536a3",
   "metadata": {},
   "outputs": [
    {
     "name": "stdout",
     "output_type": "stream",
     "text": [
      "Reversed list: [5, 4, 3, 2, 1]\n"
     ]
    }
   ],
   "source": [
    "my_list = [1, 2, 3, 4, 5]\n",
    "\n",
    "# Reverse the order of elements in the list using slicing\n",
    "reversed_list = my_list[::-1]\n",
    "\n",
    "print(\"Reversed list:\", reversed_list)\n"
   ]
  },
  {
   "cell_type": "code",
   "execution_count": 21,
   "id": "ade379af-1acb-4c4d-bf1d-30d5b6922ff7",
   "metadata": {},
   "outputs": [],
   "source": [
    "# 11. Sort a list in ascending order."
   ]
  },
  {
   "cell_type": "code",
   "execution_count": 22,
   "id": "b36e9401-297f-472a-b85a-ab3caa913144",
   "metadata": {},
   "outputs": [
    {
     "name": "stdout",
     "output_type": "stream",
     "text": [
      "Sorted list in ascending order: [1, 1, 2, 3, 3, 4, 5, 5, 5, 6, 9]\n"
     ]
    }
   ],
   "source": [
    "my_list = [3, 1, 4, 1, 5, 9, 2, 6, 5, 3, 5]\n",
    "\n",
    "# Sort the list in ascending order using the sort() method\n",
    "my_list.sort()\n",
    "\n",
    "print(\"Sorted list in ascending order:\", my_list)\n"
   ]
  },
  {
   "cell_type": "code",
   "execution_count": 23,
   "id": "b8ff4086-1350-40e3-8278-bfea11b1aef6",
   "metadata": {},
   "outputs": [],
   "source": [
    "# 12. Sort a list in descending order."
   ]
  },
  {
   "cell_type": "code",
   "execution_count": 24,
   "id": "669baead-2980-4007-a2bc-473dd668ffbb",
   "metadata": {},
   "outputs": [
    {
     "name": "stdout",
     "output_type": "stream",
     "text": [
      "Sorted list in descending order: [9, 6, 5, 5, 5, 4, 3, 3, 2, 1, 1]\n"
     ]
    }
   ],
   "source": [
    "my_list = [3, 1, 4, 1, 5, 9, 2, 6, 5, 3, 5]\n",
    "\n",
    "# Sort the list in descending order using the sort() method\n",
    "my_list.sort(reverse=True)\n",
    "\n",
    "print(\"Sorted list in descending order:\", my_list)\n"
   ]
  },
  {
   "cell_type": "code",
   "execution_count": 25,
   "id": "8daf5a00-7f55-4bbc-a63b-c28d62021e0f",
   "metadata": {},
   "outputs": [],
   "source": [
    "# 13. Create a list of even numbers from 1 to 20."
   ]
  },
  {
   "cell_type": "code",
   "execution_count": 26,
   "id": "3bb98767-de7c-4f46-bd7e-2c788c2cc05a",
   "metadata": {},
   "outputs": [],
   "source": [
    "even_numbers = [x for x in range(1, 21) if x % 2 == 0]"
   ]
  },
  {
   "cell_type": "code",
   "execution_count": 27,
   "id": "d10749dc-c30b-4661-8ba9-ada6d9013d2d",
   "metadata": {},
   "outputs": [
    {
     "data": {
      "text/plain": [
       "[2, 4, 6, 8, 10, 12, 14, 16, 18, 20]"
      ]
     },
     "execution_count": 27,
     "metadata": {},
     "output_type": "execute_result"
    }
   ],
   "source": [
    "even_numbers"
   ]
  },
  {
   "cell_type": "code",
   "execution_count": 28,
   "id": "9e859df5-bdcc-44f8-bc38-e3e7e0642584",
   "metadata": {},
   "outputs": [],
   "source": [
    "# 14. Create a list of odd numbers from 1 to 20."
   ]
  },
  {
   "cell_type": "code",
   "execution_count": 29,
   "id": "97c0aa4e-2301-4a90-ac20-b2925c009f58",
   "metadata": {},
   "outputs": [],
   "source": [
    "odd_numbers = [x for x in range(1, 21) if x % 2 != 0]"
   ]
  },
  {
   "cell_type": "code",
   "execution_count": 30,
   "id": "c1e572d9-759b-4ce2-9b89-63205dc20400",
   "metadata": {},
   "outputs": [
    {
     "data": {
      "text/plain": [
       "[1, 3, 5, 7, 9, 11, 13, 15, 17, 19]"
      ]
     },
     "execution_count": 30,
     "metadata": {},
     "output_type": "execute_result"
    }
   ],
   "source": [
    "odd_numbers"
   ]
  },
  {
   "cell_type": "code",
   "execution_count": 31,
   "id": "f72afede-9b99-438d-a02d-da52684332bc",
   "metadata": {},
   "outputs": [],
   "source": [
    "# 15. Find the sum of all elements in a list."
   ]
  },
  {
   "cell_type": "code",
   "execution_count": 32,
   "id": "62d4778b-7153-40f8-a421-d2151a5a5b18",
   "metadata": {},
   "outputs": [
    {
     "name": "stdout",
     "output_type": "stream",
     "text": [
      "Sum of all elements in the list: 15\n"
     ]
    }
   ],
   "source": [
    "my_list = [1, 2, 3, 4, 5]\n",
    "\n",
    "# Find the sum of all elements in the list\n",
    "sum_of_elements = sum(my_list)\n",
    "\n",
    "print(\"Sum of all elements in the list:\", sum_of_elements)\n"
   ]
  },
  {
   "cell_type": "code",
   "execution_count": 33,
   "id": "0a3c9fd0-71df-4240-ac3b-76f4ccb92845",
   "metadata": {},
   "outputs": [],
   "source": [
    "# 16. Find the maximum value in a list."
   ]
  },
  {
   "cell_type": "code",
   "execution_count": 34,
   "id": "e2235af7-48d9-4683-88f3-865a104f3a32",
   "metadata": {},
   "outputs": [
    {
     "name": "stdout",
     "output_type": "stream",
     "text": [
      "Maximum value in the list: 67\n"
     ]
    }
   ],
   "source": [
    "my_list = [10, 45, 23, 67, 32, 9]\n",
    "\n",
    "# Find the maximum value in the list\n",
    "maximum_value = max(my_list)\n",
    "\n",
    "print(\"Maximum value in the list:\", maximum_value)\n"
   ]
  },
  {
   "cell_type": "code",
   "execution_count": 35,
   "id": "6e7550ff-8967-4548-98b1-48d24e62dd68",
   "metadata": {},
   "outputs": [],
   "source": [
    "# 17. Find the minimum value in a list."
   ]
  },
  {
   "cell_type": "code",
   "execution_count": 36,
   "id": "e05c5c09-e39b-4ff1-8c6a-9c44dc8e95a9",
   "metadata": {},
   "outputs": [
    {
     "name": "stdout",
     "output_type": "stream",
     "text": [
      "Maximum value in the list: 9\n"
     ]
    }
   ],
   "source": [
    "my_list = [10, 45, 23, 67, 32, 9]\n",
    "\n",
    "# Find the maximum value in the list\n",
    "maximum_value = min(my_list)\n",
    "\n",
    "print(\"Maximum value in the list:\", maximum_value)"
   ]
  },
  {
   "cell_type": "code",
   "execution_count": 37,
   "id": "df919a1d-2393-4d82-a6db-a55a1e3b742c",
   "metadata": {},
   "outputs": [],
   "source": [
    "# 18. Create a list of squares of numbers from 1 to 10."
   ]
  },
  {
   "cell_type": "code",
   "execution_count": 38,
   "id": "0aa76cda-6a3c-46a1-a5a6-cbc8ec87f134",
   "metadata": {},
   "outputs": [],
   "source": [
    "squares_list = [x ** 2 for x in range(1, 11)]\n"
   ]
  },
  {
   "cell_type": "code",
   "execution_count": 39,
   "id": "95424f03-2569-40aa-8625-e70cfc202cc8",
   "metadata": {},
   "outputs": [
    {
     "data": {
      "text/plain": [
       "[1, 4, 9, 16, 25, 36, 49, 64, 81, 100]"
      ]
     },
     "execution_count": 39,
     "metadata": {},
     "output_type": "execute_result"
    }
   ],
   "source": [
    "squares_list"
   ]
  },
  {
   "cell_type": "code",
   "execution_count": 40,
   "id": "29d397b1-35d6-4965-a8ed-f565525bb1d6",
   "metadata": {},
   "outputs": [],
   "source": [
    "# 19. Create a list of random numbers."
   ]
  },
  {
   "cell_type": "code",
   "execution_count": 41,
   "id": "32ad0484-2924-4d03-82ec-e11353b82ed8",
   "metadata": {},
   "outputs": [
    {
     "name": "stdout",
     "output_type": "stream",
     "text": [
      "List of random numbers: [96, 36, 19, 68, 78, 14, 49, 67, 2, 31]\n"
     ]
    }
   ],
   "source": [
    "import random\n",
    "\n",
    "# Generate a list of 10 random integers between 1 and 100\n",
    "random_numbers = [random.randint(1, 100) for _ in range(10)]\n",
    "\n",
    "print(\"List of random numbers:\", random_numbers)\n"
   ]
  },
  {
   "cell_type": "code",
   "execution_count": 42,
   "id": "3019e68b-51af-4ca8-a961-4753836bc674",
   "metadata": {},
   "outputs": [],
   "source": [
    "# 20. Remove duplicates from a list."
   ]
  },
  {
   "cell_type": "code",
   "execution_count": 43,
   "id": "2d040edf-3026-4284-ad37-a7ce3993a6b6",
   "metadata": {},
   "outputs": [
    {
     "name": "stdout",
     "output_type": "stream",
     "text": [
      "List with duplicates: [1, 2, 2, 3, 4, 4, 5, 5]\n",
      "List without duplicates: [1, 2, 3, 4, 5]\n"
     ]
    }
   ],
   "source": [
    "my_list = [1, 2, 2, 3, 4, 4, 5, 5]\n",
    "\n",
    "# Remove duplicates by converting the list to a set and then back to a list\n",
    "unique_list = list(set(my_list))\n",
    "\n",
    "print(\"List with duplicates:\", my_list)\n",
    "print(\"List without duplicates:\", unique_list)\n"
   ]
  },
  {
   "cell_type": "code",
   "execution_count": 44,
   "id": "f52c2c94-5f46-40b6-bf3b-2be3becddd3e",
   "metadata": {},
   "outputs": [],
   "source": [
    "# 21. Find the common elements between two lists."
   ]
  },
  {
   "cell_type": "code",
   "execution_count": 45,
   "id": "f79f67ff-59ef-4f70-bacd-85facef1f1ef",
   "metadata": {},
   "outputs": [
    {
     "name": "stdout",
     "output_type": "stream",
     "text": [
      "Common elements: [3, 4, 5]\n"
     ]
    }
   ],
   "source": [
    "list1 = [1, 2, 3, 4, 5]\n",
    "list2 = [3, 4, 5, 6, 7]\n",
    "\n",
    "# Find common elements using a list comprehension\n",
    "common_elements = [x for x in list1 if x in list2]\n",
    "\n",
    "print(\"Common elements:\", common_elements)\n"
   ]
  },
  {
   "cell_type": "code",
   "execution_count": 46,
   "id": "043cbedb-0992-431b-9b79-73f0023fac2d",
   "metadata": {},
   "outputs": [],
   "source": [
    "# 22. Find the difference between two lists."
   ]
  },
  {
   "cell_type": "code",
   "execution_count": 47,
   "id": "200722c8-8908-4511-9e5e-d7509c32ef8e",
   "metadata": {},
   "outputs": [
    {
     "name": "stdout",
     "output_type": "stream",
     "text": [
      "Asymmetric difference (list1 - list2): [1, 2]\n"
     ]
    }
   ],
   "source": [
    "list1 = [1, 2, 3, 4, 5]\n",
    "list2 = [3, 4, 5, 6, 7]\n",
    "\n",
    "# Asymmetric difference (elements in list1 but not in list2)\n",
    "asymmetric_difference = [x for x in list1 if x not in list2]\n",
    "\n",
    "print(\"Asymmetric difference (list1 - list2):\", asymmetric_difference)\n"
   ]
  },
  {
   "cell_type": "code",
   "execution_count": 48,
   "id": "db290a7c-e59b-474f-8647-8eb458ff7c75",
   "metadata": {},
   "outputs": [],
   "source": [
    "# 23. Merge two lists."
   ]
  },
  {
   "cell_type": "code",
   "execution_count": 49,
   "id": "c85e8b6c-d4bc-4709-b5ca-6a44f4502ef1",
   "metadata": {},
   "outputs": [
    {
     "name": "stdout",
     "output_type": "stream",
     "text": [
      "Merged list: [1, 2, 3, 4, 5, 6]\n"
     ]
    }
   ],
   "source": [
    "list1 = [1, 2, 3]\n",
    "list2 = [4, 5, 6]\n",
    "\n",
    "# Merge the two lists using the + operator\n",
    "merged_list = list1 + list2\n",
    "\n",
    "print(\"Merged list:\", merged_list)\n"
   ]
  },
  {
   "cell_type": "code",
   "execution_count": 50,
   "id": "13a0fb2c-5a28-4010-b86b-766abae642ff",
   "metadata": {},
   "outputs": [],
   "source": [
    "# 24. Multiply all elements in a list by 2."
   ]
  },
  {
   "cell_type": "code",
   "execution_count": 51,
   "id": "edcdba20-b541-4227-893b-3815fa971ac2",
   "metadata": {},
   "outputs": [
    {
     "name": "stdout",
     "output_type": "stream",
     "text": [
      "Original list: [1, 2, 3, 4, 5]\n",
      "Doubled list: [2, 4, 6, 8, 10]\n"
     ]
    }
   ],
   "source": [
    "my_list = [1, 2, 3, 4, 5]\n",
    "\n",
    "# Multiply all elements in the list by 2 using a list comprehension\n",
    "doubled_list = [x * 2 for x in my_list]\n",
    "\n",
    "print(\"Original list:\", my_list)\n",
    "print(\"Doubled list:\", doubled_list)\n"
   ]
  },
  {
   "cell_type": "code",
   "execution_count": 52,
   "id": "c6a532cd-8b87-4d01-bc75-59879832205a",
   "metadata": {},
   "outputs": [],
   "source": [
    "# 25. Filter out all even numbers from a list."
   ]
  },
  {
   "cell_type": "code",
   "execution_count": 53,
   "id": "7449811a-f05a-422d-9c9d-68814dcc7a23",
   "metadata": {},
   "outputs": [
    {
     "name": "stdout",
     "output_type": "stream",
     "text": [
      "Original list: [1, 2, 3, 4, 5, 6, 7, 8, 9, 10]\n",
      "Filtered list (odd numbers only): [1, 3, 5, 7, 9]\n"
     ]
    }
   ],
   "source": [
    "my_list = [1, 2, 3, 4, 5, 6, 7, 8, 9, 10]\n",
    "\n",
    "# Filter out even numbers using a list comprehension\n",
    "filtered_list = [x for x in my_list if x % 2 != 0]\n",
    "\n",
    "print(\"Original list:\", my_list)\n",
    "print(\"Filtered list (odd numbers only):\", filtered_list)\n"
   ]
  },
  {
   "cell_type": "code",
   "execution_count": 54,
   "id": "b3dc56f3-e482-4262-b74f-edcdbea67d5e",
   "metadata": {},
   "outputs": [],
   "source": [
    "# 26. Convert a list of strings to a list of integers."
   ]
  },
  {
   "cell_type": "code",
   "execution_count": 55,
   "id": "910b99b2-dc8c-44cb-93d9-4f4f567c2f3f",
   "metadata": {},
   "outputs": [
    {
     "name": "stdout",
     "output_type": "stream",
     "text": [
      "Original string list: ['1', '2', '3', '4', '5']\n",
      "Converted integer list: [1, 2, 3, 4, 5]\n"
     ]
    }
   ],
   "source": [
    "string_list = [\"1\", \"2\", \"3\", \"4\", \"5\"]\n",
    "\n",
    "# Convert the list of strings to a list of integers\n",
    "integer_list = [int(x) for x in string_list]\n",
    "\n",
    "print(\"Original string list:\", string_list)\n",
    "print(\"Converted integer list:\", integer_list)\n"
   ]
  },
  {
   "cell_type": "code",
   "execution_count": 56,
   "id": "a8bd06df-e9a6-4346-9cdc-555788a58887",
   "metadata": {},
   "outputs": [],
   "source": [
    "# 27. Convert a list of integers to a list of strings."
   ]
  },
  {
   "cell_type": "code",
   "execution_count": 57,
   "id": "50a84cb4-080c-45a3-a000-256dc1c90265",
   "metadata": {},
   "outputs": [
    {
     "name": "stdout",
     "output_type": "stream",
     "text": [
      "Original integer list: [1, 2, 3, 4, 5]\n",
      "Converted string list: ['1', '2', '3', '4', '5']\n"
     ]
    }
   ],
   "source": [
    "integer_list = [1, 2, 3, 4, 5]\n",
    "\n",
    "# Convert the list of integers to a list of strings\n",
    "string_list = [str(x) for x in integer_list]\n",
    "\n",
    "print(\"Original integer list:\", integer_list)\n",
    "print(\"Converted string list:\", string_list)\n"
   ]
  },
  {
   "cell_type": "code",
   "execution_count": 58,
   "id": "af699896-e7e0-47d6-8c7c-f8bd9d0d3d35",
   "metadata": {},
   "outputs": [],
   "source": [
    "# 28. Flatten a nested list."
   ]
  },
  {
   "cell_type": "code",
   "execution_count": 59,
   "id": "776f0e99-b51e-4ae6-a31e-267a87fc9301",
   "metadata": {},
   "outputs": [
    {
     "name": "stdout",
     "output_type": "stream",
     "text": [
      "Original nested list: [[1, 2, 3], [4, 5], [6, 7, 8, 9]]\n",
      "Flattened list: [1, 2, 3, 4, 5, 6, 7, 8, 9]\n"
     ]
    }
   ],
   "source": [
    "nested_list = [[1, 2, 3], [4, 5], [6, 7, 8, 9]]\n",
    "\n",
    "# Flatten the nested list using a nested list comprehension\n",
    "flattened_list = [x for sublist in nested_list for x in sublist]\n",
    "\n",
    "print(\"Original nested list:\", nested_list)\n",
    "print(\"Flattened list:\", flattened_list)\n"
   ]
  },
  {
   "cell_type": "code",
   "execution_count": 60,
   "id": "d21bc1aa-73dc-433d-8eef-8bac6843686e",
   "metadata": {},
   "outputs": [],
   "source": [
    "# 29. Create a list of the first 10 Fibonacci numbers."
   ]
  },
  {
   "cell_type": "code",
   "execution_count": 61,
   "id": "63bf4099-9b05-4803-8b79-536dadb28861",
   "metadata": {},
   "outputs": [
    {
     "name": "stdout",
     "output_type": "stream",
     "text": [
      "First 10 Fibonacci numbers: [0, 1, 1, 2, 3, 5, 8, 13, 21, 34]\n"
     ]
    }
   ],
   "source": [
    "# Initialize the first two Fibonacci numbers\n",
    "fibonacci_numbers = [0, 1]\n",
    "\n",
    "# Generate the next 8 Fibonacci numbers\n",
    "for i in range(2, 10):\n",
    "    next_fibonacci = fibonacci_numbers[i - 1] + fibonacci_numbers[i - 2]\n",
    "    fibonacci_numbers.append(next_fibonacci)\n",
    "\n",
    "print(\"First 10 Fibonacci numbers:\", fibonacci_numbers)\n"
   ]
  },
  {
   "cell_type": "code",
   "execution_count": 62,
   "id": "c198d31b-c3fe-4f5f-8ab6-76215986802a",
   "metadata": {},
   "outputs": [],
   "source": [
    "# 30. Check if a list is sorted."
   ]
  },
  {
   "cell_type": "code",
   "execution_count": 63,
   "id": "7df8c91f-59c0-4c76-a5f8-ff1ceeb2a876",
   "metadata": {},
   "outputs": [
    {
     "name": "stdout",
     "output_type": "stream",
     "text": [
      "The list is sorted in ascending order.\n"
     ]
    }
   ],
   "source": [
    "def is_sorted(input_list):\n",
    "    for i in range(len(input_list) - 1):\n",
    "        if input_list[i] > input_list[i + 1]:\n",
    "            return False\n",
    "    return True\n",
    "\n",
    "my_list = [1, 2, 3, 4, 5]\n",
    "\n",
    "if is_sorted(my_list):\n",
    "    print(\"The list is sorted in ascending order.\")\n",
    "else:\n",
    "    print(\"The list is not sorted in ascending order.\")\n"
   ]
  },
  {
   "cell_type": "code",
   "execution_count": 64,
   "id": "5ecd6e80-2c64-4d92-916f-bad9c83149b9",
   "metadata": {},
   "outputs": [],
   "source": [
    "# 31. Rotate a list to the left by `n` positions."
   ]
  },
  {
   "cell_type": "code",
   "execution_count": 65,
   "id": "4525f036-d100-48f7-b26a-b4ab92155c4a",
   "metadata": {},
   "outputs": [
    {
     "name": "stdout",
     "output_type": "stream",
     "text": [
      "Original list: [1, 2, 3, 4, 5]\n",
      "List rotated left by 2 positions: [3, 4, 5, 1, 2]\n"
     ]
    }
   ],
   "source": [
    "def rotate_left(lst, n):\n",
    "    n = n % len(lst)  # Ensure n is within the range of the list length\n",
    "    return lst[n:] + lst[:n]\n",
    "\n",
    "my_list = [1, 2, 3, 4, 5]\n",
    "n = 2  # Number of positions to rotate left\n",
    "\n",
    "rotated_list = rotate_left(my_list, n)\n",
    "\n",
    "print(\"Original list:\", my_list)\n",
    "print(f\"List rotated left by {n} positions:\", rotated_list)\n"
   ]
  },
  {
   "cell_type": "code",
   "execution_count": 66,
   "id": "985b333c-2f10-4959-b56c-092248939239",
   "metadata": {},
   "outputs": [],
   "source": [
    "# 32. Rotate a list to the right by `n` positions."
   ]
  },
  {
   "cell_type": "code",
   "execution_count": 67,
   "id": "d65debab-5643-4453-a9d6-01a0df8a5fa8",
   "metadata": {},
   "outputs": [
    {
     "name": "stdout",
     "output_type": "stream",
     "text": [
      "Original list: [1, 2, 3, 4, 5]\n",
      "List rotated right by 2 positions: [4, 5, 1, 2, 3]\n"
     ]
    }
   ],
   "source": [
    "def rotate_right(lst, n):\n",
    "    n = n % len(lst)  # Ensure n is within the range of the list length\n",
    "    return lst[-n:] + lst[:-n]\n",
    "\n",
    "my_list = [1, 2, 3, 4, 5]\n",
    "n = 2  # Number of positions to rotate right\n",
    "\n",
    "rotated_list = rotate_right(my_list, n)\n",
    "\n",
    "print(\"Original list:\", my_list)\n",
    "print(f\"List rotated right by {n} positions:\", rotated_list)\n"
   ]
  },
  {
   "cell_type": "code",
   "execution_count": 68,
   "id": "c237ae6c-bce6-4689-b6c9-378352207967",
   "metadata": {},
   "outputs": [],
   "source": [
    "# 33. Create a list of prime numbers up to 50."
   ]
  },
  {
   "cell_type": "code",
   "execution_count": 69,
   "id": "77449660-4275-49e7-8a39-02699e02ad7b",
   "metadata": {},
   "outputs": [
    {
     "name": "stdout",
     "output_type": "stream",
     "text": [
      "Prime numbers up to 50: [2, 3, 5, 7, 11, 13, 17, 19, 23, 29, 31, 37, 41, 43, 47]\n"
     ]
    }
   ],
   "source": [
    "def is_prime(num):\n",
    "    if num <= 1:\n",
    "        return False\n",
    "    elif num <= 3:\n",
    "        return True\n",
    "    elif num % 2 == 0 or num % 3 == 0:\n",
    "        return False\n",
    "    i = 5\n",
    "    while i * i <= num:\n",
    "        if num % i == 0 or num % (i + 2) == 0:\n",
    "            return False\n",
    "        i += 6\n",
    "    return True\n",
    "\n",
    "# Generate a list of prime numbers up to 50\n",
    "prime_numbers = [x for x in range(2, 51) if is_prime(x)]\n",
    "\n",
    "print(\"Prime numbers up to 50:\", prime_numbers)\n"
   ]
  },
  {
   "cell_type": "code",
   "execution_count": 70,
   "id": "00e37004-ff63-4878-bbda-f89204a9b1f1",
   "metadata": {},
   "outputs": [],
   "source": [
    "# 34. Split a list into chunks of size `n`."
   ]
  },
  {
   "cell_type": "code",
   "execution_count": 71,
   "id": "e35bb00b-905c-405e-9aa6-826662dacd33",
   "metadata": {},
   "outputs": [
    {
     "name": "stdout",
     "output_type": "stream",
     "text": [
      "Original list: [1, 2, 3, 4, 5, 6, 7, 8, 9, 10]\n",
      "List split into chunks of size 3: [[1, 2, 3], [4, 5, 6], [7, 8, 9], [10]]\n"
     ]
    }
   ],
   "source": [
    "def split_list_into_chunks(input_list, chunk_size):\n",
    "    for i in range(0, len(input_list), chunk_size):\n",
    "        yield input_list[i:i + chunk_size]\n",
    "\n",
    "my_list = [1, 2, 3, 4, 5, 6, 7, 8, 9, 10]\n",
    "chunk_size = 3\n",
    "\n",
    "chunked_lists = list(split_list_into_chunks(my_list, chunk_size))\n",
    "\n",
    "print(\"Original list:\", my_list)\n",
    "print(f\"List split into chunks of size {chunk_size}:\", chunked_lists)\n"
   ]
  },
  {
   "cell_type": "code",
   "execution_count": 72,
   "id": "3a4027d1-994b-46a6-a2ba-b6f917f4c5d8",
   "metadata": {},
   "outputs": [],
   "source": [
    "# 35. Find the second largest number in a list."
   ]
  },
  {
   "cell_type": "code",
   "execution_count": 73,
   "id": "3c11f0a3-3e90-47f8-80f7-f9da780df341",
   "metadata": {},
   "outputs": [
    {
     "name": "stdout",
     "output_type": "stream",
     "text": [
      "Second largest number: 7\n"
     ]
    }
   ],
   "source": [
    "def second_largest(numbers):\n",
    "    if len(numbers) < 2:\n",
    "        return None  # There is no second largest element in a list with less than 2 elements\n",
    "\n",
    "    largest = second = float('-inf')  # Initialize largest and second with negative infinity\n",
    "\n",
    "    for num in numbers:\n",
    "        if num > largest:\n",
    "            second = largest\n",
    "            largest = num\n",
    "        elif num > second and num != largest:\n",
    "            second = num\n",
    "\n",
    "    return second\n",
    "\n",
    "my_list = [1, 3, 7, 5, 2, 8]\n",
    "\n",
    "second_largest_number = second_largest(my_list)\n",
    "\n",
    "if second_largest_number is not None:\n",
    "    print(\"Second largest number:\", second_largest_number)\n",
    "else:\n",
    "    print(\"The list has less than 2 elements.\")\n"
   ]
  },
  {
   "cell_type": "code",
   "execution_count": 74,
   "id": "d1f6803d-4f1d-4e60-addd-53ae633fd7ef",
   "metadata": {},
   "outputs": [],
   "source": [
    "# 36. Replace every element in a list with its square."
   ]
  },
  {
   "cell_type": "code",
   "execution_count": 75,
   "id": "299f68ed-bedd-42e2-a213-8dec6dcad9d8",
   "metadata": {},
   "outputs": [
    {
     "name": "stdout",
     "output_type": "stream",
     "text": [
      "Original list: [1, 2, 3, 4, 5]\n",
      "List with elements squared: [1, 4, 9, 16, 25]\n"
     ]
    }
   ],
   "source": [
    "my_list = [1, 2, 3, 4, 5]\n",
    "\n",
    "# Replace every element in the list with its square using a list comprehension\n",
    "squared_list = [x ** 2 for x in my_list]\n",
    "\n",
    "print(\"Original list:\", my_list)\n",
    "print(\"List with elements squared:\", squared_list)\n"
   ]
  },
  {
   "cell_type": "code",
   "execution_count": 76,
   "id": "96b1b3e4-60ee-4108-b9f2-ffc9729f5c39",
   "metadata": {},
   "outputs": [],
   "source": [
    "# 37. Convert a list to a dictionary where list elements become keys and their indices become values."
   ]
  },
  {
   "cell_type": "code",
   "execution_count": 77,
   "id": "6fafac0a-0641-46a6-9b1e-2d88a9a27f4f",
   "metadata": {},
   "outputs": [
    {
     "name": "stdout",
     "output_type": "stream",
     "text": [
      "Original list: ['apple', 'banana', 'cherry', 'date']\n",
      "Dictionary with elements as keys and indices as values: {'apple': 0, 'banana': 1, 'cherry': 2, 'date': 3}\n"
     ]
    }
   ],
   "source": [
    "my_list = ['apple', 'banana', 'cherry', 'date']\n",
    "\n",
    "# Convert the list to a dictionary with elements as keys and indices as values\n",
    "my_dict = {element: index for index, element in enumerate(my_list)}\n",
    "\n",
    "print(\"Original list:\", my_list)\n",
    "print(\"Dictionary with elements as keys and indices as values:\", my_dict)\n"
   ]
  },
  {
   "cell_type": "code",
   "execution_count": 78,
   "id": "a6c9111d-35c1-46ca-8805-e19fac9ff415",
   "metadata": {},
   "outputs": [],
   "source": [
    "# 38. Shuffle the elements of a list randomly."
   ]
  },
  {
   "cell_type": "code",
   "execution_count": 79,
   "id": "926ed34a-e799-4a5e-95a7-448dc14c98d3",
   "metadata": {},
   "outputs": [
    {
     "name": "stdout",
     "output_type": "stream",
     "text": [
      "Shuffled list: [1, 5, 3, 4, 2]\n"
     ]
    }
   ],
   "source": [
    "import random\n",
    "\n",
    "my_list = [1, 2, 3, 4, 5]\n",
    "\n",
    "# Shuffle the elements of the list randomly\n",
    "random.shuffle(my_list)\n",
    "\n",
    "print(\"Shuffled list:\", my_list)\n"
   ]
  },
  {
   "cell_type": "code",
   "execution_count": 80,
   "id": "96ba10a3-f134-4979-a9db-ab1d74a72fd6",
   "metadata": {},
   "outputs": [],
   "source": [
    "# 39. Create a list of the first 10 factorial numbers."
   ]
  },
  {
   "cell_type": "code",
   "execution_count": 81,
   "id": "3e1c881e-49b3-4e11-9feb-39c02f27d0fe",
   "metadata": {},
   "outputs": [
    {
     "name": "stdout",
     "output_type": "stream",
     "text": [
      "First 10 factorial numbers: [1, 1, 2, 6, 24, 120, 720, 5040, 40320, 362880]\n"
     ]
    }
   ],
   "source": [
    "def factorial(n):\n",
    "    if n == 0:\n",
    "        return 1\n",
    "    else:\n",
    "        return n * factorial(n - 1)\n",
    "\n",
    "# Create a list of the first 10 factorial numbers\n",
    "factorial_numbers = [factorial(i) for i in range(10)]\n",
    "\n",
    "print(\"First 10 factorial numbers:\", factorial_numbers)\n"
   ]
  },
  {
   "cell_type": "code",
   "execution_count": 82,
   "id": "7d0fb64c-fbf5-43a9-9a1b-55500ac14c35",
   "metadata": {},
   "outputs": [],
   "source": [
    "# 40. Check if two lists have at least one element in common."
   ]
  },
  {
   "cell_type": "code",
   "execution_count": 83,
   "id": "6349a9d4-fe15-4939-b6ad-2c3a40f52c8f",
   "metadata": {},
   "outputs": [
    {
     "name": "stdout",
     "output_type": "stream",
     "text": [
      "The lists have at least one common element.\n"
     ]
    }
   ],
   "source": [
    "list1 = [1, 2, 3, 4, 5]\n",
    "list2 = [5, 6, 7, 8, 9]\n",
    "\n",
    "# Check if there is at least one common element using any() and a generator expression\n",
    "common_element_exists = any(x in list1 for x in list2)\n",
    "\n",
    "if common_element_exists:\n",
    "    print(\"The lists have at least one common element.\")\n",
    "else:\n",
    "    print(\"The lists have no common elements.\")\n"
   ]
  },
  {
   "cell_type": "code",
   "execution_count": 84,
   "id": "69be04ec-4a93-427c-adfb-c54ac854fdae",
   "metadata": {},
   "outputs": [],
   "source": [
    "# 41. Remove all elements from a list."
   ]
  },
  {
   "cell_type": "code",
   "execution_count": 85,
   "id": "adafbb29-6281-4f1e-9779-3b0036ee74d4",
   "metadata": {},
   "outputs": [
    {
     "name": "stdout",
     "output_type": "stream",
     "text": [
      "Empty list: []\n"
     ]
    }
   ],
   "source": [
    "my_list = [1, 2, 3, 4, 5]\n",
    "\n",
    "# Remove all elements from the list using slicing\n",
    "my_list[:] = []\n",
    "\n",
    "print(\"Empty list:\", my_list)\n"
   ]
  },
  {
   "cell_type": "code",
   "execution_count": 86,
   "id": "b78a9556-19e2-4f2f-80fc-a76569528ed7",
   "metadata": {},
   "outputs": [],
   "source": [
    "# 42. Replace negative numbers in a list with 0."
   ]
  },
  {
   "cell_type": "code",
   "execution_count": 87,
   "id": "18112748-73dd-48a1-a370-8bfc61f16c49",
   "metadata": {},
   "outputs": [
    {
     "name": "stdout",
     "output_type": "stream",
     "text": [
      "Original list: [1, -2, 3, -4, 5, -6]\n",
      "Updated list with negative numbers replaced by 0: [1, 0, 3, 0, 5, 0]\n"
     ]
    }
   ],
   "source": [
    "my_list = [1, -2, 3, -4, 5, -6]\n",
    "\n",
    "# Replace negative numbers with 0 using a list comprehension\n",
    "updated_list = [x if x >= 0 else 0 for x in my_list]\n",
    "\n",
    "print(\"Original list:\", my_list)\n",
    "print(\"Updated list with negative numbers replaced by 0:\", updated_list)\n"
   ]
  },
  {
   "cell_type": "code",
   "execution_count": 88,
   "id": "ed1af99b-60bc-474d-af52-8920f44394de",
   "metadata": {},
   "outputs": [],
   "source": [
    "# 43. Convert a string into a list of words."
   ]
  },
  {
   "cell_type": "code",
   "execution_count": 89,
   "id": "288a525b-fe66-460e-bf71-e6cb76fef4b2",
   "metadata": {},
   "outputs": [
    {
     "name": "stdout",
     "output_type": "stream",
     "text": [
      "Original string: This is a sample string.\n",
      "List of words: ['This', 'is', 'a', 'sample', 'string.']\n"
     ]
    }
   ],
   "source": [
    "# A sample string\n",
    "my_string = \"This is a sample string.\"\n",
    "\n",
    "# Convert the string into a list of words\n",
    "word_list = my_string.split()\n",
    "\n",
    "print(\"Original string:\", my_string)\n",
    "print(\"List of words:\", word_list)\n"
   ]
  },
  {
   "cell_type": "code",
   "execution_count": 90,
   "id": "119d9b02-862c-461b-9d56-c89cd8fc9584",
   "metadata": {},
   "outputs": [],
   "source": [
    "# 44. Convert a list of words into a string."
   ]
  },
  {
   "cell_type": "code",
   "execution_count": 91,
   "id": "36406194-de98-4523-a80c-948e79560a24",
   "metadata": {},
   "outputs": [
    {
     "name": "stdout",
     "output_type": "stream",
     "text": [
      "List of words: ['This', 'is', 'a', 'list', 'of', 'words']\n",
      "Combined string: This is a list of words\n"
     ]
    }
   ],
   "source": [
    "# A list of words\n",
    "word_list = ['This', 'is', 'a', 'list', 'of', 'words']\n",
    "\n",
    "# Convert the list of words into a string\n",
    "my_string = ' '.join(word_list)\n",
    "\n",
    "print(\"List of words:\", word_list)\n",
    "print(\"Combined string:\", my_string)\n"
   ]
  },
  {
   "cell_type": "code",
   "execution_count": 92,
   "id": "855b4a42-713b-47f1-9b65-97650b85dd7b",
   "metadata": {},
   "outputs": [],
   "source": [
    "# 45. Create a list of the first `n` powers of 2."
   ]
  },
  {
   "cell_type": "code",
   "execution_count": 93,
   "id": "e370eb16-5ebf-46a8-a663-3dfed27d41fd",
   "metadata": {},
   "outputs": [
    {
     "name": "stdout",
     "output_type": "stream",
     "text": [
      "First 5 powers of 2: [1, 2, 4, 8, 16]\n"
     ]
    }
   ],
   "source": [
    "n = 5  # Replace with the desired number of powers of 2\n",
    "powers_of_2 = []\n",
    "\n",
    "for i in range(n):\n",
    "    powers_of_2.append(2 ** i)\n",
    "\n",
    "print(\"First\", n, \"powers of 2:\", powers_of_2)\n"
   ]
  },
  {
   "cell_type": "code",
   "execution_count": 94,
   "id": "d1cc5d29-bb2a-48d2-853a-0eaac03899ba",
   "metadata": {},
   "outputs": [],
   "source": [
    "# 46. Find the longest string in a list of strings."
   ]
  },
  {
   "cell_type": "code",
   "execution_count": 95,
   "id": "89a0864b-3aeb-42eb-af6e-0fecb9c3afba",
   "metadata": {},
   "outputs": [
    {
     "name": "stdout",
     "output_type": "stream",
     "text": [
      "List of strings: ['apple', 'banana', 'cherry', 'date', 'elderberry']\n",
      "Longest string: elderberry\n"
     ]
    }
   ],
   "source": [
    "string_list = [\"apple\", \"banana\", \"cherry\", \"date\", \"elderberry\"]\n",
    "\n",
    "# Find the longest string in the list\n",
    "longest_string = max(string_list, key=len)\n",
    "\n",
    "print(\"List of strings:\", string_list)\n",
    "print(\"Longest string:\", longest_string)\n"
   ]
  },
  {
   "cell_type": "code",
   "execution_count": 96,
   "id": "46f91e7b-6a47-469e-b52b-8f458ba905a2",
   "metadata": {},
   "outputs": [],
   "source": [
    "# 47. Find the shortest string in a list of strings."
   ]
  },
  {
   "cell_type": "code",
   "execution_count": 97,
   "id": "2a719e85-b5e4-4509-8ae0-9f401aa2bd03",
   "metadata": {},
   "outputs": [
    {
     "name": "stdout",
     "output_type": "stream",
     "text": [
      "List of strings: ['apple', 'banana', 'cherry', 'date', 'elderberry']\n",
      "Shortest string: date\n"
     ]
    }
   ],
   "source": [
    "string_list = [\"apple\", \"banana\", \"cherry\", \"date\", \"elderberry\"]\n",
    "\n",
    "# Find the shortest string in the list\n",
    "shortest_string = min(string_list, key=len)\n",
    "\n",
    "print(\"List of strings:\", string_list)\n",
    "print(\"Shortest string:\", shortest_string)\n"
   ]
  },
  {
   "cell_type": "code",
   "execution_count": 98,
   "id": "92cddaf1-d724-4671-83c0-b7eba04c8999",
   "metadata": {},
   "outputs": [],
   "source": [
    "# 48. Create a list of the first `n` triangular numbers."
   ]
  },
  {
   "cell_type": "code",
   "execution_count": 99,
   "id": "389ad877-68ef-4d02-ae90-2b25bbf8140b",
   "metadata": {},
   "outputs": [
    {
     "name": "stdout",
     "output_type": "stream",
     "text": [
      "First 5 triangular numbers: [1, 3, 6, 10, 15]\n"
     ]
    }
   ],
   "source": [
    "n = 5  # Replace with the desired number of triangular numbers\n",
    "triangular_numbers = []\n",
    "\n",
    "for i in range(1, n + 1):\n",
    "    triangular_number = (i * (i + 1)) // 2\n",
    "    triangular_numbers.append(triangular_number)\n",
    "\n",
    "print(\"First\", n, \"triangular numbers:\", triangular_numbers)\n"
   ]
  },
  {
   "cell_type": "code",
   "execution_count": 100,
   "id": "032f371b-2b30-49d1-a41e-2f3a428d98f6",
   "metadata": {},
   "outputs": [],
   "source": [
    "# 49. Check if a list contains another list as a subsequence."
   ]
  },
  {
   "cell_type": "code",
   "execution_count": 101,
   "id": "74820fb2-7d1e-4c5c-9328-e37cbaf1a904",
   "metadata": {},
   "outputs": [
    {
     "name": "stdout",
     "output_type": "stream",
     "text": [
      "subsequence_list is a subsequence of larger_list.\n"
     ]
    }
   ],
   "source": [
    "def is_subsequence(subsequence, sequence):\n",
    "    sub_len = len(subsequence)\n",
    "    seq_len = len(sequence)\n",
    "    i = 0\n",
    "    j = 0\n",
    "\n",
    "    while i < sub_len and j < seq_len:\n",
    "        if subsequence[i] == sequence[j]:\n",
    "            i += 1\n",
    "        j += 1\n",
    "\n",
    "    return i == sub_len\n",
    "\n",
    "# Example lists\n",
    "larger_list = [1, 2, 3, 4, 5, 6, 7, 8, 9]\n",
    "subsequence_list = [3, 5, 7]\n",
    "\n",
    "# Check if subsequence_list is a subsequence of larger_list\n",
    "is_sub = is_subsequence(subsequence_list, larger_list)\n",
    "\n",
    "if is_sub:\n",
    "    print(\"subsequence_list is a subsequence of larger_list.\")\n",
    "else:\n",
    "    print(\"subsequence_list is not a subsequence of larger_list.\")\n"
   ]
  },
  {
   "cell_type": "code",
   "execution_count": 102,
   "id": "8ce5aa3e-1cbc-4387-b1e5-107ee2ed11d6",
   "metadata": {},
   "outputs": [],
   "source": [
    "# 50. Swap two elements in a list by their indices."
   ]
  },
  {
   "cell_type": "code",
   "execution_count": 103,
   "id": "8f438546-c338-4342-8512-e0c9b3599fdb",
   "metadata": {},
   "outputs": [
    {
     "name": "stdout",
     "output_type": "stream",
     "text": [
      "Original list: [1, 4, 3, 2, 5]\n"
     ]
    }
   ],
   "source": [
    "my_list = [1, 2, 3, 4, 5]\n",
    "\n",
    "# Define the indices of the elements you want to swap\n",
    "index1 = 1\n",
    "index2 = 3\n",
    "\n",
    "# Perform the swap\n",
    "my_list[index1], my_list[index2] = my_list[index2], my_list[index1]\n",
    "\n",
    "print(\"Original list:\", my_list)\n"
   ]
  },
  {
   "cell_type": "code",
   "execution_count": 104,
   "id": "ace38e9b-2121-4dbe-a18f-8eca9b9c0c38",
   "metadata": {},
   "outputs": [],
   "source": [
    "# Tuple Based Practice Problem :\n",
    "\n",
    "# 1. Create a tuple with integers from 1 to 5."
   ]
  },
  {
   "cell_type": "code",
   "execution_count": 105,
   "id": "acd85bdd-d211-44bf-82b6-64ca246806a1",
   "metadata": {},
   "outputs": [],
   "source": [
    "my_tuple = (1, 2, 3, 4, 5)"
   ]
  },
  {
   "cell_type": "code",
   "execution_count": 106,
   "id": "395a0bd8-f95f-4801-bf78-e14c1a4016b2",
   "metadata": {},
   "outputs": [],
   "source": [
    "# 2. Access the third element of a tuple."
   ]
  },
  {
   "cell_type": "code",
   "execution_count": 107,
   "id": "c3f08349-3048-4325-8f81-1efadd1e9624",
   "metadata": {},
   "outputs": [
    {
     "name": "stdout",
     "output_type": "stream",
     "text": [
      "Third element of the tuple: 3\n"
     ]
    }
   ],
   "source": [
    "my_tuple = (1, 2, 3, 4, 5)\n",
    "\n",
    "# Access the third element (index 2) of the tuple\n",
    "third_element = my_tuple[2]\n",
    "\n",
    "print(\"Third element of the tuple:\", third_element)\n"
   ]
  },
  {
   "cell_type": "code",
   "execution_count": 108,
   "id": "920215b9-92dc-4b07-b6b2-4fff7592bc38",
   "metadata": {},
   "outputs": [],
   "source": [
    "# 3. Find the length of a tuple without using the `len()` function."
   ]
  },
  {
   "cell_type": "code",
   "execution_count": 109,
   "id": "f2aafe2e-5474-4a70-8ba6-0d4ea1e82bf9",
   "metadata": {},
   "outputs": [
    {
     "name": "stdout",
     "output_type": "stream",
     "text": [
      "Length of the tuple: 5\n"
     ]
    }
   ],
   "source": [
    "my_tuple = (1, 2, 3, 4, 5)\n",
    "tuple_length = 0\n",
    "\n",
    "for _ in my_tuple:\n",
    "    tuple_length += 1\n",
    "\n",
    "print(\"Length of the tuple:\", tuple_length)\n"
   ]
  },
  {
   "cell_type": "code",
   "execution_count": 110,
   "id": "dc753314-966e-4429-a740-6d9467e154d3",
   "metadata": {},
   "outputs": [],
   "source": [
    "# 4. Count the occurrences of an element in a tuple."
   ]
  },
  {
   "cell_type": "code",
   "execution_count": 111,
   "id": "838d188e-37d0-4578-acc2-ae2f53b5ed32",
   "metadata": {},
   "outputs": [
    {
     "name": "stdout",
     "output_type": "stream",
     "text": [
      "Count of 2 in the tuple: 4\n"
     ]
    }
   ],
   "source": [
    "my_tuple = (1, 2, 2, 3, 4, 2, 5, 2)\n",
    "element_to_count = 2\n",
    "\n",
    "# Count the occurrences of the element in the tuple\n",
    "element_count = my_tuple.count(element_to_count)\n",
    "\n",
    "print(f\"Count of {element_to_count} in the tuple: {element_count}\")\n"
   ]
  },
  {
   "cell_type": "code",
   "execution_count": 112,
   "id": "e6e7ccac-4fec-439b-8198-012017ce4fe1",
   "metadata": {},
   "outputs": [],
   "source": [
    "# 5. Find the index of the first occurrence of an element in a tuple."
   ]
  },
  {
   "cell_type": "code",
   "execution_count": 113,
   "id": "2608a8b9-3593-4e9d-a186-e30060a6af18",
   "metadata": {},
   "outputs": [
    {
     "name": "stdout",
     "output_type": "stream",
     "text": [
      "Index of the first occurrence of 2: 1\n"
     ]
    }
   ],
   "source": [
    "my_tuple = (1, 2, 3, 4, 5, 2)\n",
    "element_to_find = 2\n",
    "\n",
    "# Find the index of the first occurrence of the element in the tuple\n",
    "element_index = my_tuple.index(element_to_find)\n",
    "\n",
    "print(f\"Index of the first occurrence of {element_to_find}: {element_index}\")\n"
   ]
  },
  {
   "cell_type": "code",
   "execution_count": 114,
   "id": "d1bd2fa7-e1bb-4b7d-8b89-1e5ba129082d",
   "metadata": {},
   "outputs": [],
   "source": [
    "# 6. Check if an element exists in a tuple."
   ]
  },
  {
   "cell_type": "code",
   "execution_count": 115,
   "id": "5f36a8b0-cbf1-4a0f-b7f8-0c84bad66aaa",
   "metadata": {},
   "outputs": [
    {
     "name": "stdout",
     "output_type": "stream",
     "text": [
      "3 exists in the tuple.\n"
     ]
    }
   ],
   "source": [
    "my_tuple = (1, 2, 3, 4, 5)\n",
    "element_to_check = 3\n",
    "\n",
    "# Check if the element exists in the tuple\n",
    "if element_to_check in my_tuple:\n",
    "    print(f\"{element_to_check} exists in the tuple.\")\n",
    "else:\n",
    "    print(f\"{element_to_check} does not exist in the tuple.\")\n"
   ]
  },
  {
   "cell_type": "code",
   "execution_count": 116,
   "id": "da1d9cf4-2365-4493-bf9e-9b8edb120218",
   "metadata": {},
   "outputs": [],
   "source": [
    "# 7. Convert a tuple to a list."
   ]
  },
  {
   "cell_type": "code",
   "execution_count": 117,
   "id": "fff2db57-1af1-41dd-8ceb-a22204f982b0",
   "metadata": {},
   "outputs": [
    {
     "name": "stdout",
     "output_type": "stream",
     "text": [
      "Tuple: (1, 2, 3, 4, 5)\n",
      "List: [1, 2, 3, 4, 5]\n"
     ]
    }
   ],
   "source": [
    "my_tuple = (1, 2, 3, 4, 5)\n",
    "\n",
    "# Convert the tuple to a list using the list() constructor\n",
    "my_list = list(my_tuple)\n",
    "\n",
    "print(\"Tuple:\", my_tuple)\n",
    "print(\"List:\", my_list)\n"
   ]
  },
  {
   "cell_type": "code",
   "execution_count": 118,
   "id": "f961ee4f-d1d0-4ada-b34c-b48d2f061566",
   "metadata": {},
   "outputs": [],
   "source": [
    "# 8. Convert a list to a tuple."
   ]
  },
  {
   "cell_type": "code",
   "execution_count": 119,
   "id": "c192f573-d937-45ad-958b-6318647f2cd5",
   "metadata": {},
   "outputs": [
    {
     "name": "stdout",
     "output_type": "stream",
     "text": [
      "List: [1, 2, 3, 4, 5]\n",
      "Tuple: (1, 2, 3, 4, 5)\n"
     ]
    }
   ],
   "source": [
    "my_list = [1, 2, 3, 4, 5]\n",
    "\n",
    "# Convert the list to a tuple using the tuple() constructor\n",
    "my_tuple = tuple(my_list)\n",
    "\n",
    "print(\"List:\", my_list)\n",
    "print(\"Tuple:\", my_tuple)\n"
   ]
  },
  {
   "cell_type": "code",
   "execution_count": 120,
   "id": "da117566-a88c-4268-bd83-7c1f8a68eab6",
   "metadata": {},
   "outputs": [],
   "source": [
    "# 9. Unpack the elements of a tuple into variables."
   ]
  },
  {
   "cell_type": "code",
   "execution_count": 121,
   "id": "d9d8cd34-3f95-4ab0-83bf-def98cc9e3b3",
   "metadata": {},
   "outputs": [
    {
     "name": "stdout",
     "output_type": "stream",
     "text": [
      "Tuple: (1, 2, 3)\n",
      "Unpacked variables: 1 2 3\n"
     ]
    }
   ],
   "source": [
    "my_tuple = (1, 2, 3)\n",
    "\n",
    "# Unpack the elements of the tuple into variables\n",
    "var1, var2, var3 = my_tuple\n",
    "\n",
    "print(\"Tuple:\", my_tuple)\n",
    "print(\"Unpacked variables:\", var1, var2, var3)\n"
   ]
  },
  {
   "cell_type": "code",
   "execution_count": 122,
   "id": "5627c023-1b68-4694-8b78-c77b27173dbc",
   "metadata": {},
   "outputs": [],
   "source": [
    "# 10. Create a tuple of even numbers from 1 to 10."
   ]
  },
  {
   "cell_type": "code",
   "execution_count": 123,
   "id": "e9a58dbf-fb69-495d-bba1-77107cc36e14",
   "metadata": {},
   "outputs": [
    {
     "name": "stdout",
     "output_type": "stream",
     "text": [
      "Tuple of even numbers: (2, 4, 6, 8, 10)\n"
     ]
    }
   ],
   "source": [
    "# Create a tuple of even numbers from 1 to 10\n",
    "even_numbers_tuple = tuple(x for x in range(2, 11, 2))\n",
    "\n",
    "print(\"Tuple of even numbers:\", even_numbers_tuple)\n"
   ]
  },
  {
   "cell_type": "code",
   "execution_count": 124,
   "id": "9c7b8e5c-f54a-4ce0-a22e-c30d6c7069ba",
   "metadata": {},
   "outputs": [],
   "source": [
    "# 11. Create a tuple of odd numbers from 1 to 10."
   ]
  },
  {
   "cell_type": "code",
   "execution_count": 125,
   "id": "b629764e-e6f9-4e12-9eca-82b7bacecc71",
   "metadata": {},
   "outputs": [
    {
     "name": "stdout",
     "output_type": "stream",
     "text": [
      "Tuple of odd numbers: (1, 3, 5, 7, 9)\n"
     ]
    }
   ],
   "source": [
    "# Create a tuple of odd numbers from 1 to 10\n",
    "odd_numbers_tuple = tuple(x for x in range(1, 11, 2))\n",
    "\n",
    "print(\"Tuple of odd numbers:\", odd_numbers_tuple)\n"
   ]
  },
  {
   "cell_type": "code",
   "execution_count": 126,
   "id": "6e62e2d1-5422-4c98-a5ac-96b05e33a458",
   "metadata": {},
   "outputs": [],
   "source": [
    "# 12. Concatenate two tuples."
   ]
  },
  {
   "cell_type": "code",
   "execution_count": 127,
   "id": "86270137-e50e-4c6f-9d7a-616dcd792995",
   "metadata": {},
   "outputs": [
    {
     "name": "stdout",
     "output_type": "stream",
     "text": [
      "Tuple 1: (1, 2, 3)\n",
      "Tuple 2: (4, 5, 6)\n",
      "Concatenated tuple: (1, 2, 3, 4, 5, 6)\n"
     ]
    }
   ],
   "source": [
    "tuple1 = (1, 2, 3)\n",
    "tuple2 = (4, 5, 6)\n",
    "\n",
    "# Concatenate two tuples\n",
    "concatenated_tuple = tuple1 + tuple2\n",
    "\n",
    "print(\"Tuple 1:\", tuple1)\n",
    "print(\"Tuple 2:\", tuple2)\n",
    "print(\"Concatenated tuple:\", concatenated_tuple)\n"
   ]
  },
  {
   "cell_type": "code",
   "execution_count": 128,
   "id": "12b34aa1-6907-4287-9c98-345b51fd8a1f",
   "metadata": {},
   "outputs": [],
   "source": [
    "# 13. Repeat a tuple three times."
   ]
  },
  {
   "cell_type": "code",
   "execution_count": 129,
   "id": "8623e945-9e44-4fc2-bd48-b8b9087db099",
   "metadata": {},
   "outputs": [
    {
     "name": "stdout",
     "output_type": "stream",
     "text": [
      "Original tuple: (1, 2, 3)\n",
      "Repeated tuple: (1, 2, 3, 1, 2, 3, 1, 2, 3)\n"
     ]
    }
   ],
   "source": [
    "my_tuple = (1, 2, 3)\n",
    "\n",
    "# Repeat the tuple three times\n",
    "repeated_tuple = my_tuple * 3\n",
    "\n",
    "print(\"Original tuple:\", my_tuple)\n",
    "print(\"Repeated tuple:\", repeated_tuple)\n"
   ]
  },
  {
   "cell_type": "code",
   "execution_count": 130,
   "id": "ae6f4ed1-5750-44e7-9474-2f707667cb80",
   "metadata": {},
   "outputs": [],
   "source": [
    "# 14. Check if a tuple is empty."
   ]
  },
  {
   "cell_type": "code",
   "execution_count": 131,
   "id": "b4859cac-6a82-4896-8cc2-ecbc1846fb02",
   "metadata": {},
   "outputs": [
    {
     "name": "stdout",
     "output_type": "stream",
     "text": [
      "The tuple is empty.\n"
     ]
    }
   ],
   "source": [
    "my_tuple = ()\n",
    "\n",
    "# Check if the tuple is empty\n",
    "if not my_tuple:\n",
    "    print(\"The tuple is empty.\")\n",
    "else:\n",
    "    print(\"The tuple is not empty.\")\n"
   ]
  },
  {
   "cell_type": "code",
   "execution_count": 132,
   "id": "c9b2a31a-9f88-4232-bf18-2c31c4bfea80",
   "metadata": {},
   "outputs": [],
   "source": [
    "# 15. Create a nested tuple."
   ]
  },
  {
   "cell_type": "code",
   "execution_count": 133,
   "id": "bfc2b970-94d5-404a-93ff-11b721727ea4",
   "metadata": {},
   "outputs": [
    {
     "name": "stdout",
     "output_type": "stream",
     "text": [
      "Nested tuple: ((1, 2), (3, 4), (5, 6))\n"
     ]
    }
   ],
   "source": [
    "nested_tuple = ((1, 2), (3, 4), (5, 6))\n",
    "\n",
    "print(\"Nested tuple:\", nested_tuple)\n"
   ]
  },
  {
   "cell_type": "code",
   "execution_count": 134,
   "id": "38675219-afa9-4416-87d2-a13983bb76c7",
   "metadata": {},
   "outputs": [],
   "source": [
    "# 16. Access the first element of a nested tuple."
   ]
  },
  {
   "cell_type": "code",
   "execution_count": 135,
   "id": "cbf38afb-5317-419c-aef3-28ce84fcd46d",
   "metadata": {},
   "outputs": [
    {
     "name": "stdout",
     "output_type": "stream",
     "text": [
      "Nested tuple: ((1, 2), (3, 4), (5, 6))\n",
      "First element of the first inner tuple: 1\n"
     ]
    }
   ],
   "source": [
    "nested_tuple = ((1, 2), (3, 4), (5, 6))\n",
    "\n",
    "# Access the first element of the first inner tuple\n",
    "first_element = nested_tuple[0][0]\n",
    "\n",
    "print(\"Nested tuple:\", nested_tuple)\n",
    "print(\"First element of the first inner tuple:\", first_element)\n"
   ]
  },
  {
   "cell_type": "code",
   "execution_count": 137,
   "id": "c939fb30-f832-45f1-8b0a-539ad1c3a1d5",
   "metadata": {},
   "outputs": [],
   "source": [
    "# 17. Create a tuple with a single element."
   ]
  },
  {
   "cell_type": "code",
   "execution_count": 138,
   "id": "011dbd9c-bab9-4099-bcf9-97ff1ac91aae",
   "metadata": {},
   "outputs": [
    {
     "name": "stdout",
     "output_type": "stream",
     "text": [
      "Single-element tuple: (42,)\n"
     ]
    }
   ],
   "source": [
    "single_element_tuple = (42,)\n",
    "\n",
    "print(\"Single-element tuple:\", single_element_tuple)\n"
   ]
  },
  {
   "cell_type": "code",
   "execution_count": 139,
   "id": "61ee5ea3-3dd4-4113-b333-93dbe865f8e1",
   "metadata": {},
   "outputs": [],
   "source": [
    "# 18. Compare two tuples."
   ]
  },
  {
   "cell_type": "code",
   "execution_count": 140,
   "id": "400629f4-b124-4d3f-898c-4edf5a0f9e38",
   "metadata": {},
   "outputs": [
    {
     "name": "stdout",
     "output_type": "stream",
     "text": [
      "tuple1 and tuple2 are equal.\n",
      "tuple1 and tuple2 are equal.\n",
      "tuple1 is not greater than tuple2.\n"
     ]
    }
   ],
   "source": [
    "tuple1 = (1, 2, 3)\n",
    "tuple2 = (1, 2, 3)\n",
    "\n",
    "# Compare the two tuples for equality\n",
    "if tuple1 == tuple2:\n",
    "    print(\"tuple1 and tuple2 are equal.\")\n",
    "else:\n",
    "    print(\"tuple1 and tuple2 are not equal.\")\n",
    "\n",
    "# Compare the two tuples for inequality\n",
    "if tuple1 != tuple2:\n",
    "    print(\"tuple1 and tuple2 are not equal.\")\n",
    "else:\n",
    "    print(\"tuple1 and tuple2 are equal.\")\n",
    "\n",
    "# Compare two tuples for greater than\n",
    "if tuple1 > tuple2:\n",
    "    print(\"tuple1 is greater than tuple2.\")\n",
    "else:\n",
    "    print(\"tuple1 is not greater than tuple2.\")\n"
   ]
  },
  {
   "cell_type": "code",
   "execution_count": 141,
   "id": "89666119-35f2-4469-a759-23912b8201f1",
   "metadata": {},
   "outputs": [],
   "source": [
    "# 19. Delete a tuple."
   ]
  },
  {
   "cell_type": "code",
   "execution_count": 142,
   "id": "b6cf4424-2486-4642-8eb1-b646d7a4da4f",
   "metadata": {},
   "outputs": [],
   "source": [
    "my_tuple = (1, 2, 3)\n",
    "\n",
    "# Delete the tuple\n",
    "del my_tuple\n",
    "\n",
    "# Attempting to access the tuple after deletion will raise an error\n",
    "# Uncomment the following line to see the error\n",
    "# print(my_tuple)\n"
   ]
  },
  {
   "cell_type": "code",
   "execution_count": 143,
   "id": "759d2da7-c59d-46da-902e-35bfe3323478",
   "metadata": {},
   "outputs": [],
   "source": [
    "# 20. Slice a tuple."
   ]
  },
  {
   "cell_type": "code",
   "execution_count": 144,
   "id": "02b26576-2010-41a6-984c-b511d5b52b2b",
   "metadata": {},
   "outputs": [
    {
     "name": "stdout",
     "output_type": "stream",
     "text": [
      "Original tuple: (1, 2, 3, 4, 5)\n",
      "Sliced tuple: (2, 3, 4)\n"
     ]
    }
   ],
   "source": [
    "my_tuple = (1, 2, 3, 4, 5)\n",
    "\n",
    "# Slice the tuple to create a new tuple with elements from index 1 to 3 (inclusive)\n",
    "sliced_tuple = my_tuple[1:4]\n",
    "\n",
    "print(\"Original tuple:\", my_tuple)\n",
    "print(\"Sliced tuple:\", sliced_tuple)\n"
   ]
  },
  {
   "cell_type": "code",
   "execution_count": 145,
   "id": "ed1f1ccd-d75a-46fd-b7eb-086681772118",
   "metadata": {},
   "outputs": [],
   "source": [
    "# 21. Find the maximum value in a tuple."
   ]
  },
  {
   "cell_type": "code",
   "execution_count": 146,
   "id": "070bc46e-66e1-4d38-a656-7ec78694ede9",
   "metadata": {},
   "outputs": [
    {
     "name": "stdout",
     "output_type": "stream",
     "text": [
      "Tuple: (10, 30, 5, 40, 20)\n",
      "Maximum value: 40\n"
     ]
    }
   ],
   "source": [
    "my_tuple = (10, 30, 5, 40, 20)\n",
    "\n",
    "# Find the maximum value in the tuple\n",
    "max_value = max(my_tuple)\n",
    "\n",
    "print(\"Tuple:\", my_tuple)\n",
    "print(\"Maximum value:\", max_value)\n"
   ]
  },
  {
   "cell_type": "code",
   "execution_count": 147,
   "id": "339d4080-2829-4ed1-a27a-de88f5c1b5a5",
   "metadata": {},
   "outputs": [],
   "source": [
    "#22. Find the minimum value in a tuple."
   ]
  },
  {
   "cell_type": "code",
   "execution_count": 148,
   "id": "24e25bac-8f7b-4565-a4c6-46fafd1db695",
   "metadata": {},
   "outputs": [
    {
     "name": "stdout",
     "output_type": "stream",
     "text": [
      "Tuple: (10, 30, 5, 40, 20)\n",
      "Minimum value: 5\n"
     ]
    }
   ],
   "source": [
    "my_tuple = (10, 30, 5, 40, 20)\n",
    "\n",
    "# Find the minimum value in the tuple\n",
    "min_value = min(my_tuple)\n",
    "\n",
    "print(\"Tuple:\", my_tuple)\n",
    "print(\"Minimum value:\", min_value)\n"
   ]
  },
  {
   "cell_type": "code",
   "execution_count": 149,
   "id": "2826df4c-66aa-4309-a9da-0bea4138bd3f",
   "metadata": {},
   "outputs": [],
   "source": [
    "# 23. Convert a string to a tuple of characters."
   ]
  },
  {
   "cell_type": "code",
   "execution_count": 150,
   "id": "cce09a8e-0eed-4683-a36f-8a3192370945",
   "metadata": {},
   "outputs": [
    {
     "name": "stdout",
     "output_type": "stream",
     "text": [
      "Original string: Hello, World!\n",
      "Tuple of characters: ('H', 'e', 'l', 'l', 'o', ',', ' ', 'W', 'o', 'r', 'l', 'd', '!')\n"
     ]
    }
   ],
   "source": [
    "my_string = \"Hello, World!\"\n",
    "\n",
    "# Convert the string to a tuple of characters using a tuple comprehension\n",
    "char_tuple = tuple(char for char in my_string)\n",
    "\n",
    "print(\"Original string:\", my_string)\n",
    "print(\"Tuple of characters:\", char_tuple)\n"
   ]
  },
  {
   "cell_type": "code",
   "execution_count": 151,
   "id": "bed6ff8a-56e7-40c5-b57c-b233c08a3a59",
   "metadata": {},
   "outputs": [],
   "source": [
    "# 24. Convert a tuple of characters to a string."
   ]
  },
  {
   "cell_type": "code",
   "execution_count": 152,
   "id": "573d3840-81e3-4f6e-b0d0-4f0fa6bcd8e2",
   "metadata": {},
   "outputs": [
    {
     "name": "stdout",
     "output_type": "stream",
     "text": [
      "Tuple of characters: ('H', 'e', 'l', 'l', 'o', ',', ' ', 'W', 'o', 'r', 'l', 'd', '!')\n",
      "Resulting string: Hello, World!\n"
     ]
    }
   ],
   "source": [
    "char_tuple = ('H', 'e', 'l', 'l', 'o', ',', ' ', 'W', 'o', 'r', 'l', 'd', '!')\n",
    "\n",
    "# Convert the tuple of characters to a string using the join() method\n",
    "resulting_string = ''.join(char_tuple)\n",
    "\n",
    "print(\"Tuple of characters:\", char_tuple)\n",
    "print(\"Resulting string:\", resulting_string)\n"
   ]
  },
  {
   "cell_type": "code",
   "execution_count": 153,
   "id": "1d689ca2-9aa6-44d7-9f55-75a18a45ff36",
   "metadata": {},
   "outputs": [],
   "source": [
    "# 25. Create a tuple from multiple data types."
   ]
  },
  {
   "cell_type": "code",
   "execution_count": 154,
   "id": "ecf78887-a4a5-45ea-a123-5bd9c5a9e064",
   "metadata": {},
   "outputs": [
    {
     "name": "stdout",
     "output_type": "stream",
     "text": [
      "Tuple with multiple data types: (1, 'Hello', 3.14, True)\n"
     ]
    }
   ],
   "source": [
    "my_tuple = (1, \"Hello\", 3.14, True)\n",
    "\n",
    "print(\"Tuple with multiple data types:\", my_tuple)\n"
   ]
  },
  {
   "cell_type": "code",
   "execution_count": 155,
   "id": "37724395-2569-4025-8b64-3299bdc5bae3",
   "metadata": {},
   "outputs": [],
   "source": [
    "# 26. Check if two tuples are identical."
   ]
  },
  {
   "cell_type": "code",
   "execution_count": 156,
   "id": "b39d216c-1a74-4608-a8c9-7317292ad527",
   "metadata": {},
   "outputs": [
    {
     "name": "stdout",
     "output_type": "stream",
     "text": [
      "The two tuples are identical.\n"
     ]
    }
   ],
   "source": [
    "tuple1 = (1, 2, 3)\n",
    "tuple2 = (1, 2, 3)\n",
    "\n",
    "# Check if the two tuples are identical\n",
    "if tuple1 == tuple2:\n",
    "    print(\"The two tuples are identical.\")\n",
    "else:\n",
    "    print(\"The two tuples are not identical.\")\n"
   ]
  },
  {
   "cell_type": "code",
   "execution_count": 157,
   "id": "74499f29-cd3a-4528-8f27-ff28b95df3c8",
   "metadata": {},
   "outputs": [],
   "source": [
    "# 27. Sort the elements of a tuple."
   ]
  },
  {
   "cell_type": "code",
   "execution_count": 158,
   "id": "24762ea1-5862-4401-8695-469dda2c8452",
   "metadata": {},
   "outputs": [
    {
     "name": "stdout",
     "output_type": "stream",
     "text": [
      "Original tuple: (5, 1, 3, 2, 4)\n",
      "Sorted tuple: (1, 2, 3, 4, 5)\n"
     ]
    }
   ],
   "source": [
    "my_tuple = (5, 1, 3, 2, 4)\n",
    "\n",
    "# Create a sorted list from the tuple\n",
    "sorted_list = sorted(my_tuple)\n",
    "\n",
    "# Convert the sorted list back into a tuple\n",
    "sorted_tuple = tuple(sorted_list)\n",
    "\n",
    "print(\"Original tuple:\", my_tuple)\n",
    "print(\"Sorted tuple:\", sorted_tuple)\n"
   ]
  },
  {
   "cell_type": "code",
   "execution_count": 159,
   "id": "60eed9e2-99fd-4b23-8834-59160e038df4",
   "metadata": {},
   "outputs": [],
   "source": [
    "# 28. Convert a tuple of integers to a tuple of strings."
   ]
  },
  {
   "cell_type": "code",
   "execution_count": 160,
   "id": "8b3c84cc-e05e-4bdc-942d-0d42e029bf15",
   "metadata": {},
   "outputs": [
    {
     "name": "stdout",
     "output_type": "stream",
     "text": [
      "Tuple of integers: (1, 2, 3, 4, 5)\n",
      "Tuple of strings: ('1', '2', '3', '4', '5')\n"
     ]
    }
   ],
   "source": [
    "tuple_of_integers = (1, 2, 3, 4, 5)\n",
    "\n",
    "# Convert the tuple of integers to a tuple of strings\n",
    "tuple_of_strings = tuple(str(x) for x in tuple_of_integers)\n",
    "\n",
    "print(\"Tuple of integers:\", tuple_of_integers)\n",
    "print(\"Tuple of strings:\", tuple_of_strings)\n"
   ]
  },
  {
   "cell_type": "code",
   "execution_count": 161,
   "id": "3b928a6d-1c3a-44b4-b72d-7e50699c947d",
   "metadata": {},
   "outputs": [],
   "source": [
    "# 29. Convert a tuple of strings to a tuple of integers."
   ]
  },
  {
   "cell_type": "code",
   "execution_count": 162,
   "id": "123581db-8936-477f-aacd-a55dfd9339c2",
   "metadata": {},
   "outputs": [
    {
     "name": "stdout",
     "output_type": "stream",
     "text": [
      "Tuple of strings: ('1', '2', '3', '4', '5')\n",
      "Tuple of integers: (1, 2, 3, 4, 5)\n"
     ]
    }
   ],
   "source": [
    "tuple_of_strings = ('1', '2', '3', '4', '5')\n",
    "\n",
    "# Convert the tuple of strings to a tuple of integers\n",
    "tuple_of_integers = tuple(int(x) for x in tuple_of_strings)\n",
    "\n",
    "print(\"Tuple of strings:\", tuple_of_strings)\n",
    "print(\"Tuple of integers:\", tuple_of_integers)\n"
   ]
  },
  {
   "cell_type": "code",
   "execution_count": 163,
   "id": "5d6286af-8667-4d1d-b882-01d94cfa00b1",
   "metadata": {},
   "outputs": [],
   "source": [
    "# 30. Merge two tuples."
   ]
  },
  {
   "cell_type": "code",
   "execution_count": 164,
   "id": "64c94d55-ca89-4cf9-adab-439ef31f4568",
   "metadata": {},
   "outputs": [
    {
     "name": "stdout",
     "output_type": "stream",
     "text": [
      "Tuple 1: (1, 2, 3)\n",
      "Tuple 2: (4, 5, 6)\n",
      "Merged tuple: (1, 2, 3, 4, 5, 6)\n"
     ]
    }
   ],
   "source": [
    "tuple1 = (1, 2, 3)\n",
    "tuple2 = (4, 5, 6)\n",
    "\n",
    "# Merge two tuples by concatenating them\n",
    "merged_tuple = tuple1 + tuple2\n",
    "\n",
    "print(\"Tuple 1:\", tuple1)\n",
    "print(\"Tuple 2:\", tuple2)\n",
    "print(\"Merged tuple:\", merged_tuple)\n"
   ]
  },
  {
   "cell_type": "code",
   "execution_count": 165,
   "id": "b31411c6-44b9-4e6c-afa3-2792dbb5b158",
   "metadata": {},
   "outputs": [],
   "source": [
    "# 31. Flatten a nested tuple."
   ]
  },
  {
   "cell_type": "code",
   "execution_count": 166,
   "id": "af54cc5b-c7e5-4a7b-9e08-974efdba5a09",
   "metadata": {},
   "outputs": [
    {
     "name": "stdout",
     "output_type": "stream",
     "text": [
      "Nested tuple: ((1, 2), (3, (4, 5)), 6, (7, 8))\n",
      "Flattened tuple: (1, 2, 3, 4, 5, 6, 7, 8)\n"
     ]
    }
   ],
   "source": [
    "def flatten_nested_tuple(nested_tuple):\n",
    "    flat_list = []\n",
    "    for item in nested_tuple:\n",
    "        if isinstance(item, tuple):\n",
    "            flat_list.extend(flatten_nested_tuple(item))\n",
    "        else:\n",
    "            flat_list.append(item)\n",
    "    return tuple(flat_list)\n",
    "\n",
    "nested_tuple = ((1, 2), (3, (4, 5)), 6, (7, 8))\n",
    "\n",
    "# Flatten the nested tuple\n",
    "flat_tuple = flatten_nested_tuple(nested_tuple)\n",
    "\n",
    "print(\"Nested tuple:\", nested_tuple)\n",
    "print(\"Flattened tuple:\", flat_tuple)\n"
   ]
  },
  {
   "cell_type": "code",
   "execution_count": 167,
   "id": "756093e9-f023-4447-a307-85a0189174a5",
   "metadata": {},
   "outputs": [],
   "source": [
    "# 32. Create a tuple of the first 5 prime numbers."
   ]
  },
  {
   "cell_type": "code",
   "execution_count": 168,
   "id": "4f240e64-84bd-4828-a2fc-ed01ab64e1ac",
   "metadata": {},
   "outputs": [
    {
     "name": "stdout",
     "output_type": "stream",
     "text": [
      "Tuple of the first 5 prime numbers: (2, 3, 5, 7, 11)\n"
     ]
    }
   ],
   "source": [
    "# Function to check if a number is prime\n",
    "def is_prime(num):\n",
    "    if num <= 1:\n",
    "        return False\n",
    "    for i in range(2, int(num ** 0.5) + 1):\n",
    "        if num % i == 0:\n",
    "            return False\n",
    "    return True\n",
    "\n",
    "# Generate the first 5 prime numbers\n",
    "prime_numbers = []\n",
    "num = 2\n",
    "while len(prime_numbers) < 5:\n",
    "    if is_prime(num):\n",
    "        prime_numbers.append(num)\n",
    "    num += 1\n",
    "\n",
    "# Create a tuple from the list of prime numbers\n",
    "prime_tuple = tuple(prime_numbers)\n",
    "\n",
    "print(\"Tuple of the first 5 prime numbers:\", prime_tuple)\n"
   ]
  },
  {
   "cell_type": "code",
   "execution_count": 169,
   "id": "fd7a23c6-1681-4e56-a317-0a5c111d003b",
   "metadata": {},
   "outputs": [],
   "source": [
    "# 33. Check if a tuple is a palindrome."
   ]
  },
  {
   "cell_type": "code",
   "execution_count": 170,
   "id": "4c4a95df-be80-4682-8662-c3f2b2c288df",
   "metadata": {},
   "outputs": [
    {
     "name": "stdout",
     "output_type": "stream",
     "text": [
      "Tuple 1: (1, 2, 3, 2, 1)\n",
      "Tuple 1 is a palindrome.\n",
      "\n",
      "Tuple 2: (1, 2, 3, 4, 5)\n",
      "Tuple 2 is not a palindrome.\n"
     ]
    }
   ],
   "source": [
    "def is_palindrome(my_tuple):\n",
    "    return my_tuple == my_tuple[::-1]\n",
    "\n",
    "# Test cases\n",
    "tuple1 = (1, 2, 3, 2, 1)\n",
    "tuple2 = (1, 2, 3, 4, 5)\n",
    "\n",
    "print(\"Tuple 1:\", tuple1)\n",
    "if is_palindrome(tuple1):\n",
    "    print(\"Tuple 1 is a palindrome.\")\n",
    "else:\n",
    "    print(\"Tuple 1 is not a palindrome.\")\n",
    "\n",
    "print(\"\\nTuple 2:\", tuple2)\n",
    "if is_palindrome(tuple2):\n",
    "    print(\"Tuple 2 is a palindrome.\")\n",
    "else:\n",
    "    print(\"Tuple 2 is not a palindrome.\")\n"
   ]
  },
  {
   "cell_type": "code",
   "execution_count": 171,
   "id": "051fd078-e28e-4509-b5cf-0c485f6515e3",
   "metadata": {},
   "outputs": [],
   "source": [
    "# 34. Create a tuple of squares of numbers from 1 to 5."
   ]
  },
  {
   "cell_type": "code",
   "execution_count": 172,
   "id": "0bbe9d16-6257-4f7e-897e-2dc1f46c1816",
   "metadata": {},
   "outputs": [
    {
     "name": "stdout",
     "output_type": "stream",
     "text": [
      "Tuple of squares: (1, 4, 9, 16, 25)\n"
     ]
    }
   ],
   "source": [
    "# Using a list comprehension to calculate the squares of numbers from 1 to 5\n",
    "squares_list = [x ** 2 for x in range(1, 6)]\n",
    "\n",
    "# Convert the list of squares to a tuple\n",
    "squares_tuple = tuple(squares_list)\n",
    "\n",
    "print(\"Tuple of squares:\", squares_tuple)\n"
   ]
  },
  {
   "cell_type": "code",
   "execution_count": 173,
   "id": "6dfce68f-5497-408b-87fd-e6a021ea0ca0",
   "metadata": {},
   "outputs": [],
   "source": [
    "# 35. Filter out all even numbers from a tuple."
   ]
  },
  {
   "cell_type": "code",
   "execution_count": 174,
   "id": "c3d10b00-4cfa-4d20-9489-c957c5b0bd73",
   "metadata": {},
   "outputs": [
    {
     "name": "stdout",
     "output_type": "stream",
     "text": [
      "Original tuple: (1, 2, 3, 4, 5, 6, 7, 8, 9, 10)\n",
      "Tuple with odd numbers: (1, 3, 5, 7, 9)\n"
     ]
    }
   ],
   "source": [
    "original_tuple = (1, 2, 3, 4, 5, 6, 7, 8, 9, 10)\n",
    "\n",
    "# Filter out even numbers and create a new tuple with only odd numbers\n",
    "odd_numbers_tuple = tuple(x for x in original_tuple if x % 2 != 0)\n",
    "\n",
    "print(\"Original tuple:\", original_tuple)\n",
    "print(\"Tuple with odd numbers:\", odd_numbers_tuple)\n"
   ]
  },
  {
   "cell_type": "code",
   "execution_count": 175,
   "id": "0118cf6a-4c8a-4d04-8390-9d78b88baa1f",
   "metadata": {},
   "outputs": [],
   "source": [
    "# 36. Multiply all elements in a tuple by 2."
   ]
  },
  {
   "cell_type": "code",
   "execution_count": 176,
   "id": "c1670542-3971-48b5-8c5e-65d82c7dd275",
   "metadata": {},
   "outputs": [
    {
     "name": "stdout",
     "output_type": "stream",
     "text": [
      "Original tuple: (1, 2, 3, 4, 5)\n",
      "New tuple with elements multiplied by 2: (2, 4, 6, 8, 10)\n"
     ]
    }
   ],
   "source": [
    "original_tuple = (1, 2, 3, 4, 5)\n",
    "\n",
    "# Create a new tuple with elements multiplied by 2\n",
    "new_tuple = tuple(x * 2 for x in original_tuple)\n",
    "\n",
    "print(\"Original tuple:\", original_tuple)\n",
    "print(\"New tuple with elements multiplied by 2:\", new_tuple)\n"
   ]
  },
  {
   "cell_type": "code",
   "execution_count": 177,
   "id": "a2dc7aa1-aac5-4fe2-b988-237f7df5dcab",
   "metadata": {},
   "outputs": [],
   "source": [
    "# 37. Create a tuple of random numbers."
   ]
  },
  {
   "cell_type": "code",
   "execution_count": 178,
   "id": "d1ea674d-b777-4b17-81ff-4ed3e15e48f9",
   "metadata": {},
   "outputs": [
    {
     "name": "stdout",
     "output_type": "stream",
     "text": [
      "Tuple of random numbers: (40, 39, 42, 95, 16)\n"
     ]
    }
   ],
   "source": [
    "import random\n",
    "\n",
    "# Generate a tuple of 5 random integers between 1 and 100\n",
    "random_numbers = tuple(random.randint(1, 100) for _ in range(5))\n",
    "\n",
    "print(\"Tuple of random numbers:\", random_numbers)\n"
   ]
  },
  {
   "cell_type": "code",
   "execution_count": 179,
   "id": "184da7cb-1664-4189-880f-58b60ecca0a2",
   "metadata": {},
   "outputs": [],
   "source": [
    "# 38. Check if a tuple is sorted."
   ]
  },
  {
   "cell_type": "code",
   "execution_count": 180,
   "id": "4db9d688-630c-4460-9be2-a2de3faa95f2",
   "metadata": {},
   "outputs": [
    {
     "name": "stdout",
     "output_type": "stream",
     "text": [
      "Sorted tuple: (1, 2, 3, 4, 5)\n",
      "The tuple is sorted in ascending order.\n",
      "\n",
      "Unsorted tuple: (3, 1, 4, 1, 5, 9, 2, 6)\n",
      "The tuple is not sorted in ascending order.\n"
     ]
    }
   ],
   "source": [
    "def is_sorted(my_tuple):\n",
    "    return all(my_tuple[i] <= my_tuple[i+1] for i in range(len(my_tuple)-1))\n",
    "\n",
    "# Test cases\n",
    "sorted_tuple = (1, 2, 3, 4, 5)\n",
    "unsorted_tuple = (3, 1, 4, 1, 5, 9, 2, 6)\n",
    "\n",
    "print(\"Sorted tuple:\", sorted_tuple)\n",
    "if is_sorted(sorted_tuple):\n",
    "    print(\"The tuple is sorted in ascending order.\")\n",
    "else:\n",
    "    print(\"The tuple is not sorted in ascending order.\")\n",
    "\n",
    "print(\"\\nUnsorted tuple:\", unsorted_tuple)\n",
    "if is_sorted(unsorted_tuple):\n",
    "    print(\"The tuple is sorted in ascending order.\")\n",
    "else:\n",
    "    print(\"The tuple is not sorted in ascending order.\")\n"
   ]
  },
  {
   "cell_type": "code",
   "execution_count": 181,
   "id": "d3c50c95-9c51-48dc-8b57-0729b9d16a4a",
   "metadata": {},
   "outputs": [],
   "source": [
    "# 39. Rotate a tuple to the left by `n` positions."
   ]
  },
  {
   "cell_type": "code",
   "execution_count": 182,
   "id": "3d5f30cf-af33-41ee-afbc-6cacf2957a58",
   "metadata": {},
   "outputs": [
    {
     "name": "stdout",
     "output_type": "stream",
     "text": [
      "Original tuple: (1, 2, 3, 4, 5)\n",
      "Rotated tuple: (3, 4, 5, 1, 2)\n"
     ]
    }
   ],
   "source": [
    "def rotate_left(my_tuple, n):\n",
    "    # Calculate the effective rotation index\n",
    "    n = n % len(my_tuple)\n",
    "    \n",
    "    # Create the rotated tuple by slicing and reordering\n",
    "    rotated_tuple = my_tuple[n:] + my_tuple[:n]\n",
    "    \n",
    "    return rotated_tuple\n",
    "\n",
    "original_tuple = (1, 2, 3, 4, 5)\n",
    "\n",
    "# Rotate the tuple to the left by 2 positions\n",
    "rotated_tuple = rotate_left(original_tuple, 2)\n",
    "\n",
    "print(\"Original tuple:\", original_tuple)\n",
    "print(\"Rotated tuple:\", rotated_tuple)\n"
   ]
  },
  {
   "cell_type": "code",
   "execution_count": 183,
   "id": "168c9992-be37-4c3e-b71c-24d706b90094",
   "metadata": {},
   "outputs": [],
   "source": [
    "# 40. Rotate a tuple to the right by `n` positions."
   ]
  },
  {
   "cell_type": "code",
   "execution_count": 184,
   "id": "bfb5a4de-d402-41ee-b183-2cf77267b9f0",
   "metadata": {},
   "outputs": [
    {
     "name": "stdout",
     "output_type": "stream",
     "text": [
      "Original tuple: (1, 2, 3, 4, 5)\n",
      "Rotated tuple: (4, 5, 1, 2, 3)\n"
     ]
    }
   ],
   "source": [
    "def rotate_right(my_tuple, n):\n",
    "    # Calculate the effective rotation index\n",
    "    n = n % len(my_tuple)\n",
    "    \n",
    "    # Create the rotated tuple by slicing and reordering\n",
    "    rotated_tuple = my_tuple[-n:] + my_tuple[:-n]\n",
    "    \n",
    "    return rotated_tuple\n",
    "\n",
    "original_tuple = (1, 2, 3, 4, 5)\n",
    "\n",
    "# Rotate the tuple to the right by 2 positions\n",
    "rotated_tuple = rotate_right(original_tuple, 2)\n",
    "\n",
    "print(\"Original tuple:\", original_tuple)\n",
    "print(\"Rotated tuple:\", rotated_tuple)\n"
   ]
  },
  {
   "cell_type": "code",
   "execution_count": 185,
   "id": "dc61e660-8576-493e-bda1-94b305a62ea6",
   "metadata": {},
   "outputs": [],
   "source": [
    "# 41. Create a tuple of the first 5 Fibonacci numbers."
   ]
  },
  {
   "cell_type": "code",
   "execution_count": 186,
   "id": "e058734e-7667-4837-9d80-428745b56542",
   "metadata": {},
   "outputs": [
    {
     "name": "stdout",
     "output_type": "stream",
     "text": [
      "Tuple of the first 5 Fibonacci numbers: (0, 1, 1, 2, 3)\n"
     ]
    }
   ],
   "source": [
    "def generate_fibonacci(n):\n",
    "    fibonacci_numbers = []\n",
    "    a, b = 0, 1\n",
    "    for _ in range(n):\n",
    "        fibonacci_numbers.append(a)\n",
    "        a, b = b, a + b\n",
    "    return tuple(fibonacci_numbers)\n",
    "\n",
    "# Generate a tuple of the first 5 Fibonacci numbers\n",
    "fibonacci_tuple = generate_fibonacci(5)\n",
    "\n",
    "print(\"Tuple of the first 5 Fibonacci numbers:\", fibonacci_tuple)\n"
   ]
  },
  {
   "cell_type": "code",
   "execution_count": 187,
   "id": "ab1354aa-6336-4599-b93b-97465bf5fc48",
   "metadata": {},
   "outputs": [],
   "source": [
    "# 42. Create a tuple from user input."
   ]
  },
  {
   "cell_type": "code",
   "execution_count": 188,
   "id": "c80139f4-47b8-4e1c-8eef-4a2becdb21ea",
   "metadata": {},
   "outputs": [
    {
     "name": "stdin",
     "output_type": "stream",
     "text": [
      "Enter the first element:  10\n",
      "Enter the second element:  10\n",
      "Enter the third element:  10\n"
     ]
    },
    {
     "name": "stdout",
     "output_type": "stream",
     "text": [
      "User input tuple: (10, 10, 10)\n"
     ]
    }
   ],
   "source": [
    "# Get user input for each element of the tuple\n",
    "element1 = input(\"Enter the first element: \")\n",
    "element2 = input(\"Enter the second element: \")\n",
    "element3 = input(\"Enter the third element: \")\n",
    "\n",
    "# Convert input values to the desired data type (e.g., int, float)\n",
    "try:\n",
    "    element1 = int(element1)\n",
    "    element2 = int(element2)\n",
    "    element3 = int(element3)\n",
    "except ValueError:\n",
    "    print(\"Invalid input. Please enter valid numbers.\")\n",
    "    exit(1)  # Exit the program if input is not valid\n",
    "\n",
    "# Create a tuple from the input values\n",
    "user_tuple = (element1, element2, element3)\n",
    "\n",
    "print(\"User input tuple:\", user_tuple)\n"
   ]
  },
  {
   "cell_type": "code",
   "execution_count": 189,
   "id": "c1b32773-62be-41d1-9475-50e2d792d021",
   "metadata": {},
   "outputs": [],
   "source": [
    "# 43. Swap two elements in a tuple."
   ]
  },
  {
   "cell_type": "code",
   "execution_count": 190,
   "id": "6d2860e2-08eb-464d-a9da-27cd831c8543",
   "metadata": {},
   "outputs": [
    {
     "name": "stdout",
     "output_type": "stream",
     "text": [
      "Original tuple: (1, 2, 3, 4, 5)\n",
      "Tuple with elements swapped: (1, 4, 3, 2, 5)\n"
     ]
    }
   ],
   "source": [
    "# Original tuple\n",
    "my_tuple = (1, 2, 3, 4, 5)\n",
    "\n",
    "# Indices of the elements to swap\n",
    "index1 = 1\n",
    "index2 = 3\n",
    "\n",
    "# Convert the tuple to a list to perform the swap\n",
    "tuple_list = list(my_tuple)\n",
    "\n",
    "# Swap the elements\n",
    "tuple_list[index1], tuple_list[index2] = tuple_list[index2], tuple_list[index1]\n",
    "\n",
    "# Create a new tuple with the elements swapped\n",
    "swapped_tuple = tuple(tuple_list)\n",
    "\n",
    "print(\"Original tuple:\", my_tuple)\n",
    "print(\"Tuple with elements swapped:\", swapped_tuple)\n"
   ]
  },
  {
   "cell_type": "code",
   "execution_count": 191,
   "id": "c35bc2fb-ae5a-488a-95b3-7e63e161cbab",
   "metadata": {},
   "outputs": [],
   "source": [
    "# 44. Reverse the elements of a tuple."
   ]
  },
  {
   "cell_type": "code",
   "execution_count": 192,
   "id": "baa4dbcf-4ceb-44c1-b234-662a3d705c5f",
   "metadata": {},
   "outputs": [
    {
     "name": "stdout",
     "output_type": "stream",
     "text": [
      "Original tuple: (1, 2, 3, 4, 5)\n",
      "Reversed tuple: (5, 4, 3, 2, 1)\n"
     ]
    }
   ],
   "source": [
    "# Original tuple\n",
    "my_tuple = (1, 2, 3, 4, 5)\n",
    "\n",
    "# Reverse the elements and create a new tuple\n",
    "reversed_tuple = my_tuple[::-1]\n",
    "\n",
    "print(\"Original tuple:\", my_tuple)\n",
    "print(\"Reversed tuple:\", reversed_tuple)\n"
   ]
  },
  {
   "cell_type": "code",
   "execution_count": 193,
   "id": "f7ba8120-8c7b-4c4e-8757-1e76cc72a6cb",
   "metadata": {},
   "outputs": [],
   "source": [
    "# 45. Create a tuple of the first `n` powers of 2."
   ]
  },
  {
   "cell_type": "code",
   "execution_count": 194,
   "id": "bf73bad4-66ea-49d4-9ff9-c9acc847c372",
   "metadata": {},
   "outputs": [
    {
     "name": "stdout",
     "output_type": "stream",
     "text": [
      "Tuple of the first 5 powers of 2: (1, 2, 4, 8, 16)\n"
     ]
    }
   ],
   "source": [
    "# Function to generate the first n powers of 2\n",
    "def powers_of_2(n):\n",
    "    power_of_2_tuple = ()\n",
    "    for i in range(n):\n",
    "        power_of_2_tuple += (2 ** i,)\n",
    "    return power_of_2_tuple\n",
    "\n",
    "# Number of powers of 2 to generate\n",
    "n = 5\n",
    "\n",
    "# Create a tuple of the first n powers of 2\n",
    "power_tuple = powers_of_2(n)\n",
    "\n",
    "print(\"Tuple of the first\", n, \"powers of 2:\", power_tuple)\n"
   ]
  },
  {
   "cell_type": "code",
   "execution_count": 195,
   "id": "25af4cb2-52f2-4c03-be85-1fc76e54b517",
   "metadata": {},
   "outputs": [],
   "source": [
    "# 46. Find the longest string in a tuple of strings."
   ]
  },
  {
   "cell_type": "code",
   "execution_count": 196,
   "id": "9e4265b0-05dd-48c5-9b1d-33dcaa3a43c1",
   "metadata": {},
   "outputs": [
    {
     "name": "stdout",
     "output_type": "stream",
     "text": [
      "Tuple of strings: ('apple', 'banana', 'cherry', 'date', 'elderberry')\n",
      "Longest string: elderberry\n"
     ]
    }
   ],
   "source": [
    "# Tuple of strings\n",
    "my_tuple = (\"apple\", \"banana\", \"cherry\", \"date\", \"elderberry\")\n",
    "\n",
    "# Find the longest string using the max function\n",
    "longest_string = max(my_tuple, key=len)\n",
    "\n",
    "print(\"Tuple of strings:\", my_tuple)\n",
    "print(\"Longest string:\", longest_string)\n"
   ]
  },
  {
   "cell_type": "code",
   "execution_count": 197,
   "id": "f8e48c6d-a7b4-42d7-8252-322fa309859f",
   "metadata": {},
   "outputs": [],
   "source": [
    "# 47. Find the shortest string in a tuple of strings."
   ]
  },
  {
   "cell_type": "code",
   "execution_count": 198,
   "id": "7295505a-86d8-4451-98a9-5c721374d0a9",
   "metadata": {},
   "outputs": [
    {
     "name": "stdout",
     "output_type": "stream",
     "text": [
      "Tuple of strings: ('apple', 'banana', 'cherry', 'date', 'elderberry')\n",
      "Shortest string: date\n"
     ]
    }
   ],
   "source": [
    "# Tuple of strings\n",
    "my_tuple = (\"apple\", \"banana\", \"cherry\", \"date\", \"elderberry\")\n",
    "\n",
    "# Find the shortest string using the min function\n",
    "shortest_string = min(my_tuple, key=len)\n",
    "\n",
    "print(\"Tuple of strings:\", my_tuple)\n",
    "print(\"Shortest string:\", shortest_string)\n"
   ]
  },
  {
   "cell_type": "code",
   "execution_count": 199,
   "id": "31b06072-3218-4dee-8daa-d79fe7456361",
   "metadata": {},
   "outputs": [],
   "source": [
    "# 48. Create a tuple of the first `n` triangular numbers."
   ]
  },
  {
   "cell_type": "code",
   "execution_count": 200,
   "id": "ce47ff86-8e5c-46a3-be9a-53d5323168d1",
   "metadata": {},
   "outputs": [
    {
     "name": "stdout",
     "output_type": "stream",
     "text": [
      "Tuple of the first 5 triangular numbers: (1, 3, 6, 10, 15)\n"
     ]
    }
   ],
   "source": [
    "# Function to generate the first n triangular numbers\n",
    "def generate_triangular_numbers(n):\n",
    "    triangular_numbers = ()\n",
    "    for i in range(1, n + 1):\n",
    "        triangular_numbers += (i * (i + 1) // 2,)\n",
    "    return triangular_numbers\n",
    "\n",
    "# Number of triangular numbers to generate\n",
    "n = 5\n",
    "\n",
    "# Create a tuple of the first n triangular numbers\n",
    "triangular_tuple = generate_triangular_numbers(n)\n",
    "\n",
    "print(\"Tuple of the first\", n, \"triangular numbers:\", triangular_tuple)\n"
   ]
  },
  {
   "cell_type": "code",
   "execution_count": 201,
   "id": "5278a0f0-a18a-45c9-a8b5-55ec5372fb3a",
   "metadata": {},
   "outputs": [],
   "source": [
    "# 49. Check if a tuple contains another tuple as a subsequence."
   ]
  },
  {
   "cell_type": "code",
   "execution_count": 202,
   "id": "3a92694b-c000-4fa5-ad54-1ea2ad7df0b0",
   "metadata": {},
   "outputs": [
    {
     "name": "stdout",
     "output_type": "stream",
     "text": [
      "Main tuple contains the subsequence tuple.\n"
     ]
    }
   ],
   "source": [
    "# Function to check if a tuple contains another tuple as a subsequence\n",
    "def contains_subsequence(main_tuple, subsequence_tuple):\n",
    "    subsequence_len = len(subsequence_tuple)\n",
    "    for i in range(len(main_tuple) - subsequence_len + 1):\n",
    "        if main_tuple[i:i+subsequence_len] == subsequence_tuple:\n",
    "            return True\n",
    "    return False\n",
    "\n",
    "# Main tuple\n",
    "main_tuple = (1, 2, 3, 4, 5, 6, 7, 8)\n",
    "\n",
    "# Subsequence tuple to search for\n",
    "subsequence_tuple = (3, 4, 5)\n",
    "\n",
    "# Check if the main tuple contains the subsequence tuple\n",
    "if contains_subsequence(main_tuple, subsequence_tuple):\n",
    "    print(\"Main tuple contains the subsequence tuple.\")\n",
    "else:\n",
    "    print(\"Main tuple does not contain the subsequence tuple.\")\n"
   ]
  },
  {
   "cell_type": "code",
   "execution_count": 203,
   "id": "7281b83d-3fe6-4cea-9191-f4d51ddcacce",
   "metadata": {},
   "outputs": [],
   "source": [
    "# 50. Create a tuple of alternating 1s and 0s of length `n`."
   ]
  },
  {
   "cell_type": "code",
   "execution_count": 204,
   "id": "ce225626-12df-4d1a-b048-7d2d01ce9c62",
   "metadata": {},
   "outputs": [
    {
     "name": "stdout",
     "output_type": "stream",
     "text": [
      "Tuple of alternating 1s and 0s (length 10 ): (1, 0, 1, 0, 1, 0, 1, 0, 1, 0)\n"
     ]
    }
   ],
   "source": [
    "# Function to create a tuple of alternating 1s and 0s\n",
    "def alternating_ones_and_zeros(n):\n",
    "    return tuple(1 if i % 2 == 0 else 0 for i in range(n))\n",
    "\n",
    "# Length of the tuple\n",
    "n = 10  # Change this to the desired length\n",
    "\n",
    "# Create the tuple of alternating 1s and 0s\n",
    "alternating_tuple = alternating_ones_and_zeros(n)\n",
    "\n",
    "print(\"Tuple of alternating 1s and 0s (length\", n, \"):\", alternating_tuple)\n"
   ]
  },
  {
   "cell_type": "code",
   "execution_count": 205,
   "id": "cc4d60a1-08f8-43d5-b170-052da1c8ef07",
   "metadata": {},
   "outputs": [],
   "source": [
    "# Set Based Practice Problem :\n",
    "\n",
    "# 1. Create a set with integers from 1 to 5."
   ]
  },
  {
   "cell_type": "code",
   "execution_count": 1,
   "id": "37c7a4fa-0a25-41cb-af96-e86452a622fb",
   "metadata": {},
   "outputs": [],
   "source": [
    "my_set = {1, 2, 3, 4, 5}"
   ]
  },
  {
   "cell_type": "code",
   "execution_count": 2,
   "id": "118a1552-50aa-462f-8d34-0fb4f630f35a",
   "metadata": {},
   "outputs": [],
   "source": [
    "# 2. Add an element to a set."
   ]
  },
  {
   "cell_type": "code",
   "execution_count": 3,
   "id": "00f747bb-4901-49af-9f91-767e715a6361",
   "metadata": {},
   "outputs": [
    {
     "name": "stdout",
     "output_type": "stream",
     "text": [
      "{1, 2, 3, 4, 5, 6}\n"
     ]
    }
   ],
   "source": [
    "my_set = {1, 2, 3, 4, 5}  # Existing set\n",
    "\n",
    "# Adding an element to the set\n",
    "my_set.add(6)\n",
    "\n",
    "print(my_set)\n"
   ]
  },
  {
   "cell_type": "code",
   "execution_count": 4,
   "id": "c0517a15-61e3-4825-a3a4-a98fde68c729",
   "metadata": {},
   "outputs": [],
   "source": [
    "# 3. Remove an element from a set."
   ]
  },
  {
   "cell_type": "code",
   "execution_count": 5,
   "id": "cadf9acd-50aa-417a-ba77-f36eb92a7c9b",
   "metadata": {},
   "outputs": [
    {
     "name": "stdout",
     "output_type": "stream",
     "text": [
      "{1, 2, 4, 5}\n"
     ]
    }
   ],
   "source": [
    "my_set = {1, 2, 3, 4, 5}  # Existing set\n",
    "\n",
    "# Remove an element from the set\n",
    "my_set.remove(3)\n",
    "\n",
    "print(my_set)\n"
   ]
  },
  {
   "cell_type": "code",
   "execution_count": 6,
   "id": "ab474019-607d-42df-b115-107bccf9377a",
   "metadata": {},
   "outputs": [],
   "source": [
    "# 4. Check if an element exists in a set."
   ]
  },
  {
   "cell_type": "code",
   "execution_count": 7,
   "id": "aaa74955-e219-4d89-9c0c-35e540df56dc",
   "metadata": {},
   "outputs": [
    {
     "name": "stdout",
     "output_type": "stream",
     "text": [
      "3 exists in the set.\n"
     ]
    }
   ],
   "source": [
    "my_set = {1, 2, 3, 4, 5}  # Existing set\n",
    "\n",
    "# Check if an element exists in the set\n",
    "element_to_check = 3\n",
    "\n",
    "if element_to_check in my_set:\n",
    "    print(f\"{element_to_check} exists in the set.\")\n",
    "else:\n",
    "    print(f\"{element_to_check} does not exist in the set.\")\n"
   ]
  },
  {
   "cell_type": "code",
   "execution_count": 8,
   "id": "1c97adea-f96e-4949-866f-422d9af0a35d",
   "metadata": {},
   "outputs": [],
   "source": [
    "# 5. Find the length of a set without using the `len()` function."
   ]
  },
  {
   "cell_type": "code",
   "execution_count": 9,
   "id": "7aa4320b-eeee-4024-b6c8-f675f7872c47",
   "metadata": {},
   "outputs": [
    {
     "name": "stdout",
     "output_type": "stream",
     "text": [
      "Length of the set: 5\n"
     ]
    }
   ],
   "source": [
    "my_set = {1, 2, 3, 4, 5}  # Existing set\n",
    "count = 0\n",
    "\n",
    "# Iterate through the set and count the elements\n",
    "for _ in my_set:\n",
    "    count += 1\n",
    "\n",
    "print(\"Length of the set:\", count)\n"
   ]
  },
  {
   "cell_type": "code",
   "execution_count": 10,
   "id": "c43e2eae-777e-4076-98ed-c2a6b36b5c9a",
   "metadata": {},
   "outputs": [],
   "source": [
    "# 6. Clear all elements from a set."
   ]
  },
  {
   "cell_type": "code",
   "execution_count": 11,
   "id": "f63b7126-994c-4b84-811a-2b4f9d11a744",
   "metadata": {},
   "outputs": [
    {
     "name": "stdout",
     "output_type": "stream",
     "text": [
      "set()\n"
     ]
    }
   ],
   "source": [
    "my_set = {1, 2, 3, 4, 5}  # Existing set\n",
    "\n",
    "# Clear all elements from the set\n",
    "my_set.clear()\n",
    "\n",
    "print(my_set)  # This will print an empty set: set()\n"
   ]
  },
  {
   "cell_type": "code",
   "execution_count": 12,
   "id": "c1d22b83-c8e8-4fd8-a858-261d42a501ba",
   "metadata": {},
   "outputs": [],
   "source": [
    "# 7. Create a set of even numbers from 1 to 10."
   ]
  },
  {
   "cell_type": "code",
   "execution_count": 13,
   "id": "7c00b2ba-013f-4852-b679-cad851bdbb52",
   "metadata": {},
   "outputs": [],
   "source": [
    "even_numbers_set = {x for x in range(1, 11) if x % 2 == 0}\n"
   ]
  },
  {
   "cell_type": "code",
   "execution_count": 15,
   "id": "e0e9d18a-0d7a-4cdc-9f2a-f0a65160e067",
   "metadata": {},
   "outputs": [
    {
     "data": {
      "text/plain": [
       "{2, 4, 6, 8, 10}"
      ]
     },
     "execution_count": 15,
     "metadata": {},
     "output_type": "execute_result"
    }
   ],
   "source": [
    "even_numbers_set"
   ]
  },
  {
   "cell_type": "code",
   "execution_count": 16,
   "id": "5bf505d4-2fa9-4526-8412-8449cb4bbce3",
   "metadata": {},
   "outputs": [],
   "source": [
    "# 8. Create a set of odd numbers from 1 to 10."
   ]
  },
  {
   "cell_type": "code",
   "execution_count": 17,
   "id": "7f645bc4-360d-49d6-a371-4eece97cfb31",
   "metadata": {},
   "outputs": [],
   "source": [
    "odd_numbers_set = {x for x in range(1, 11) if x % 2 != 0}\n"
   ]
  },
  {
   "cell_type": "code",
   "execution_count": 18,
   "id": "5c0f9eaa-83ae-4742-8904-b748107bb322",
   "metadata": {},
   "outputs": [
    {
     "data": {
      "text/plain": [
       "{1, 3, 5, 7, 9}"
      ]
     },
     "execution_count": 18,
     "metadata": {},
     "output_type": "execute_result"
    }
   ],
   "source": [
    "odd_numbers_set"
   ]
  },
  {
   "cell_type": "code",
   "execution_count": 19,
   "id": "1b991da5-8391-4e38-a70a-e30b914bcbed",
   "metadata": {},
   "outputs": [],
   "source": [
    "# 9. Find the union of two sets."
   ]
  },
  {
   "cell_type": "code",
   "execution_count": 20,
   "id": "c67a127c-0a6a-4f06-a5a7-edc1e7183224",
   "metadata": {},
   "outputs": [
    {
     "name": "stdout",
     "output_type": "stream",
     "text": [
      "{1, 2, 3, 4, 5, 6, 7, 8}\n"
     ]
    }
   ],
   "source": [
    "set1 = {1, 2, 3, 4, 5}\n",
    "set2 = {4, 5, 6, 7, 8}\n",
    "\n",
    "union_set = set1.union(set2)\n",
    "\n",
    "print(union_set)\n"
   ]
  },
  {
   "cell_type": "code",
   "execution_count": 21,
   "id": "a45b4e89-69b2-4766-9594-40dea3be6b57",
   "metadata": {},
   "outputs": [],
   "source": [
    "# 10. Find the intersection of two sets."
   ]
  },
  {
   "cell_type": "code",
   "execution_count": 22,
   "id": "b4f94536-df38-4e79-8986-fdc22b1f4f73",
   "metadata": {},
   "outputs": [
    {
     "name": "stdout",
     "output_type": "stream",
     "text": [
      "{4, 5}\n"
     ]
    }
   ],
   "source": [
    "set1 = {1, 2, 3, 4, 5}\n",
    "set2 = {4, 5, 6, 7, 8}\n",
    "\n",
    "intersection_set = set1.intersection(set2)\n",
    "\n",
    "print(intersection_set)\n"
   ]
  },
  {
   "cell_type": "code",
   "execution_count": 23,
   "id": "28a9b531-ead4-4e33-b8a9-852aad53ed4e",
   "metadata": {},
   "outputs": [],
   "source": [
    "# 11. Find the difference between two sets."
   ]
  },
  {
   "cell_type": "code",
   "execution_count": 24,
   "id": "e6c7464e-a053-4005-ac18-5fc2e37defeb",
   "metadata": {},
   "outputs": [
    {
     "name": "stdout",
     "output_type": "stream",
     "text": [
      "{1, 2, 3}\n"
     ]
    }
   ],
   "source": [
    "set1 = {1, 2, 3, 4, 5}\n",
    "set2 = {4, 5, 6, 7, 8}\n",
    "\n",
    "difference_set = set1.difference(set2)\n",
    "\n",
    "print(difference_set)\n"
   ]
  },
  {
   "cell_type": "code",
   "execution_count": 25,
   "id": "16279763-7fcd-41c7-b3e6-e3ebd8878fa9",
   "metadata": {},
   "outputs": [],
   "source": [
    "# 12. Check if a set is a subset of another set."
   ]
  },
  {
   "cell_type": "code",
   "execution_count": 26,
   "id": "72dd85fa-0de1-4e4b-8ff8-ef3a26ed90ae",
   "metadata": {},
   "outputs": [
    {
     "name": "stdout",
     "output_type": "stream",
     "text": [
      "set2 is a subset of set1\n"
     ]
    }
   ],
   "source": [
    "set1 = {1, 2, 3, 4, 5}\n",
    "set2 = {2, 4}\n",
    "\n",
    "# Check if set2 is a subset of set1\n",
    "is_subset = set2.issubset(set1)\n",
    "\n",
    "if is_subset:\n",
    "    print(\"set2 is a subset of set1\")\n",
    "else:\n",
    "    print(\"set2 is not a subset of set1\")\n"
   ]
  },
  {
   "cell_type": "code",
   "execution_count": 27,
   "id": "7a4d9447-ce34-4a74-8d81-e9a0293628e2",
   "metadata": {},
   "outputs": [],
   "source": [
    "# 13. Check if a set is a superset of another set."
   ]
  },
  {
   "cell_type": "code",
   "execution_count": 28,
   "id": "48712e36-f3f8-4d16-b67a-1ecefa0260f5",
   "metadata": {},
   "outputs": [
    {
     "name": "stdout",
     "output_type": "stream",
     "text": [
      "set1 is a superset of set2\n"
     ]
    }
   ],
   "source": [
    "set1 = {1, 2, 3, 4, 5}\n",
    "set2 = {2, 4}\n",
    "\n",
    "# Check if set1 is a superset of set2\n",
    "is_superset = set1.issuperset(set2)\n",
    "\n",
    "if is_superset:\n",
    "    print(\"set1 is a superset of set2\")\n",
    "else:\n",
    "    print(\"set1 is not a superset of set2\")\n"
   ]
  },
  {
   "cell_type": "code",
   "execution_count": 29,
   "id": "b340d0da-9c69-4bbb-9656-cce6ad5ade63",
   "metadata": {},
   "outputs": [],
   "source": [
    "# 14. Create a set from a list."
   ]
  },
  {
   "cell_type": "code",
   "execution_count": 30,
   "id": "19249b8d-dda9-4e2a-8841-6be3281d73a3",
   "metadata": {},
   "outputs": [
    {
     "name": "stdout",
     "output_type": "stream",
     "text": [
      "{1, 2, 3, 4, 5}\n"
     ]
    }
   ],
   "source": [
    "my_list = [1, 2, 3, 4, 5]  # Example list\n",
    "\n",
    "# Create a set from the list\n",
    "my_set = set(my_list)\n",
    "\n",
    "print(my_set)\n"
   ]
  },
  {
   "cell_type": "code",
   "execution_count": 31,
   "id": "6ca27e5b-b535-431c-9567-7347a6873394",
   "metadata": {},
   "outputs": [],
   "source": [
    "# 15. Convert a set to a list."
   ]
  },
  {
   "cell_type": "code",
   "execution_count": 32,
   "id": "2e1bc21a-5090-40ee-a538-aee35c672ded",
   "metadata": {},
   "outputs": [
    {
     "name": "stdout",
     "output_type": "stream",
     "text": [
      "[1, 2, 3, 4, 5]\n"
     ]
    }
   ],
   "source": [
    "my_set = {1, 2, 3, 4, 5}  # Example set\n",
    "\n",
    "# Convert the set to a list\n",
    "my_list = list(my_set)\n",
    "\n",
    "print(my_list)\n"
   ]
  },
  {
   "cell_type": "code",
   "execution_count": 33,
   "id": "cc49885a-96e9-4705-b203-c5a82e6f03e9",
   "metadata": {},
   "outputs": [],
   "source": [
    "# 16. Remove a random element from a set."
   ]
  },
  {
   "cell_type": "code",
   "execution_count": 34,
   "id": "097bfbc4-fd45-4fc5-91a8-386b4c199040",
   "metadata": {},
   "outputs": [
    {
     "name": "stdout",
     "output_type": "stream",
     "text": [
      "Removed random element: 1\n",
      "Updated set: {2, 3, 4, 5}\n"
     ]
    }
   ],
   "source": [
    "import random\n",
    "\n",
    "my_set = {1, 2, 3, 4, 5}  # Example set\n",
    "\n",
    "# Choose a random element and remove it from the set\n",
    "random_element = my_set.pop()\n",
    "\n",
    "print(f\"Removed random element: {random_element}\")\n",
    "print(f\"Updated set: {my_set}\")\n"
   ]
  },
  {
   "cell_type": "code",
   "execution_count": 35,
   "id": "7fd7888a-8772-45a5-9669-18241796868a",
   "metadata": {},
   "outputs": [],
   "source": [
    "#17. Pop an element from a set."
   ]
  },
  {
   "cell_type": "code",
   "execution_count": 36,
   "id": "32eb832f-f0dc-404f-8065-a86174f94650",
   "metadata": {},
   "outputs": [
    {
     "name": "stdout",
     "output_type": "stream",
     "text": [
      "Popped element: 1\n",
      "Updated set: {2, 3, 4, 5}\n"
     ]
    }
   ],
   "source": [
    "my_set = {1, 2, 3, 4, 5}  # Example set\n",
    "\n",
    "# Pop an element from the set\n",
    "popped_element = my_set.pop()\n",
    "\n",
    "print(f\"Popped element: {popped_element}\")\n",
    "print(f\"Updated set: {my_set}\")\n"
   ]
  },
  {
   "cell_type": "code",
   "execution_count": 37,
   "id": "702db6cb-818e-4130-9f2c-f291a1247615",
   "metadata": {},
   "outputs": [],
   "source": [
    "# 18. Check if two sets have no elements in common."
   ]
  },
  {
   "cell_type": "code",
   "execution_count": 38,
   "id": "97c4397a-af6c-4686-aa9d-6fe1ab8bcdef",
   "metadata": {},
   "outputs": [
    {
     "name": "stdout",
     "output_type": "stream",
     "text": [
      "set1 and set2 have no elements in common\n"
     ]
    }
   ],
   "source": [
    "set1 = {1, 2, 3}\n",
    "set2 = {4, 5, 6}\n",
    "\n",
    "# Check if set1 and set2 have no elements in common\n",
    "no_common_elements = set1.isdisjoint(set2)\n",
    "\n",
    "if no_common_elements:\n",
    "    print(\"set1 and set2 have no elements in common\")\n",
    "else:\n",
    "    print(\"set1 and set2 have common elements\")\n"
   ]
  },
  {
   "cell_type": "code",
   "execution_count": 39,
   "id": "bcb13b64-924c-43a5-9653-67f6564adaa5",
   "metadata": {},
   "outputs": [],
   "source": [
    "# 19. Find the symmetric difference between two sets."
   ]
  },
  {
   "cell_type": "code",
   "execution_count": 40,
   "id": "6862276e-2f65-4014-b99f-f8a663b0b8ac",
   "metadata": {},
   "outputs": [
    {
     "name": "stdout",
     "output_type": "stream",
     "text": [
      "{1, 2, 3, 6, 7, 8}\n"
     ]
    }
   ],
   "source": [
    "set1 = {1, 2, 3, 4, 5}\n",
    "set2 = {4, 5, 6, 7, 8}\n",
    "\n",
    "symmetric_diff_set = set1.symmetric_difference(set2)\n",
    "\n",
    "print(symmetric_diff_set)\n"
   ]
  },
  {
   "cell_type": "code",
   "execution_count": 41,
   "id": "d24a3bac-48f9-4021-b966-3e6222848b6a",
   "metadata": {},
   "outputs": [],
   "source": [
    "# 20. Update a set with elements from another set."
   ]
  },
  {
   "cell_type": "code",
   "execution_count": 42,
   "id": "4d4e72b3-9dcd-41d6-848f-05372a202d65",
   "metadata": {},
   "outputs": [
    {
     "name": "stdout",
     "output_type": "stream",
     "text": [
      "{1, 2, 3, 4, 5}\n"
     ]
    }
   ],
   "source": [
    "set1 = {1, 2, 3}\n",
    "set2 = {3, 4, 5}\n",
    "\n",
    "# Update set1 with elements from set2\n",
    "set1.update(set2)\n",
    "\n",
    "print(set1)\n"
   ]
  },
  {
   "cell_type": "code",
   "execution_count": 43,
   "id": "c394864e-4aeb-461e-89f9-a03cb223dd80",
   "metadata": {},
   "outputs": [],
   "source": [
    "# 21. Create a set of the first 5 prime numbers."
   ]
  },
  {
   "cell_type": "code",
   "execution_count": 44,
   "id": "6d259244-6a65-47b5-83e7-a69402b47a68",
   "metadata": {},
   "outputs": [],
   "source": [
    "prime_numbers = {2, 3, 5, 7, 11}\n"
   ]
  },
  {
   "cell_type": "code",
   "execution_count": 45,
   "id": "71101e9c-9295-467d-8c4b-e77f4071eee4",
   "metadata": {},
   "outputs": [
    {
     "data": {
      "text/plain": [
       "{2, 3, 5, 7, 11}"
      ]
     },
     "execution_count": 45,
     "metadata": {},
     "output_type": "execute_result"
    }
   ],
   "source": [
    "prime_numbers"
   ]
  },
  {
   "cell_type": "code",
   "execution_count": 46,
   "id": "59a94b65-dbe6-4da7-b5ea-d27b8aac0fd6",
   "metadata": {},
   "outputs": [],
   "source": [
    "# 22. Check if two sets are identical."
   ]
  },
  {
   "cell_type": "code",
   "execution_count": 47,
   "id": "6f6f0f27-7a46-4e45-a5d2-7e508053c818",
   "metadata": {},
   "outputs": [
    {
     "name": "stdout",
     "output_type": "stream",
     "text": [
      "The sets are identical\n"
     ]
    }
   ],
   "source": [
    "set1 = {1, 2, 3, 4, 5}\n",
    "set2 = {1, 2, 3, 4, 5}\n",
    "\n",
    "if set1 == set2:\n",
    "    print(\"The sets are identical\")\n",
    "else:\n",
    "    print(\"The sets are not identical\")\n"
   ]
  },
  {
   "cell_type": "code",
   "execution_count": 48,
   "id": "fcde3532-c3b7-4f19-b22a-6d66c4dd4b6c",
   "metadata": {},
   "outputs": [],
   "source": [
    "# 23. Create a frozen set."
   ]
  },
  {
   "cell_type": "code",
   "execution_count": 49,
   "id": "e470e720-e5c9-4d8b-bb0f-340ebeb916fe",
   "metadata": {},
   "outputs": [
    {
     "name": "stdout",
     "output_type": "stream",
     "text": [
      "frozenset({1, 2, 3, 4, 5})\n"
     ]
    }
   ],
   "source": [
    "my_set = {1, 2, 3, 4, 5}  # Example set\n",
    "\n",
    "# Create a frozen set from the set\n",
    "my_frozen_set = frozenset(my_set)\n",
    "\n",
    "print(my_frozen_set)\n"
   ]
  },
  {
   "cell_type": "code",
   "execution_count": 50,
   "id": "c1380df9-ea18-42aa-94b3-7940dd1f6a55",
   "metadata": {},
   "outputs": [],
   "source": [
    "# 24. Check if a set is disjoint with another set."
   ]
  },
  {
   "cell_type": "code",
   "execution_count": 51,
   "id": "835711bc-380a-4b50-91e8-4045cf2d49ce",
   "metadata": {},
   "outputs": [
    {
     "name": "stdout",
     "output_type": "stream",
     "text": [
      "The sets are disjoint (they have no elements in common)\n"
     ]
    }
   ],
   "source": [
    "set1 = {1, 2, 3}\n",
    "set2 = {4, 5, 6}\n",
    "\n",
    "if set1.isdisjoint(set2):\n",
    "    print(\"The sets are disjoint (they have no elements in common)\")\n",
    "else:\n",
    "    print(\"The sets have at least one element in common\")\n"
   ]
  },
  {
   "cell_type": "code",
   "execution_count": 52,
   "id": "3c390781-698d-45a1-b397-264a7e62aa61",
   "metadata": {},
   "outputs": [],
   "source": [
    "# 25. Create a set of squares of numbers from 1 to 5."
   ]
  },
  {
   "cell_type": "code",
   "execution_count": 53,
   "id": "8ddeeaff-5c63-4465-a8d8-e8b208499f77",
   "metadata": {},
   "outputs": [
    {
     "name": "stdout",
     "output_type": "stream",
     "text": [
      "{1, 4, 9, 16, 25}\n"
     ]
    }
   ],
   "source": [
    "squares_set = {x ** 2 for x in range(1, 6)}\n",
    "\n",
    "print(squares_set)\n"
   ]
  },
  {
   "cell_type": "code",
   "execution_count": 54,
   "id": "1079a7b6-0edf-4247-888e-fd40d6adef04",
   "metadata": {},
   "outputs": [],
   "source": [
    "#26. Filter out all even numbers from a set."
   ]
  },
  {
   "cell_type": "code",
   "execution_count": 55,
   "id": "e45649fa-5c2f-467a-818c-671990358d1a",
   "metadata": {},
   "outputs": [
    {
     "name": "stdout",
     "output_type": "stream",
     "text": [
      "{1, 3, 5, 7, 9}\n"
     ]
    }
   ],
   "source": [
    "original_set = {1, 2, 3, 4, 5, 6, 7, 8, 9, 10}\n",
    "\n",
    "# Filter out even numbers using a set comprehension\n",
    "odd_numbers_set = {x for x in original_set if x % 2 != 0}\n",
    "\n",
    "print(odd_numbers_set)\n"
   ]
  },
  {
   "cell_type": "code",
   "execution_count": 56,
   "id": "ac8472fc-c1ee-4e53-a0f3-bdcee3a287d1",
   "metadata": {},
   "outputs": [],
   "source": [
    "# 27. Multiply all elements in a set by 2."
   ]
  },
  {
   "cell_type": "code",
   "execution_count": 57,
   "id": "f5934579-1ed6-4737-bdbc-54ba566f459c",
   "metadata": {},
   "outputs": [
    {
     "name": "stdout",
     "output_type": "stream",
     "text": [
      "{2, 4, 6, 8, 10}\n"
     ]
    }
   ],
   "source": [
    "original_set = {1, 2, 3, 4, 5}\n",
    "\n",
    "# Convert the set to a list, multiply each element by 2, and convert it back to a set\n",
    "result_set = set(x * 2 for x in original_set)\n",
    "\n",
    "print(result_set)\n"
   ]
  },
  {
   "cell_type": "code",
   "execution_count": 58,
   "id": "b08520ad-2e66-4d3f-8890-5b56407b28b1",
   "metadata": {},
   "outputs": [],
   "source": [
    "# 28. Create a set of random numbers."
   ]
  },
  {
   "cell_type": "code",
   "execution_count": 59,
   "id": "43b2a020-c2b7-4f14-89b2-e78c74b53317",
   "metadata": {},
   "outputs": [
    {
     "name": "stdout",
     "output_type": "stream",
     "text": [
      "{8, 62, 46, 1}\n"
     ]
    }
   ],
   "source": [
    "import random\n",
    "\n",
    "random_set = set()\n",
    "\n",
    "# Generate 5 random numbers and add them to the set\n",
    "for _ in range(5):\n",
    "    random_number = random.randint(1, 100)  # Adjust the range as needed\n",
    "    random_set.add(random_number)\n",
    "\n",
    "print(random_set)\n"
   ]
  },
  {
   "cell_type": "code",
   "execution_count": 60,
   "id": "2bb689cc-1807-40ee-a732-d60d65cbb2a9",
   "metadata": {},
   "outputs": [],
   "source": [
    "# 29. Check if a set is empty."
   ]
  },
  {
   "cell_type": "code",
   "execution_count": 61,
   "id": "2bdf2fa1-237d-4162-afed-be07da11cabf",
   "metadata": {},
   "outputs": [
    {
     "name": "stdout",
     "output_type": "stream",
     "text": [
      "The set is empty\n"
     ]
    }
   ],
   "source": [
    "my_set = set()  # Create an empty set\n",
    "\n",
    "if len(my_set) == 0:\n",
    "    print(\"The set is empty\")\n",
    "else:\n",
    "    print(\"The set is not empty\")\n"
   ]
  },
  {
   "cell_type": "code",
   "execution_count": 62,
   "id": "e24b74cf-f97d-4c73-85c9-76c6a5fb1641",
   "metadata": {},
   "outputs": [],
   "source": [
    "# 30. Create a nested set (hint: use frozenset)."
   ]
  },
  {
   "cell_type": "code",
   "execution_count": 63,
   "id": "7802d770-0b5e-41a5-8323-b3171428e122",
   "metadata": {},
   "outputs": [
    {
     "name": "stdout",
     "output_type": "stream",
     "text": [
      "{frozenset({3, 4, 5}), frozenset({1, 2}), frozenset({8, 9, 6, 7})}\n"
     ]
    }
   ],
   "source": [
    "nested_set = {frozenset({1, 2}), frozenset({3, 4, 5}), frozenset({6, 7, 8, 9})}\n",
    "\n",
    "print(nested_set)\n"
   ]
  },
  {
   "cell_type": "code",
   "execution_count": 64,
   "id": "9392a762-da6e-47e7-8d3a-8ec555945632",
   "metadata": {},
   "outputs": [],
   "source": [
    "# 31. Remove an element from a set using the discard method."
   ]
  },
  {
   "cell_type": "code",
   "execution_count": 65,
   "id": "cd6d0d47-1f07-424c-9758-2f5c9ad1a49c",
   "metadata": {},
   "outputs": [
    {
     "name": "stdout",
     "output_type": "stream",
     "text": [
      "{1, 2, 4, 5}\n"
     ]
    }
   ],
   "source": [
    "my_set = {1, 2, 3, 4, 5}\n",
    "\n",
    "# Remove an element using the discard() method\n",
    "my_set.discard(3)\n",
    "\n",
    "print(my_set)\n"
   ]
  },
  {
   "cell_type": "code",
   "execution_count": 66,
   "id": "69a2ef02-67eb-4ffb-9af7-4488e74ff0d9",
   "metadata": {},
   "outputs": [],
   "source": [
    "# 32. Compare two sets."
   ]
  },
  {
   "cell_type": "code",
   "execution_count": 67,
   "id": "7bf8296b-d398-4a8e-b698-eee7437bb2d3",
   "metadata": {},
   "outputs": [
    {
     "name": "stdout",
     "output_type": "stream",
     "text": [
      "The sets are equal\n"
     ]
    }
   ],
   "source": [
    "set1 = {1, 2, 3}\n",
    "set2 = {3, 2, 1}\n",
    "\n",
    "if set1 == set2:\n",
    "    print(\"The sets are equal\")\n",
    "else:\n",
    "    print(\"The sets are not equal\")\n"
   ]
  },
  {
   "cell_type": "code",
   "execution_count": 68,
   "id": "0456678f-f626-4ad6-a362-80cfdc1d8c76",
   "metadata": {},
   "outputs": [],
   "source": [
    "# 33. Create a set from a string."
   ]
  },
  {
   "cell_type": "code",
   "execution_count": 69,
   "id": "894aa956-f0ff-44f1-959b-9a8c3374f553",
   "metadata": {},
   "outputs": [
    {
     "name": "stdout",
     "output_type": "stream",
     "text": [
      "{'o', 'e', 'h', 'l'}\n"
     ]
    }
   ],
   "source": [
    "my_string = \"hello\"\n",
    "string_set = {char for char in my_string}\n",
    "\n",
    "print(string_set)\n"
   ]
  },
  {
   "cell_type": "code",
   "execution_count": 70,
   "id": "96faaba5-c663-4cfc-bf55-c5f3067f2dcd",
   "metadata": {},
   "outputs": [],
   "source": [
    "# 34. Convert a set of strings to a set of integers."
   ]
  },
  {
   "cell_type": "code",
   "execution_count": 71,
   "id": "b2dff8fa-3daa-4bc4-9a2c-5d78d2c835b6",
   "metadata": {},
   "outputs": [
    {
     "name": "stdout",
     "output_type": "stream",
     "text": [
      "{1, 2, 3, 4, 5}\n"
     ]
    }
   ],
   "source": [
    "string_set = {\"1\", \"2\", \"3\", \"4\", \"5\"}\n",
    "\n",
    "# Convert the set of strings to a set of integers\n",
    "integer_set = {int(x) for x in string_set}\n",
    "\n",
    "print(integer_set)\n"
   ]
  },
  {
   "cell_type": "code",
   "execution_count": 72,
   "id": "3e3684d2-12e0-4c85-ae89-038a04ad5bfa",
   "metadata": {},
   "outputs": [],
   "source": [
    "# 35. Convert a set of integers to a set of strings."
   ]
  },
  {
   "cell_type": "code",
   "execution_count": 73,
   "id": "3508c735-38f0-4683-857d-6e071da6d6f3",
   "metadata": {},
   "outputs": [
    {
     "name": "stdout",
     "output_type": "stream",
     "text": [
      "{'5', '4', '2', '3', '1'}\n"
     ]
    }
   ],
   "source": [
    "integer_set = {1, 2, 3, 4, 5}\n",
    "\n",
    "# Convert the set of integers to a set of strings\n",
    "string_set = {str(x) for x in integer_set}\n",
    "\n",
    "print(string_set)\n"
   ]
  },
  {
   "cell_type": "code",
   "execution_count": 74,
   "id": "6c5a5cde-5836-4192-92c8-5c6deea00aa2",
   "metadata": {},
   "outputs": [],
   "source": [
    "# 36. Create a set from a tuple."
   ]
  },
  {
   "cell_type": "code",
   "execution_count": 75,
   "id": "79b257ef-5b75-45fe-8803-1d75d9c302c7",
   "metadata": {},
   "outputs": [
    {
     "name": "stdout",
     "output_type": "stream",
     "text": [
      "{1, 2, 3, 4, 5}\n"
     ]
    }
   ],
   "source": [
    "my_tuple = (1, 2, 3, 4, 5)  # Example tuple\n",
    "\n",
    "# Create a set from the tuple\n",
    "my_set = set(my_tuple)\n",
    "\n",
    "print(my_set)\n"
   ]
  },
  {
   "cell_type": "code",
   "execution_count": 76,
   "id": "5908f169-a559-4451-993a-6dcd36661f88",
   "metadata": {},
   "outputs": [],
   "source": [
    "# 37. Convert a set to a tuple."
   ]
  },
  {
   "cell_type": "code",
   "execution_count": 77,
   "id": "bfb79576-7589-4281-a662-b354038cfcf6",
   "metadata": {},
   "outputs": [
    {
     "name": "stdout",
     "output_type": "stream",
     "text": [
      "(1, 2, 3, 4, 5)\n"
     ]
    }
   ],
   "source": [
    "my_set = {1, 2, 3, 4, 5}  # Example set\n",
    "\n",
    "# Convert the set to a tuple\n",
    "my_tuple = tuple(my_set)\n",
    "\n",
    "print(my_tuple)\n"
   ]
  },
  {
   "cell_type": "code",
   "execution_count": 78,
   "id": "6d0d4f3b-41be-4946-bd8d-b507c0c0400e",
   "metadata": {},
   "outputs": [],
   "source": [
    "# 38. Find the maximum value in a set."
   ]
  },
  {
   "cell_type": "code",
   "execution_count": 79,
   "id": "c7fb28ac-0bc6-4b38-89a2-24b1949d1a62",
   "metadata": {},
   "outputs": [
    {
     "name": "stdout",
     "output_type": "stream",
     "text": [
      "Maximum value in the set: 78\n"
     ]
    }
   ],
   "source": [
    "my_set = {12, 45, 6, 78, 54, 32}\n",
    "\n",
    "# Find the maximum value in the set\n",
    "max_value = max(my_set)\n",
    "\n",
    "print(\"Maximum value in the set:\", max_value)\n"
   ]
  },
  {
   "cell_type": "code",
   "execution_count": 80,
   "id": "bc420d5b-8171-42df-8147-15ab31a385ca",
   "metadata": {},
   "outputs": [],
   "source": [
    "# 39. Find the minimum value in a set."
   ]
  },
  {
   "cell_type": "code",
   "execution_count": 81,
   "id": "d9c19494-b274-4169-9a4a-cea837a2e0b5",
   "metadata": {},
   "outputs": [
    {
     "name": "stdout",
     "output_type": "stream",
     "text": [
      "Minimum value in the set: 6\n"
     ]
    }
   ],
   "source": [
    "my_set = {12, 45, 6, 78, 54, 32}\n",
    "\n",
    "# Find the minimum value in the set\n",
    "min_value = min(my_set)\n",
    "\n",
    "print(\"Minimum value in the set:\", min_value)\n"
   ]
  },
  {
   "cell_type": "code",
   "execution_count": 82,
   "id": "7bf1496a-06a4-4740-84e0-5546d757defc",
   "metadata": {},
   "outputs": [],
   "source": [
    "# 40. Create a set from user input."
   ]
  },
  {
   "cell_type": "code",
   "execution_count": 83,
   "id": "8178fa36-6b2f-41ed-8b61-f074da4dc92d",
   "metadata": {},
   "outputs": [
    {
     "name": "stdin",
     "output_type": "stream",
     "text": [
      "Enter an element (or 'q' to quit):  I am a student of data science\n",
      "Enter an element (or 'q' to quit):  I am working on my assignment today\n",
      "Enter an element (or 'q' to quit):  it is about to complete\n",
      "Enter an element (or 'q' to quit):  quit\n",
      "Enter an element (or 'q' to quit):  quit\n",
      "Enter an element (or 'q' to quit):  q\n"
     ]
    },
    {
     "name": "stdout",
     "output_type": "stream",
     "text": [
      "User-set: {'it is about to complete', 'I am working on my assignment today', 'I am a student of data science', 'quit'}\n"
     ]
    }
   ],
   "source": [
    "user_set = set()\n",
    "\n",
    "while True:\n",
    "    user_input = input(\"Enter an element (or 'q' to quit): \")\n",
    "    \n",
    "    if user_input == 'q':\n",
    "        break  # Exit the loop if the user enters 'q'\n",
    "    \n",
    "    user_set.add(user_input)\n",
    "\n",
    "print(\"User-set:\", user_set)\n"
   ]
  },
  {
   "cell_type": "code",
   "execution_count": 84,
   "id": "898887d1-2405-4fce-a7d7-5cece081d547",
   "metadata": {},
   "outputs": [],
   "source": [
    "# 41. Check if the intersection of two sets is empty."
   ]
  },
  {
   "cell_type": "code",
   "execution_count": 85,
   "id": "e7b46b5b-c651-4bc6-ab56-54eff27b5506",
   "metadata": {},
   "outputs": [
    {
     "name": "stdout",
     "output_type": "stream",
     "text": [
      "The intersection is empty\n"
     ]
    }
   ],
   "source": [
    "set1 = {1, 2, 3}\n",
    "set2 = {4, 5, 6}\n",
    "\n",
    "# Check if the intersection of set1 and set2 is empty\n",
    "intersection_empty = set1.isdisjoint(set2)\n",
    "\n",
    "if intersection_empty:\n",
    "    print(\"The intersection is empty\")\n",
    "else:\n",
    "    print(\"The intersection is not empty\")\n",
    "\n",
    "    "
   ]
  },
  {
   "cell_type": "code",
   "execution_count": 86,
   "id": "c6cee904-a093-45e7-b141-15946599491c",
   "metadata": {},
   "outputs": [],
   "source": [
    "# 42. Create a set of the first 5 Fibonacci numbers."
   ]
  },
  {
   "cell_type": "code",
   "execution_count": 87,
   "id": "80e0aa16-5419-4c78-8eff-f563ba1c6ec0",
   "metadata": {},
   "outputs": [
    {
     "name": "stdout",
     "output_type": "stream",
     "text": [
      "{0, 1, 2, 3, 5}\n"
     ]
    }
   ],
   "source": [
    "fibonacci_set = set()\n",
    "a, b = 0, 1\n",
    "\n",
    "while len(fibonacci_set) < 5:\n",
    "    fibonacci_set.add(a)\n",
    "    a, b = b, a + b\n",
    "\n",
    "print(fibonacci_set)\n"
   ]
  },
  {
   "cell_type": "code",
   "execution_count": 88,
   "id": "8b2b78f0-d83a-4716-835b-da8ab10532bf",
   "metadata": {},
   "outputs": [],
   "source": [
    "# 43. Remove duplicates from a list using sets."
   ]
  },
  {
   "cell_type": "code",
   "execution_count": 89,
   "id": "7298e288-f77b-4843-acf7-94eaaaec6dbf",
   "metadata": {},
   "outputs": [
    {
     "name": "stdout",
     "output_type": "stream",
     "text": [
      "[1, 2, 3, 4, 5]\n"
     ]
    }
   ],
   "source": [
    "my_list = [1, 2, 2, 3, 4, 4, 5, 5]\n",
    "\n",
    "# Remove duplicates from the list using sets\n",
    "my_list = list(set(my_list))\n",
    "\n",
    "print(my_list)\n"
   ]
  },
  {
   "cell_type": "code",
   "execution_count": 90,
   "id": "52e7e2ab-5976-4fe8-821b-b8b93e02c439",
   "metadata": {},
   "outputs": [],
   "source": [
    "# 44. Check if two sets have the same elements, regardless of their count."
   ]
  },
  {
   "cell_type": "code",
   "execution_count": 91,
   "id": "8b1e038c-c320-4415-aebd-23befc212cf6",
   "metadata": {},
   "outputs": [
    {
     "name": "stdout",
     "output_type": "stream",
     "text": [
      "The sets have the same elements (regardless of count)\n"
     ]
    }
   ],
   "source": [
    "from collections import Counter\n",
    "\n",
    "set1 = {1, 2, 2, 3, 4}\n",
    "set2 = {4, 3, 2, 1}\n",
    "\n",
    "# Convert sets to Counters and compare them\n",
    "counter1 = Counter(set1)\n",
    "counter2 = Counter(set2)\n",
    "\n",
    "if counter1 == counter2:\n",
    "    print(\"The sets have the same elements (regardless of count)\")\n",
    "else:\n",
    "    print(\"The sets do not have the same elements\")\n"
   ]
  },
  {
   "cell_type": "code",
   "execution_count": 92,
   "id": "01c0fd84-9ba9-4170-9542-1174e9f489be",
   "metadata": {},
   "outputs": [],
   "source": [
    "# 45. Create a set of the first `n` powers of 2."
   ]
  },
  {
   "cell_type": "code",
   "execution_count": 93,
   "id": "d3778a4b-1697-41b7-93c5-3bc64f84a308",
   "metadata": {},
   "outputs": [
    {
     "name": "stdout",
     "output_type": "stream",
     "text": [
      "{1, 2, 4, 8, 16}\n"
     ]
    }
   ],
   "source": [
    "n = 5  # Change n to the desired number of powers\n",
    "powers_of_2_set = {2 ** i for i in range(n)}\n",
    "\n",
    "print(powers_of_2_set)\n"
   ]
  },
  {
   "cell_type": "code",
   "execution_count": 94,
   "id": "7e958ace-f07c-440c-a2c3-ab8c183ee729",
   "metadata": {},
   "outputs": [],
   "source": [
    "# 46. Find the common elements between a set and a list."
   ]
  },
  {
   "cell_type": "code",
   "execution_count": 95,
   "id": "f92e06eb-015d-4937-9ef3-6c2ff831b5fd",
   "metadata": {},
   "outputs": [
    {
     "name": "stdout",
     "output_type": "stream",
     "text": [
      "[3, 4, 5]\n"
     ]
    }
   ],
   "source": [
    "my_set = {1, 2, 3, 4, 5}\n",
    "my_list = [3, 4, 5, 6, 7]\n",
    "\n",
    "# Find common elements using the intersection method\n",
    "common_elements = my_set.intersection(my_list)\n",
    "\n",
    "print(list(common_elements))\n"
   ]
  },
  {
   "cell_type": "code",
   "execution_count": 96,
   "id": "c0d1ad15-cc9d-486a-a5cc-794bfe6cb713",
   "metadata": {},
   "outputs": [],
   "source": [
    "# 47. Create a set of the first `n` triangular numbers."
   ]
  },
  {
   "cell_type": "code",
   "execution_count": 97,
   "id": "7b7ef841-b59e-4165-b01b-97fe4db1bfe6",
   "metadata": {},
   "outputs": [
    {
     "name": "stdout",
     "output_type": "stream",
     "text": [
      "{1, 3, 6, 10, 15}\n"
     ]
    }
   ],
   "source": [
    "n = 5  # Change n to the desired number of triangular numbers\n",
    "triangular_numbers_set = {i * (i + 1) // 2 for i in range(1, n + 1)}\n",
    "\n",
    "print(triangular_numbers_set)"
   ]
  },
  {
   "cell_type": "code",
   "execution_count": 98,
   "id": "4a50db44-195c-49a6-9125-94db608fae8f",
   "metadata": {},
   "outputs": [],
   "source": [
    "# 48. Check if a set contains another set as a subset."
   ]
  },
  {
   "cell_type": "code",
   "execution_count": 99,
   "id": "2fdfa86d-ef0b-4499-9faa-6926440b4562",
   "metadata": {},
   "outputs": [
    {
     "name": "stdout",
     "output_type": "stream",
     "text": [
      "set2 is a subset of set1\n"
     ]
    }
   ],
   "source": [
    "set1 = {1, 2, 3, 4, 5}\n",
    "set2 = {2, 3}\n",
    "\n",
    "# Check if set2 is a subset of set1 using issubset()\n",
    "if set2.issubset(set1):\n",
    "    print(\"set2 is a subset of set1\")\n",
    "else:\n",
    "    print(\"set2 is not a subset of set1\")\n"
   ]
  },
  {
   "cell_type": "code",
   "execution_count": 100,
   "id": "b249889b-d3d1-4404-a65e-18f6ecbdef75",
   "metadata": {},
   "outputs": [],
   "source": [
    "# 49. Create a set of alternating 1s and 0s of length `n`."
   ]
  },
  {
   "cell_type": "code",
   "execution_count": null,
   "id": "c128b2f5-8f81-42a6-adc1-03e9dc95d6f5",
   "metadata": {},
   "outputs": [],
   "source": []
  }
 ],
 "metadata": {
  "kernelspec": {
   "display_name": "Python 3 (ipykernel)",
   "language": "python",
   "name": "python3"
  },
  "language_info": {
   "codemirror_mode": {
    "name": "ipython",
    "version": 3
   },
   "file_extension": ".py",
   "mimetype": "text/x-python",
   "name": "python",
   "nbconvert_exporter": "python",
   "pygments_lexer": "ipython3",
   "version": "3.10.8"
  }
 },
 "nbformat": 4,
 "nbformat_minor": 5
}
