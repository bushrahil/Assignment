{
 "cells": [
  {
   "cell_type": "code",
   "execution_count": 1,
   "id": "33a92b62-520c-4515-a08d-327bde309903",
   "metadata": {},
   "outputs": [],
   "source": [
    "# Q1. Which keyword is used to create a function? Create a function to return a list of odd numbers in the range of 1 to 25."
   ]
  },
  {
   "cell_type": "code",
   "execution_count": 7,
   "id": "8c0fdcc2-beb3-47d9-be73-d80a2386a326",
   "metadata": {},
   "outputs": [
    {
     "name": "stdout",
     "output_type": "stream",
     "text": [
      "[1, 3, 5, 7, 9, 11, 13, 15, 17, 19, 21, 23, 25]\n"
     ]
    }
   ],
   "source": [
    "# We use def keyword to create a function on python\n",
    "\n",
    "# here is the code to find out the odd number from a list of 1 to 25\n",
    "\n",
    "def odd_numbers():\n",
    "    odd_numbers = []\n",
    "    for num in range(1, 26):\n",
    "        if num % 2 != 0:\n",
    "            odd_numbers.append(num)\n",
    "    return odd_numbers\n",
    "\n",
    "# Call the function and print the result\n",
    "odd_numbers_list = odd_numbers()\n",
    "print(odd_numbers_list)"
   ]
  },
  {
   "cell_type": "code",
   "execution_count": 8,
   "id": "197c71e4-67a2-40c4-8db5-4697a11c843f",
   "metadata": {},
   "outputs": [],
   "source": [
    "# Q2. Why *args and **kwargs is used in some functions? Create a function each for *args and **kwargs to demonstrate their use."
   ]
  },
  {
   "cell_type": "code",
   "execution_count": 9,
   "id": "b69eee37-bc1b-4e6a-8a8c-34a057a4f8c3",
   "metadata": {},
   "outputs": [],
   "source": [
    "# *args and **kwargs are special syntax in Python used in function definitions to handle variable-length argument lists. \n",
    "# They allow you to pass a varying number of positional arguments (*args) and keyword arguments (**kwargs) to a function."
   ]
  },
  {
   "cell_type": "code",
   "execution_count": 10,
   "id": "2848df03-2c53-4517-8db7-03b2139c09ed",
   "metadata": {},
   "outputs": [
    {
     "name": "stdout",
     "output_type": "stream",
     "text": [
      "1\n",
      "2\n",
      "3\n",
      "hello\n",
      "[4, 5]\n",
      "name: Alice\n",
      "age: 30\n",
      "city: Wonderland\n"
     ]
    }
   ],
   "source": [
    "# Using *args (Positional Arguments)\n",
    "def print_args(*args):\n",
    "    for arg in args:\n",
    "        print(arg)\n",
    "\n",
    "print_args(1, 2, 3, \"hello\", [4, 5])\n",
    "\n",
    "# Using **kwargs (Keyword Arguments)\n",
    "def print_kwargs(**kwargs):\n",
    "    for key, value in kwargs.items():\n",
    "        print(f\"{key}: {value}\")\n",
    "\n",
    "print_kwargs(name=\"Alice\", age=30, city=\"Wonderland\")"
   ]
  },
  {
   "cell_type": "code",
   "execution_count": 12,
   "id": "f6d0566b-8567-4079-927e-6068e8569247",
   "metadata": {},
   "outputs": [
    {
     "name": "stdout",
     "output_type": "stream",
     "text": [
      "10\n",
      "20\n",
      "30\n",
      "country: USA\n",
      "language: English\n"
     ]
    }
   ],
   "source": [
    "print_args(10, 20, 30)\n",
    "print_kwargs(country=\"USA\", language=\"English\")"
   ]
  },
  {
   "cell_type": "code",
   "execution_count": 1,
   "id": "02f8a717-1953-4501-83b6-a686d003680a",
   "metadata": {},
   "outputs": [],
   "source": [
    "# Q3. What is an iterator in python? Name the method used to initialise the iterator object and the method used for iteration. \n",
    "# Use these methods to print the first five elements of the given list [2, 4, 6, 8, 10, 12, 14,16, 18, 20]."
   ]
  },
  {
   "cell_type": "code",
   "execution_count": 3,
   "id": "f62c2379-dfe2-483f-8e2f-786341f6bd9e",
   "metadata": {},
   "outputs": [
    {
     "data": {
      "text/plain": [
       "'next()'"
      ]
     },
     "execution_count": 3,
     "metadata": {},
     "output_type": "execute_result"
    }
   ],
   "source": [
    "# Iterator is an object on python which allow you to travel through of a collection of data and access its objects one by one.\n",
    "\n",
    "# Here is the function which we use to initialise the iterator object \n",
    "'iter()'\n",
    "\n",
    "# we use this function to travel through the data\n",
    "'next()'"
   ]
  },
  {
   "cell_type": "code",
   "execution_count": 5,
   "id": "2660d5aa-8234-4a9e-80e9-689ba951cd71",
   "metadata": {},
   "outputs": [],
   "source": [
    "# Here is the method to pull first five elect from this given list\n",
    "l = [2, 4, 6, 8, 10, 12, 14,16, 18, 20]"
   ]
  },
  {
   "cell_type": "code",
   "execution_count": 17,
   "id": "df11cbf7-d3b1-4cb5-afe0-dc3156218258",
   "metadata": {},
   "outputs": [
    {
     "name": "stdout",
     "output_type": "stream",
     "text": [
      "2\n",
      "4\n",
      "6\n",
      "8\n",
      "10\n"
     ]
    }
   ],
   "source": [
    "#creating an iterator object\n",
    "Iterator_object = iter(l)\n",
    "\n",
    "for i in range (5):\n",
    "    element = next(Iterator_object)\n",
    "    print (element)"
   ]
  },
  {
   "cell_type": "code",
   "execution_count": 18,
   "id": "5be1ff0d-1f57-4d29-a472-8b6775694862",
   "metadata": {},
   "outputs": [],
   "source": [
    "# Q4. What is a generator function in python? Why yield keyword is used? Give an example of a generator function."
   ]
  },
  {
   "cell_type": "code",
   "execution_count": 19,
   "id": "c15e7b67-8561-47dd-b220-1b21e89f9c85",
   "metadata": {},
   "outputs": [],
   "source": [
    "# Generator is a special type of function on python that return an iterator calls a generator. We use 'yeild' keyword to procedure a series of value\n",
    "# at a time. It is helpful to save memory because we are not storing all of those data on the system"
   ]
  },
  {
   "cell_type": "code",
   "execution_count": 20,
   "id": "41287bc4-c4ea-47f3-983b-81358da387eb",
   "metadata": {},
   "outputs": [],
   "source": [
    "# Here is the example of this function:\n",
    "def fibonacci_generator (n):\n",
    "    a,b = 0,1\n",
    "    for i in range(n):\n",
    "        yield a\n",
    "        a, b = b, a+b"
   ]
  },
  {
   "cell_type": "code",
   "execution_count": 21,
   "id": "1dd0e3b9-79bc-4371-94b9-4036709656d0",
   "metadata": {},
   "outputs": [],
   "source": [
    "# Create a generator object\n",
    "fib_gen = fibonacci_generator(10)"
   ]
  },
  {
   "cell_type": "code",
   "execution_count": 24,
   "id": "12776c79-48d6-426c-a57f-272695a7bcbe",
   "metadata": {},
   "outputs": [
    {
     "name": "stdout",
     "output_type": "stream",
     "text": [
      "0\n",
      "1\n",
      "1\n",
      "2\n",
      "3\n",
      "5\n",
      "8\n",
      "13\n",
      "21\n",
      "34\n"
     ]
    }
   ],
   "source": [
    "# Iterate through the generator to print Fibonacci numbers\n",
    "for num in fib_gen:\n",
    "    print(num)"
   ]
  },
  {
   "cell_type": "code",
   "execution_count": 25,
   "id": "1fa74c16-c860-44ab-98aa-84e558e6a3b7",
   "metadata": {},
   "outputs": [],
   "source": [
    "# Q5. Create a generator function for prime numbers less than 1000. Use the next() method to print the first 20 prime numbers."
   ]
  },
  {
   "cell_type": "code",
   "execution_count": 30,
   "id": "cea97837-31f4-4966-b339-b9ecd9159b6d",
   "metadata": {},
   "outputs": [
    {
     "name": "stdout",
     "output_type": "stream",
     "text": [
      "2\n",
      "3\n",
      "5\n",
      "7\n",
      "11\n",
      "13\n",
      "17\n",
      "19\n",
      "23\n",
      "29\n",
      "31\n",
      "37\n",
      "41\n",
      "43\n",
      "47\n",
      "53\n",
      "59\n",
      "61\n",
      "67\n",
      "71\n"
     ]
    }
   ],
   "source": [
    "# Here is the code to geenerate prime number less than 1000\n",
    "\n",
    "def is_prime(number):\n",
    "    if number <= 1:\n",
    "        return False\n",
    "    if number <= 3:\n",
    "        return True\n",
    "    if number % 2 == 0 or number % 3 == 0:\n",
    "        return False\n",
    "    i = 5\n",
    "    while i * i <= number:\n",
    "        if number % i == 0 or number % (i + 2) == 0:\n",
    "            return False\n",
    "        i += 6\n",
    "    return True\n",
    "\n",
    "def prime_number(n):\n",
    "    number = 2\n",
    "    count = 0\n",
    "    while count < n:\n",
    "        if is_prime(number):\n",
    "            yield number\n",
    "            count += 1\n",
    "        number += 1\n",
    "\n",
    "# Create a generator object for prime numbers\n",
    "prime_gen = prime_number(20)\n",
    "\n",
    "# Print the first 20 prime numbers using the generator and next() method\n",
    "for i in range(20):\n",
    "    prime = next(prime_gen)\n",
    "    print(prime)"
   ]
  },
  {
   "cell_type": "code",
   "execution_count": 31,
   "id": "fdc1758d-df88-4bc8-ab33-38e2cb983466",
   "metadata": {},
   "outputs": [],
   "source": [
    "# Q6. Write a python program to print the first 10 Fibonacci numbers using a while loop."
   ]
  },
  {
   "cell_type": "code",
   "execution_count": 33,
   "id": "507b8c09-2622-47a7-96d8-440f6e5725b8",
   "metadata": {},
   "outputs": [
    {
     "name": "stdout",
     "output_type": "stream",
     "text": [
      "0\n",
      "1\n",
      "1\n",
      "2\n",
      "3\n",
      "5\n",
      "8\n",
      "13\n",
      "21\n",
      "34\n"
     ]
    }
   ],
   "source": [
    "# Here is the script to print first 10 Fib numbers\n",
    "a,b = 0,1\n",
    "\n",
    "count = 0\n",
    "\n",
    "while count < 10:\n",
    "    print(a)\n",
    "    a,b = b, a+b\n",
    "    count += 1"
   ]
  },
  {
   "cell_type": "code",
   "execution_count": 34,
   "id": "b3ea142b-6e79-4a76-ad30-fabdbe526209",
   "metadata": {},
   "outputs": [],
   "source": [
    "# Write a List Comprehension to iterate through the given string: ‘pwskills’. Expected output: ['p', 'w', 's', 'k', 'i', 'l', 'l', 's']"
   ]
  },
  {
   "cell_type": "code",
   "execution_count": 35,
   "id": "7bbc0e7d-c571-493d-84d2-164294280a9e",
   "metadata": {},
   "outputs": [],
   "source": [
    "# Here is the script\n",
    "s = 'pwskills'"
   ]
  },
  {
   "cell_type": "code",
   "execution_count": 44,
   "id": "331f7318-1cd3-4dfe-a633-fbd83ff07069",
   "metadata": {},
   "outputs": [
    {
     "data": {
      "text/plain": [
       "['p', 'w', 's', 'k', 'i', 'l', 'l', 's']"
      ]
     },
     "execution_count": 44,
     "metadata": {},
     "output_type": "execute_result"
    }
   ],
   "source": [
    "list(map(lambda s : s, s)) #converting string to upper case and split to a list"
   ]
  },
  {
   "cell_type": "code",
   "execution_count": 42,
   "id": "8ef60ef2-a1c3-4f51-b9d4-798ee8cc7521",
   "metadata": {},
   "outputs": [],
   "source": [
    "# Q8. Write a python program to check whether a given number is Palindrome or not using a while loop."
   ]
  },
  {
   "cell_type": "code",
   "execution_count": 45,
   "id": "ac60fb6e-0af3-447b-b620-1265fe9d9171",
   "metadata": {},
   "outputs": [
    {
     "name": "stdin",
     "output_type": "stream",
     "text": [
      "Enter a number:  100\n"
     ]
    },
    {
     "name": "stdout",
     "output_type": "stream",
     "text": [
      "100 is not a palindrome.\n"
     ]
    }
   ],
   "source": [
    "def is_palindrome(number):\n",
    "    original_number = number\n",
    "    reversed_number = 0\n",
    "\n",
    "    while number > 0:\n",
    "        digit = number % 10\n",
    "        reversed_number = reversed_number * 10 + digit\n",
    "        number //= 10\n",
    "\n",
    "    return original_number == reversed_number\n",
    "\n",
    "# Input a number from the user\n",
    "num = int(input(\"Enter a number: \"))\n",
    "\n",
    "if is_palindrome(num):\n",
    "    print(f\"{num} is a palindrome.\")\n",
    "else:\n",
    "    print(f\"{num} is not a palindrome.\")"
   ]
  },
  {
   "cell_type": "code",
   "execution_count": 1,
   "id": "339e1644-4827-44c5-8683-3d269195d481",
   "metadata": {},
   "outputs": [],
   "source": [
    "# Q9. Write a code to print odd numbers from 1 to 100 using list comprehension."
   ]
  },
  {
   "cell_type": "code",
   "execution_count": 2,
   "id": "8da2b225-d336-407f-94bf-e589cd89d84a",
   "metadata": {},
   "outputs": [
    {
     "name": "stdout",
     "output_type": "stream",
     "text": [
      "[1, 3, 5, 7, 9, 11, 13, 15, 17, 19, 21, 23, 25, 27, 29, 31, 33, 35, 37, 39, 41, 43, 45, 47, 49, 51, 53, 55, 57, 59, 61, 63, 65, 67, 69, 71, 73, 75, 77, 79, 81, 83, 85, 87, 89, 91, 93, 95, 97, 99]\n"
     ]
    }
   ],
   "source": [
    "# You can use a list comprehension to generate a list of odd numbers from 1 to 100. Here's the code:\n",
    "odd_numbers = [num for num in range(1, 101) if num % 2 != 0]\n",
    "\n",
    "print(odd_numbers)"
   ]
  },
  {
   "cell_type": "code",
   "execution_count": null,
   "id": "afeda4f7-20e0-4555-bad9-43b232f045bf",
   "metadata": {},
   "outputs": [],
   "source": []
  }
 ],
 "metadata": {
  "kernelspec": {
   "display_name": "Python 3 (ipykernel)",
   "language": "python",
   "name": "python3"
  },
  "language_info": {
   "codemirror_mode": {
    "name": "ipython",
    "version": 3
   },
   "file_extension": ".py",
   "mimetype": "text/x-python",
   "name": "python",
   "nbconvert_exporter": "python",
   "pygments_lexer": "ipython3",
   "version": "3.10.8"
  }
 },
 "nbformat": 4,
 "nbformat_minor": 5
}
