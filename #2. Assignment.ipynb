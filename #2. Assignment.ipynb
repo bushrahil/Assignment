{
 "cells": [
  {
   "cell_type": "code",
   "execution_count": 2,
   "id": "f09620d3-70cd-40d4-b58e-3d349878df6f",
   "metadata": {},
   "outputs": [],
   "source": [
    "# Q1. How do you comment code in Python? What are the different types of comments?"
   ]
  },
  {
   "cell_type": "code",
   "execution_count": 9,
   "id": "09805634-6a97-41c6-8b30-fc8da4466d51",
   "metadata": {},
   "outputs": [
    {
     "name": "stdout",
     "output_type": "stream",
     "text": [
      "Hello Pwskills family\n"
     ]
    },
    {
     "data": {
      "text/plain": [
       "'\\nI am writting this comments here for example of multiple lines\\nof comments so that it will be easier to understand and take a \\nreference in future.\\n'"
      ]
     },
     "execution_count": 9,
     "metadata": {},
     "output_type": "execute_result"
    }
   ],
   "source": [
    "# There are two type of comments which we can write on python.\n",
    "# 1 - Single line comments\n",
    "print(\"Hello Pwskills family\")\n",
    "\n",
    "# 2 - Multiple line/docstrings comments. These comments are useful to provide contex to your code and it is easier to under and helpful also for\n",
    "# future reference. For example:\n",
    "\n",
    "\"\"\"\n",
    "I am writting this comments here for example of multiple lines\n",
    "of comments so that it will be easier to understand and take a \n",
    "reference in future.\n",
    "\"\"\""
   ]
  },
  {
   "cell_type": "code",
   "execution_count": 10,
   "id": "9ea22eac-c935-40cd-bdd0-c4ab19b8ce7e",
   "metadata": {},
   "outputs": [],
   "source": [
    "# Q2.What are variables in Python? How do you declare and assign values to variables?"
   ]
  },
  {
   "cell_type": "code",
   "execution_count": 13,
   "id": "0f4b6a8c-3e85-4771-b9a1-9a77b655d6c0",
   "metadata": {},
   "outputs": [],
   "source": [
    "# Variables are used to store and manage data. A variable is a named location in memory where you can store a value.\n",
    "# for example\n",
    "name = \"Rahil Malik\"\n",
    "age = 30\n",
    "hight = 5.11\n",
    "is_student = True\n",
    "\n",
    "# these are example of variable which I used above. Name is string, age is int, hight is float and is_stundent is a boolean."
   ]
  },
  {
   "cell_type": "code",
   "execution_count": 14,
   "id": "0c15d7af-616d-4935-a110-2edb024e163e",
   "metadata": {},
   "outputs": [],
   "source": [
    "# Q3. How do you convert one data type to another in Python?"
   ]
  },
  {
   "cell_type": "code",
   "execution_count": 24,
   "id": "2486ab21-6bd3-4586-9261-ca4712912feb",
   "metadata": {},
   "outputs": [],
   "source": [
    "# Yes, we can convert one data type to another on python through \"type_casting or type_conversion\". Here are some examples of it.\n",
    "\n",
    "float_num = 3.14\n",
    "int_num = int(float_num)\n",
    "\n",
    "int_num = 90\n",
    "float_num = float(int_num)\n",
    "\n",
    "number = 123456789\n",
    "text = str(number)\n",
    "\n",
    "# Note - We can't convert all data type to another, for example can't convert complete string to a float/int if it will not have any int/float value\n",
    "# similarly we also lost data in some conversion, for example when we change float to int than it will loss the decimal value"
   ]
  },
  {
   "cell_type": "code",
   "execution_count": 20,
   "id": "9d9155e6-3f5a-491b-a0ae-b75a892965f7",
   "metadata": {},
   "outputs": [
    {
     "data": {
      "text/plain": [
       "float"
      ]
     },
     "execution_count": 20,
     "metadata": {},
     "output_type": "execute_result"
    }
   ],
   "source": [
    "type(float_num)"
   ]
  },
  {
   "cell_type": "code",
   "execution_count": 21,
   "id": "5ff40128-b2ef-4ffd-9f57-72878b3ceddb",
   "metadata": {},
   "outputs": [
    {
     "name": "stdout",
     "output_type": "stream",
     "text": [
      "3\n"
     ]
    }
   ],
   "source": [
    "print(int_num)"
   ]
  },
  {
   "cell_type": "code",
   "execution_count": 22,
   "id": "b150e1dd-22d6-43a6-b733-5a67dfc5971c",
   "metadata": {},
   "outputs": [
    {
     "data": {
      "text/plain": [
       "int"
      ]
     },
     "execution_count": 22,
     "metadata": {},
     "output_type": "execute_result"
    }
   ],
   "source": [
    "type(int_num)"
   ]
  },
  {
   "cell_type": "code",
   "execution_count": 25,
   "id": "ae2d0c28-ca90-42ca-acd5-eb9089f47904",
   "metadata": {},
   "outputs": [],
   "source": [
    "# Q4. How do you write and execute a Python script from the command line?"
   ]
  },
  {
   "cell_type": "code",
   "execution_count": 1,
   "id": "31e78520-6339-4d66-8146-699b3b36a6e2",
   "metadata": {},
   "outputs": [
    {
     "name": "stdout",
     "output_type": "stream",
     "text": [
      "Hello, pwskills family\n"
     ]
    }
   ],
   "source": [
    "# We need to follow these steps to write and execute Python script\n",
    "# 1. Login on Lab with your crediantial or Pwskills my lab option\n",
    "# 2. We are using Jupiter lab for our learning \n",
    "# 3. Create a script from Launcher home page and select Python 3\n",
    "# 4. Write a code as per the requirement\n",
    "# 5. Execute it through short key of Shift+Enter or play button showing on above commeand panel\n",
    "\n",
    "# Here is the example:\n",
    "\n",
    "print(\"Hello, pwskills family\")"
   ]
  },
  {
   "cell_type": "code",
   "execution_count": 2,
   "id": "296b2c27-9eb6-4669-a4c3-3d2be26aea37",
   "metadata": {},
   "outputs": [],
   "source": [
    "# Q5. Given a list my_list = [1, 2, 3, 4, 5], write the code to slice the list and obtain the sub-list [2, 3]."
   ]
  },
  {
   "cell_type": "code",
   "execution_count": 3,
   "id": "afd368c7-e4a7-4cf0-a2fa-29f364a16ce7",
   "metadata": {},
   "outputs": [],
   "source": [
    "# Here is the list which we need to create\n",
    "l = [1, 2, 3, 4, 5]"
   ]
  },
  {
   "cell_type": "code",
   "execution_count": 8,
   "id": "31604594-6fa6-4b01-90fd-61af69bfe987",
   "metadata": {},
   "outputs": [
    {
     "data": {
      "text/plain": [
       "[2, 3]"
      ]
     },
     "execution_count": 8,
     "metadata": {},
     "output_type": "execute_result"
    }
   ],
   "source": [
    "l[1:3]"
   ]
  },
  {
   "cell_type": "code",
   "execution_count": 9,
   "id": "32fcd9ff-ada7-415f-81ba-529c58c1ba0d",
   "metadata": {},
   "outputs": [],
   "source": [
    "# Q6. What is a complex number in mathematics, and how is it represented in Python?"
   ]
  },
  {
   "cell_type": "code",
   "execution_count": 13,
   "id": "b04f62a3-5c9a-4ffc-a656-db3a54595eb1",
   "metadata": {},
   "outputs": [],
   "source": [
    "# So complex number in mathmatics is a number which contain a real + imaginary number\n",
    "\n",
    "# For example - 5+2a\n",
    "\n",
    "# in above example 5 is a real number and 2 is imaginary"
   ]
  },
  {
   "cell_type": "code",
   "execution_count": 17,
   "id": "5e50a8b8-82a0-43be-afb0-bc4a82dd8d24",
   "metadata": {},
   "outputs": [],
   "source": [
    "a = 4+2j"
   ]
  },
  {
   "cell_type": "code",
   "execution_count": 18,
   "id": "8cada934-e8cb-4c67-96d9-a613ccb51f22",
   "metadata": {},
   "outputs": [],
   "source": [
    "b = 5+2j"
   ]
  },
  {
   "cell_type": "code",
   "execution_count": 19,
   "id": "5fb41551-1e5d-438d-a42e-ff34ea9a74a8",
   "metadata": {},
   "outputs": [],
   "source": [
    "result_add = a+b"
   ]
  },
  {
   "cell_type": "code",
   "execution_count": 20,
   "id": "c8c7b9cf-16db-49ae-bd8d-bbfb7bb0a0e9",
   "metadata": {},
   "outputs": [
    {
     "name": "stdout",
     "output_type": "stream",
     "text": [
      "(9+4j)\n"
     ]
    }
   ],
   "source": [
    "print(result_add)"
   ]
  },
  {
   "cell_type": "code",
   "execution_count": 21,
   "id": "e50cbcec-b63b-4596-8bd4-ce6181381bb9",
   "metadata": {},
   "outputs": [],
   "source": [
    "result_mul = a*b"
   ]
  },
  {
   "cell_type": "code",
   "execution_count": 22,
   "id": "4c99411b-f83d-48b0-b8d9-f9e07efb833e",
   "metadata": {},
   "outputs": [
    {
     "name": "stdout",
     "output_type": "stream",
     "text": [
      "(16+18j)\n"
     ]
    }
   ],
   "source": [
    "print(result_mul)"
   ]
  },
  {
   "cell_type": "code",
   "execution_count": 23,
   "id": "8b19c12a-d9b9-46d2-bb75-ed501613c302",
   "metadata": {},
   "outputs": [],
   "source": [
    "# Q7. What is the correct way to declare a variable named age and assign the value 25 to it?"
   ]
  },
  {
   "cell_type": "code",
   "execution_count": 24,
   "id": "5f4f347d-686f-420a-b6f6-5d6cef34de39",
   "metadata": {},
   "outputs": [],
   "source": [
    "# Here is the example to declare age variable with given number\n",
    "\n",
    "age = 25"
   ]
  },
  {
   "cell_type": "code",
   "execution_count": 27,
   "id": "3747a112-ba7c-4a1f-8e86-f0f635f748f0",
   "metadata": {},
   "outputs": [
    {
     "data": {
      "text/plain": [
       "25"
      ]
     },
     "execution_count": 27,
     "metadata": {},
     "output_type": "execute_result"
    }
   ],
   "source": [
    "age"
   ]
  },
  {
   "cell_type": "code",
   "execution_count": 28,
   "id": "c19c5e07-9d3d-4698-842d-92cf733475cf",
   "metadata": {},
   "outputs": [],
   "source": [
    "# Q8. Declare a variable named price and assign the value 9.99 to it. What data type does this variable belong to?"
   ]
  },
  {
   "cell_type": "code",
   "execution_count": 29,
   "id": "870f0347-7124-4c82-abb6-6c4c23f51b9a",
   "metadata": {},
   "outputs": [],
   "source": [
    "# Here is the example to declare the price value with given number\n",
    "price = 9.99"
   ]
  },
  {
   "cell_type": "code",
   "execution_count": 30,
   "id": "cbda10a6-1427-4289-8dc9-b3cb81fd5e41",
   "metadata": {},
   "outputs": [
    {
     "data": {
      "text/plain": [
       "9.99"
      ]
     },
     "execution_count": 30,
     "metadata": {},
     "output_type": "execute_result"
    }
   ],
   "source": [
    "price"
   ]
  },
  {
   "cell_type": "code",
   "execution_count": 31,
   "id": "85ed3e90-2044-4d08-bac1-f3c715db0603",
   "metadata": {},
   "outputs": [
    {
     "data": {
      "text/plain": [
       "float"
      ]
     },
     "execution_count": 31,
     "metadata": {},
     "output_type": "execute_result"
    }
   ],
   "source": [
    "type(price)"
   ]
  },
  {
   "cell_type": "code",
   "execution_count": 32,
   "id": "798c38fe-ae9d-459d-aeb5-87a85bc4ee92",
   "metadata": {},
   "outputs": [],
   "source": [
    "# Q9. Create a variable named name and assign your full name to it as a string. How would you print the value of this variable?"
   ]
  },
  {
   "cell_type": "code",
   "execution_count": 33,
   "id": "e88e0093-6d45-4501-a3bf-2f9f8563b36d",
   "metadata": {},
   "outputs": [],
   "source": [
    "# Here is the correct format to declare full name\n",
    "name = \"Rahil Malik\""
   ]
  },
  {
   "cell_type": "code",
   "execution_count": 34,
   "id": "04456aed-c87d-4366-9a68-3164f75e283f",
   "metadata": {},
   "outputs": [
    {
     "data": {
      "text/plain": [
       "'Rahil Malik'"
      ]
     },
     "execution_count": 34,
     "metadata": {},
     "output_type": "execute_result"
    }
   ],
   "source": [
    "name"
   ]
  },
  {
   "cell_type": "code",
   "execution_count": 35,
   "id": "9d544f7f-b958-40fc-bf32-7686f6f6bdfb",
   "metadata": {},
   "outputs": [
    {
     "data": {
      "text/plain": [
       "str"
      ]
     },
     "execution_count": 35,
     "metadata": {},
     "output_type": "execute_result"
    }
   ],
   "source": [
    "type(name)"
   ]
  },
  {
   "cell_type": "code",
   "execution_count": 36,
   "id": "7e4aed0b-824f-4a47-8fde-183b8457478d",
   "metadata": {},
   "outputs": [],
   "source": [
    "# Q10. Given the string \"Hello, World!\", extract the substring \"World\"."
   ]
  },
  {
   "cell_type": "code",
   "execution_count": 37,
   "id": "349c0e08-47bb-4d8f-a86e-c678c7b5a729",
   "metadata": {},
   "outputs": [],
   "source": [
    "s = \"Hello World!\""
   ]
  },
  {
   "cell_type": "code",
   "execution_count": 38,
   "id": "e594dafa-f77a-49fa-8996-14005c3c64f2",
   "metadata": {},
   "outputs": [
    {
     "data": {
      "text/plain": [
       "'Hello World!'"
      ]
     },
     "execution_count": 38,
     "metadata": {},
     "output_type": "execute_result"
    }
   ],
   "source": [
    "s"
   ]
  },
  {
   "cell_type": "code",
   "execution_count": 44,
   "id": "cee102f0-3dec-434f-985b-903e35a1e10c",
   "metadata": {},
   "outputs": [
    {
     "data": {
      "text/plain": [
       "'World'"
      ]
     },
     "execution_count": 44,
     "metadata": {},
     "output_type": "execute_result"
    }
   ],
   "source": [
    "s[6:11]"
   ]
  },
  {
   "cell_type": "code",
   "execution_count": 45,
   "id": "e2ec49ba-2e4d-4af7-b4df-45c0c6168e24",
   "metadata": {},
   "outputs": [],
   "source": [
    "# Q11. Create a variable named \"is_student\" and assign it a boolean value indicating whether you are currently a student or not."
   ]
  },
  {
   "cell_type": "code",
   "execution_count": 51,
   "id": "7e033880-8ca9-4df1-8e4d-d88a646d6b5f",
   "metadata": {},
   "outputs": [],
   "source": [
    "# Here is the require input for this\n",
    "\n",
    "is_student = True # if you are a student\n",
    "is_student = False # if you are not a student"
   ]
  },
  {
   "cell_type": "code",
   "execution_count": 48,
   "id": "7b65d902-8448-40df-a7fd-e4619a2fc008",
   "metadata": {},
   "outputs": [
    {
     "data": {
      "text/plain": [
       "bool"
      ]
     },
     "execution_count": 48,
     "metadata": {},
     "output_type": "execute_result"
    }
   ],
   "source": [
    "type(is_student)"
   ]
  },
  {
   "cell_type": "code",
   "execution_count": null,
   "id": "948999c2-b36b-41ab-8bbd-5204041fde80",
   "metadata": {},
   "outputs": [],
   "source": []
  }
 ],
 "metadata": {
  "kernelspec": {
   "display_name": "Python 3 (ipykernel)",
   "language": "python",
   "name": "python3"
  },
  "language_info": {
   "codemirror_mode": {
    "name": "ipython",
    "version": 3
   },
   "file_extension": ".py",
   "mimetype": "text/x-python",
   "name": "python",
   "nbconvert_exporter": "python",
   "pygments_lexer": "ipython3",
   "version": "3.10.8"
  }
 },
 "nbformat": 4,
 "nbformat_minor": 5
}
