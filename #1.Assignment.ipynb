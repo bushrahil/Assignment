{
 "cells": [
  {
   "cell_type": "code",
   "execution_count": 1,
   "id": "41be306d-8fa5-43bd-a729-38f390e6fa6d",
   "metadata": {},
   "outputs": [],
   "source": [
    "# Q1. Create one variable containing following type of data:\n",
    "# (i) string\n",
    "# (ii) list\n",
    "# (iii) float\n",
    "# (iv) tuple"
   ]
  },
  {
   "cell_type": "code",
   "execution_count": 2,
   "id": "ba214ed2-ba44-44b5-b836-66f2dd73196a",
   "metadata": {},
   "outputs": [],
   "source": [
    "m = \"Hello Python\" #example of (i)"
   ]
  },
  {
   "cell_type": "code",
   "execution_count": 3,
   "id": "d27b1ce0-3d30-486e-82a5-154162454011",
   "metadata": {},
   "outputs": [
    {
     "name": "stdout",
     "output_type": "stream",
     "text": [
      "Hello Python\n"
     ]
    }
   ],
   "source": [
    "print(m)"
   ]
  },
  {
   "cell_type": "code",
   "execution_count": 4,
   "id": "3fb46999-6bb9-487b-a19c-3ba02a26ce19",
   "metadata": {},
   "outputs": [],
   "source": [
    "l = [1,2,3,4,5,6,7,8,9] #example of (ii)"
   ]
  },
  {
   "cell_type": "code",
   "execution_count": 5,
   "id": "67703f5f-8525-473c-82bf-17925004fb70",
   "metadata": {},
   "outputs": [
    {
     "name": "stdout",
     "output_type": "stream",
     "text": [
      "[1, 2, 3, 4, 5, 6, 7, 8, 9]\n"
     ]
    }
   ],
   "source": [
    "print(l)"
   ]
  },
  {
   "cell_type": "code",
   "execution_count": 6,
   "id": "e22e7b1e-1537-4dd1-b435-39dc120a1e26",
   "metadata": {},
   "outputs": [],
   "source": [
    "num1 = 10 #example of (iii)"
   ]
  },
  {
   "cell_type": "code",
   "execution_count": 7,
   "id": "e8f71e26-ac45-434b-9206-b07dc646b771",
   "metadata": {},
   "outputs": [],
   "source": [
    "num2 = float(num1)"
   ]
  },
  {
   "cell_type": "code",
   "execution_count": 8,
   "id": "0ebfc9ea-1d59-4ae5-bb83-36768cf5bc47",
   "metadata": {},
   "outputs": [
    {
     "name": "stdout",
     "output_type": "stream",
     "text": [
      "num2 10.0\n"
     ]
    }
   ],
   "source": [
    "print(\"num2\", num2)"
   ]
  },
  {
   "cell_type": "code",
   "execution_count": 9,
   "id": "75074929-137f-40a5-9e02-484145091d90",
   "metadata": {},
   "outputs": [],
   "source": [
    "fruits = ('apple', 'banana', 'mango') #example of iv"
   ]
  },
  {
   "cell_type": "code",
   "execution_count": 10,
   "id": "53efbfb2-bdf2-421c-aaf8-fb76b7d75292",
   "metadata": {},
   "outputs": [
    {
     "name": "stdout",
     "output_type": "stream",
     "text": [
      "('apple', 'banana', 'mango')\n"
     ]
    }
   ],
   "source": [
    "print(fruits)"
   ]
  },
  {
   "cell_type": "code",
   "execution_count": 15,
   "id": "7bc81965-3568-4e4d-b692-4f8609b7f7a0",
   "metadata": {},
   "outputs": [
    {
     "name": "stdout",
     "output_type": "stream",
     "text": [
      "apple\n"
     ]
    }
   ],
   "source": [
    "print(fruits[0])"
   ]
  },
  {
   "cell_type": "code",
   "execution_count": 16,
   "id": "3321f305-52bd-4850-837a-51b1178285f4",
   "metadata": {},
   "outputs": [
    {
     "name": "stdout",
     "output_type": "stream",
     "text": [
      "banana\n"
     ]
    }
   ],
   "source": [
    "print(fruits[1])"
   ]
  },
  {
   "cell_type": "code",
   "execution_count": 17,
   "id": "f1482fa7-5b75-4241-83eb-35314aeb268d",
   "metadata": {},
   "outputs": [],
   "source": [
    "#Q2. Given are some following variables containing data:\n",
    "#(i) var1 = ‘ ‘\n",
    "#(ii) var2 = ‘[ DS , ML , Python]’\n",
    "#(iii) var3 = [ ‘DS’ , ’ML’ , ‘Python’ ]\n",
    "#(iv) var4 = 1."
   ]
  },
  {
   "cell_type": "code",
   "execution_count": 18,
   "id": "f68546e1-c5ab-40b1-b865-f9d27e6ecbdb",
   "metadata": {},
   "outputs": [],
   "source": [
    "var1 = ''"
   ]
  },
  {
   "cell_type": "code",
   "execution_count": 19,
   "id": "ff52e246-29ea-497e-b9c9-09f6b0333553",
   "metadata": {},
   "outputs": [
    {
     "data": {
      "text/plain": [
       "str"
      ]
     },
     "execution_count": 19,
     "metadata": {},
     "output_type": "execute_result"
    }
   ],
   "source": [
    "type(var1)"
   ]
  },
  {
   "cell_type": "code",
   "execution_count": 25,
   "id": "5adc4aac-99ce-4458-a52f-c4a018a36246",
   "metadata": {},
   "outputs": [],
   "source": [
    "var2 = '[DS, ML, Python]'"
   ]
  },
  {
   "cell_type": "code",
   "execution_count": 26,
   "id": "a3cb70f0-a7af-4662-95da-e71af52606e0",
   "metadata": {},
   "outputs": [
    {
     "data": {
      "text/plain": [
       "str"
      ]
     },
     "execution_count": 26,
     "metadata": {},
     "output_type": "execute_result"
    }
   ],
   "source": [
    "type(var2)"
   ]
  },
  {
   "cell_type": "code",
   "execution_count": 33,
   "id": "97aad8e7-aa84-4ca4-87b8-19d1aa2af0ee",
   "metadata": {},
   "outputs": [],
   "source": [
    "var3 = ['DL', 'ML', 'Python']"
   ]
  },
  {
   "cell_type": "code",
   "execution_count": 34,
   "id": "7a978c91-2295-4e35-9f8f-2fc5d7991d5b",
   "metadata": {},
   "outputs": [
    {
     "data": {
      "text/plain": [
       "list"
      ]
     },
     "execution_count": 34,
     "metadata": {},
     "output_type": "execute_result"
    }
   ],
   "source": [
    "type (var3)"
   ]
  },
  {
   "cell_type": "code",
   "execution_count": 35,
   "id": "ba30d395-604d-4e10-817e-2819ec2b3b74",
   "metadata": {},
   "outputs": [],
   "source": [
    "var4 = 1"
   ]
  },
  {
   "cell_type": "code",
   "execution_count": 36,
   "id": "2df1fa47-2b10-48e2-9164-245a9d9f7c27",
   "metadata": {},
   "outputs": [
    {
     "data": {
      "text/plain": [
       "int"
      ]
     },
     "execution_count": 36,
     "metadata": {},
     "output_type": "execute_result"
    }
   ],
   "source": [
    "type(var4)"
   ]
  },
  {
   "cell_type": "code",
   "execution_count": 37,
   "id": "2b201786-6737-424a-9644-35c66101a979",
   "metadata": {},
   "outputs": [],
   "source": [
    "#Q3. Explain the use of the following operators using an example:\n",
    "#(i) /\n",
    "#(ii) %\n",
    "#(iii) //\n",
    "#(iv) **"
   ]
  },
  {
   "cell_type": "code",
   "execution_count": 38,
   "id": "455a1cb4-55b0-4d40-b340-05a8168e16eb",
   "metadata": {},
   "outputs": [],
   "source": [
    "#all of these earthmatic operator"
   ]
  },
  {
   "cell_type": "code",
   "execution_count": 39,
   "id": "bb3d4e55-1147-4223-86f0-416b1eea52ef",
   "metadata": {},
   "outputs": [],
   "source": [
    "result = 10/3 #example of i (division operator)"
   ]
  },
  {
   "cell_type": "code",
   "execution_count": 40,
   "id": "d23aeac8-7dcb-4daf-aa8e-99c870a791ca",
   "metadata": {},
   "outputs": [
    {
     "name": "stdout",
     "output_type": "stream",
     "text": [
      "3.3333333333333335\n"
     ]
    }
   ],
   "source": [
    "print(result)"
   ]
  },
  {
   "cell_type": "code",
   "execution_count": 41,
   "id": "83c4be3e-80a1-430a-a85f-f9542cf9f65a",
   "metadata": {},
   "outputs": [],
   "source": [
    "remainder = 10%3 #example of ii (The % operator is used for the modulus operation, which returns the remainder of the division of two numbers.)"
   ]
  },
  {
   "cell_type": "code",
   "execution_count": 42,
   "id": "26daceb3-8335-41c2-8981-e981f95f712f",
   "metadata": {},
   "outputs": [
    {
     "name": "stdout",
     "output_type": "stream",
     "text": [
      "1\n"
     ]
    }
   ],
   "source": [
    "print(remainder)"
   ]
  },
  {
   "cell_type": "code",
   "execution_count": 45,
   "id": "176d8683-fe72-4769-b6bf-a9f3d0b9f016",
   "metadata": {},
   "outputs": [],
   "source": [
    "result = 10//3 #example of iii (The // Floor Division operator is used for floor division, \n",
    "# which returns the quotient as an integer, rounding down to the nearest whole number."
   ]
  },
  {
   "cell_type": "code",
   "execution_count": 46,
   "id": "fbac9ea0-966b-462a-8c86-1e60cd4b1d4d",
   "metadata": {},
   "outputs": [
    {
     "name": "stdout",
     "output_type": "stream",
     "text": [
      "3\n"
     ]
    }
   ],
   "source": [
    "print(result)"
   ]
  },
  {
   "cell_type": "code",
   "execution_count": 47,
   "id": "3416d9ed-a120-476c-90f8-605f750c3b57",
   "metadata": {},
   "outputs": [],
   "source": [
    "results = 2**3 #example of iv (The Exponentiation  operator is used for exponentiation, which raises the left operand to the power of the right operand.)"
   ]
  },
  {
   "cell_type": "code",
   "execution_count": 49,
   "id": "b58d43e0-238c-4d76-8330-8aa336abec7f",
   "metadata": {},
   "outputs": [
    {
     "name": "stdout",
     "output_type": "stream",
     "text": [
      "8\n"
     ]
    }
   ],
   "source": [
    "print(results)"
   ]
  },
  {
   "cell_type": "code",
   "execution_count": 50,
   "id": "c0c3e2a8-c056-4dd4-accc-d9ae31fd29f0",
   "metadata": {},
   "outputs": [],
   "source": [
    "# Q4. Create a list of length 10 of your choice containing multiple types of data. Using for loop print the element and its data type."
   ]
  },
  {
   "cell_type": "code",
   "execution_count": 51,
   "id": "b4b87879-0afe-4c5d-adad-8e32e75505b8",
   "metadata": {},
   "outputs": [],
   "source": [
    "l = [10, 3.14, \"Python\", True, [1, 2, 3], {\"name\": \"John\", \"age\": 30}, None, (1, 2, 3), False, \"Hello\"]"
   ]
  },
  {
   "cell_type": "code",
   "execution_count": 53,
   "id": "4413f1c1-7651-414b-9ebd-61c23c801cea",
   "metadata": {},
   "outputs": [
    {
     "name": "stdout",
     "output_type": "stream",
     "text": [
      "Element 10 Data Type <class 'int'>\n",
      "Element 3.14 Data Type <class 'float'>\n",
      "Element Python Data Type <class 'str'>\n",
      "Element True Data Type <class 'bool'>\n",
      "Element [1, 2, 3] Data Type <class 'list'>\n",
      "Element {'name': 'John', 'age': 30} Data Type <class 'dict'>\n",
      "Element None Data Type <class 'NoneType'>\n",
      "Element (1, 2, 3) Data Type <class 'tuple'>\n",
      "Element False Data Type <class 'bool'>\n",
      "Element Hello Data Type <class 'str'>\n"
     ]
    }
   ],
   "source": [
    "for element in l:\n",
    "    print ('Element' , element, \"Data Type\" , type(element))"
   ]
  },
  {
   "cell_type": "code",
   "execution_count": null,
   "id": "97ef48b3-0102-4d13-9ace-6180e54c8ab2",
   "metadata": {},
   "outputs": [],
   "source": [
    "# Q5. Using a while loop, verify if the number A is purely divisible by number B and if so then how many times it can be divisible."
   ]
  },
  {
   "cell_type": "code",
   "execution_count": 55,
   "id": "749cff05-30aa-4e66-a318-59d3503b0eda",
   "metadata": {},
   "outputs": [
    {
     "name": "stdin",
     "output_type": "stream",
     "text": [
      "Enter number A:  10\n",
      "Enter number B:  50\n"
     ]
    },
    {
     "name": "stdout",
     "output_type": "stream",
     "text": [
      "50 is not a divisor of 10. The remainder is 10.\n"
     ]
    }
   ],
   "source": [
    "# Input numbers A and B\n",
    "A = int(input(\"Enter number A: \"))\n",
    "B = int(input(\"Enter number B: \"))\n",
    "\n",
    "# Initialize a variable to count the number of divisions\n",
    "count = 0\n",
    "\n",
    "# Check if A is divisible by B\n",
    "while A >= B:\n",
    "    A -= B\n",
    "    count += 1\n",
    "\n",
    "# Print the result\n",
    "if A == 0:\n",
    "    print(f\"{B} is a divisor of {A} and it can be divided {count} times.\")\n",
    "else:\n",
    "    print(f\"{B} is not a divisor of {A}. The remainder is {A}.\")\n"
   ]
  },
  {
   "cell_type": "code",
   "execution_count": 56,
   "id": "3041074d-2a27-4e34-8489-d575f8cfd8d0",
   "metadata": {},
   "outputs": [],
   "source": [
    "# Q6. Create a list containing 25 int type data. Using for loop and if-else condition print if the element is divisible by 3 or not."
   ]
  },
  {
   "cell_type": "code",
   "execution_count": 57,
   "id": "c7bca58e-2510-4d26-9f3f-dfaa0165bb82",
   "metadata": {},
   "outputs": [
    {
     "name": "stdout",
     "output_type": "stream",
     "text": [
      "10 is not divisible by 3.\n",
      "15 is divisible by 3.\n",
      "7 is not divisible by 3.\n",
      "30 is divisible by 3.\n",
      "21 is divisible by 3.\n",
      "18 is divisible by 3.\n",
      "9 is divisible by 3.\n",
      "12 is divisible by 3.\n",
      "5 is not divisible by 3.\n",
      "27 is divisible by 3.\n",
      "14 is not divisible by 3.\n",
      "22 is not divisible by 3.\n",
      "33 is divisible by 3.\n",
      "25 is not divisible by 3.\n",
      "6 is divisible by 3.\n",
      "19 is not divisible by 3.\n",
      "20 is not divisible by 3.\n",
      "3 is divisible by 3.\n",
      "17 is not divisible by 3.\n",
      "24 is divisible by 3.\n",
      "31 is not divisible by 3.\n",
      "28 is not divisible by 3.\n",
      "4 is not divisible by 3.\n",
      "11 is not divisible by 3.\n",
      "16 is not divisible by 3.\n"
     ]
    }
   ],
   "source": [
    "# Create a list containing 25 integers\n",
    "my_list = [10, 15, 7, 30, 21, 18, 9, 12, 5, 27, 14, 22, 33, 25, 6, 19, 20, 3, 17, 24, 31, 28, 4, 11, 16]\n",
    "\n",
    "# Using a for loop and if-else condition to check divisibility by 3\n",
    "for num in my_list:\n",
    "    if num % 3 == 0:\n",
    "        print(f\"{num} is divisible by 3.\")\n",
    "    else:\n",
    "        print(f\"{num} is not divisible by 3.\")"
   ]
  },
  {
   "cell_type": "code",
   "execution_count": 58,
   "id": "0ba17fd8-5fbe-4e2d-8636-d4313f3f1f9e",
   "metadata": {},
   "outputs": [],
   "source": [
    "# Q7. What do you understand about mutable and immutable data types? Give examples for both showing this property."
   ]
  },
  {
   "cell_type": "code",
   "execution_count": 61,
   "id": "bec59c99-c74c-4e7c-9deb-f141bfbae454",
   "metadata": {},
   "outputs": [
    {
     "name": "stdout",
     "output_type": "stream",
     "text": [
      "Original List: [3, 4, 5]\n",
      "Modified List: [3, 4, 5, 4]\n"
     ]
    }
   ],
   "source": [
    "#Mutable data is which we can change after we create it. Example - List, Dis & Sets\n",
    "l = [3, 4, 5]\n",
    "print(\"Original List:\", l)\n",
    "\n",
    "l.append(4)\n",
    "print(\"Modified List:\", l)"
   ]
  },
  {
   "cell_type": "code",
   "execution_count": 63,
   "id": "e1ed6968-254b-45bb-9633-ba83e5ba84bf",
   "metadata": {},
   "outputs": [
    {
     "name": "stdout",
     "output_type": "stream",
     "text": [
      "Original String: Hello \n",
      "Modified String: Hello Rahil Malik\n"
     ]
    }
   ],
   "source": [
    "#Immutable data types, on the other hand, are those whose values cannot be changed after they are created. Example are - int, float, string & Tuples\n",
    "s = \"Hello \"\n",
    "print(\"Original String:\", s) \n",
    "\n",
    "s += \"Rahil Malik\"\n",
    "print(\"Modified String:\", s)"
   ]
  },
  {
   "cell_type": "code",
   "execution_count": null,
   "id": "67eee11f-99b3-40bd-a403-be103e6f5a40",
   "metadata": {},
   "outputs": [],
   "source": []
  }
 ],
 "metadata": {
  "kernelspec": {
   "display_name": "Python 3 (ipykernel)",
   "language": "python",
   "name": "python3"
  },
  "language_info": {
   "codemirror_mode": {
    "name": "ipython",
    "version": 3
   },
   "file_extension": ".py",
   "mimetype": "text/x-python",
   "name": "python",
   "nbconvert_exporter": "python",
   "pygments_lexer": "ipython3",
   "version": "3.10.8"
  }
 },
 "nbformat": 4,
 "nbformat_minor": 5
}
