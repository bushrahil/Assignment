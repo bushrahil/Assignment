{
 "cells": [
  {
   "cell_type": "code",
   "execution_count": 1,
   "id": "eaaf19d6-0335-4d7b-880a-7ebc2673ffc8",
   "metadata": {},
   "outputs": [],
   "source": [
    "#Assignment No. 1"
   ]
  },
  {
   "cell_type": "code",
   "execution_count": 2,
   "id": "1aa53e56-0f31-423a-872a-2f7702d4c6c3",
   "metadata": {},
   "outputs": [],
   "source": [
    "#Question 1 - Declare two variables, `x` and `y`, and assign them integer values. Swap the values of these variables without using any temporary variable."
   ]
  },
  {
   "cell_type": "code",
   "execution_count": 23,
   "id": "bf43dfc8-7e9b-4d81-845a-5a51fe08271e",
   "metadata": {},
   "outputs": [],
   "source": [
    "x = 5"
   ]
  },
  {
   "cell_type": "code",
   "execution_count": 24,
   "id": "8f201937-5ac0-42dc-adc8-c358c00e9e18",
   "metadata": {},
   "outputs": [],
   "source": [
    "y = 10"
   ]
  },
  {
   "cell_type": "code",
   "execution_count": 25,
   "id": "40dcd8df-7fc9-4ac3-8cfe-b17fcb3aa10a",
   "metadata": {},
   "outputs": [],
   "source": [
    "x = x+y"
   ]
  },
  {
   "cell_type": "code",
   "execution_count": 26,
   "id": "e9e923b2-422e-415c-a7a5-8a86d38d77de",
   "metadata": {},
   "outputs": [],
   "source": [
    "y = x-y"
   ]
  },
  {
   "cell_type": "code",
   "execution_count": 27,
   "id": "efa61591-9e18-4474-a7ed-d2988d254436",
   "metadata": {},
   "outputs": [],
   "source": [
    "x = x-y"
   ]
  },
  {
   "cell_type": "code",
   "execution_count": 28,
   "id": "84eff451-7764-4d22-868d-abffa95fb03e",
   "metadata": {},
   "outputs": [
    {
     "name": "stdout",
     "output_type": "stream",
     "text": [
      "After swapping:\n"
     ]
    }
   ],
   "source": [
    "print('After swapping:')"
   ]
  },
  {
   "cell_type": "code",
   "execution_count": 29,
   "id": "efcdea12-cdc2-424d-84eb-7bd2c7b6e896",
   "metadata": {},
   "outputs": [
    {
     "name": "stdout",
     "output_type": "stream",
     "text": [
      "x= 10\n"
     ]
    }
   ],
   "source": [
    "print('x=', x)"
   ]
  },
  {
   "cell_type": "code",
   "execution_count": 30,
   "id": "190b88ff-5603-407f-aa7f-f398abcc231c",
   "metadata": {},
   "outputs": [
    {
     "name": "stdout",
     "output_type": "stream",
     "text": [
      "y= 5\n"
     ]
    }
   ],
   "source": [
    "print('y=', y)"
   ]
  },
  {
   "cell_type": "code",
   "execution_count": 31,
   "id": "0c5d06fa-b738-4d45-b0c0-35c133e5195e",
   "metadata": {},
   "outputs": [],
   "source": [
    "#Question 2 - Create a program that calculates the area of a rectangle. Take the length and\n",
    "#width as inputs from the user and store them in variables. Calculate and display the area."
   ]
  },
  {
   "cell_type": "code",
   "execution_count": 34,
   "id": "caec8aa6-cb15-4b79-ad4b-b7ef571c1af5",
   "metadata": {},
   "outputs": [
    {
     "name": "stdin",
     "output_type": "stream",
     "text": [
      "Enter the length of the rectangle: 5\n"
     ]
    }
   ],
   "source": [
    "#taking the input from user to display the area\n",
    "l = float(input(\"Enter the length of the rectangle:\"))"
   ]
  },
  {
   "cell_type": "code",
   "execution_count": 35,
   "id": "756b1ab8-43f6-4e6e-b2e7-089fc76bb6fb",
   "metadata": {},
   "outputs": [
    {
     "name": "stdin",
     "output_type": "stream",
     "text": [
      "Enter the width of the rectangle: 20\n"
     ]
    }
   ],
   "source": [
    "w = float(input(\"Enter the width of the rectangle:\"))"
   ]
  },
  {
   "cell_type": "code",
   "execution_count": 37,
   "id": "b5d13eba-4612-4659-9a81-03e159382be1",
   "metadata": {},
   "outputs": [],
   "source": [
    "area = l*w"
   ]
  },
  {
   "cell_type": "code",
   "execution_count": 38,
   "id": "e53dff23-959d-4533-8a4c-7c5349d802ae",
   "metadata": {},
   "outputs": [
    {
     "name": "stdout",
     "output_type": "stream",
     "text": [
      "The area of the rectangle is: 100.0\n"
     ]
    }
   ],
   "source": [
    "print(\"The area of the rectangle is:\", area)"
   ]
  },
  {
   "cell_type": "code",
   "execution_count": 39,
   "id": "46f246e2-be89-40de-9b12-be5c4aa72aff",
   "metadata": {},
   "outputs": [],
   "source": [
    "#Question 3 - Write a Python program that converts temperatures from Celsius to Fahrenheit. Take the temperature in Celsius as input, \n",
    "#store it in a variable, convert it to Fahrenheit, and display the result."
   ]
  },
  {
   "cell_type": "code",
   "execution_count": 42,
   "id": "d03ff06b-7cfd-4246-a736-200af4f461f8",
   "metadata": {},
   "outputs": [
    {
     "name": "stdin",
     "output_type": "stream",
     "text": [
      "Enter the temperature in Celsius:  35\n"
     ]
    },
    {
     "name": "stdout",
     "output_type": "stream",
     "text": [
      "Temperature in Fahrenheit: 95.0\n"
     ]
    }
   ],
   "source": [
    "# Taking input from the user for temperature in Celsius\n",
    "celsius = float(input(\"Enter the temperature in Celsius: \"))\n",
    "\n",
    "# Conversion formula: Celsius to Fahrenheit\n",
    "fahrenheit = (celsius * 9/5) + 32\n",
    "\n",
    "# Displaying the converted temperature in Fahrenheit\n",
    "print(\"Temperature in Fahrenheit:\", fahrenheit)"
   ]
  },
  {
   "cell_type": "code",
   "execution_count": 43,
   "id": "ecf0a2a0-99b6-42bb-ae24-c6814a5e8fd5",
   "metadata": {},
   "outputs": [],
   "source": [
    "#TOPIC: String Based Questions"
   ]
  },
  {
   "cell_type": "code",
   "execution_count": 46,
   "id": "76872746-e16d-4791-98f8-5f4d436a042c",
   "metadata": {},
   "outputs": [],
   "source": [
    "#question 1. Write a Python program that takes a string as input and prints the length of the string."
   ]
  },
  {
   "cell_type": "code",
   "execution_count": 45,
   "id": "8b7fa070-43da-4b3a-a80f-975a389a9ac1",
   "metadata": {},
   "outputs": [
    {
     "name": "stdin",
     "output_type": "stream",
     "text": [
      "Enter a string:  This is my first PWskills assignment\n"
     ]
    },
    {
     "name": "stdout",
     "output_type": "stream",
     "text": [
      "Length of the string: 36\n"
     ]
    }
   ],
   "source": [
    "# Taking input from the user\n",
    "input_string = input(\"Enter a string: \")\n",
    "\n",
    "# Calculating and printing the length of the input string\n",
    "length = len(input_string)\n",
    "print(\"Length of the string:\", length)"
   ]
  },
  {
   "cell_type": "code",
   "execution_count": 47,
   "id": "05e33da7-db5c-41d5-bd28-c8f9554e8ead",
   "metadata": {},
   "outputs": [],
   "source": [
    "#Question 2. Create a program that takes a sentence from the user and counts the number of vowels (a, e, i, o, u) in the string."
   ]
  },
  {
   "cell_type": "code",
   "execution_count": 48,
   "id": "c9e4b9cd-4d51-40c8-9b08-aeefac1898a5",
   "metadata": {},
   "outputs": [
    {
     "name": "stdin",
     "output_type": "stream",
     "text": [
      "Enter a sentence:  What is your name and location\n"
     ]
    },
    {
     "name": "stdout",
     "output_type": "stream",
     "text": [
      "Number of 'a' vowels: 4\n",
      "Number of 'e' vowels: 1\n",
      "Number of 'i' vowels: 2\n",
      "Number of 'o' vowels: 3\n",
      "Number of 'u' vowels: 1\n",
      "Total number of vowels: 11\n"
     ]
    }
   ],
   "source": [
    "# Taking input from the user\n",
    "sentence = input(\"Enter a sentence: \")\n",
    "\n",
    "# Converting the input sentence to lowercase for case-insensitive counting\n",
    "sentence = sentence.lower()\n",
    "\n",
    "# Initializing variables to count the vowels\n",
    "count_a = 0\n",
    "count_e = 0\n",
    "count_i = 0\n",
    "count_o = 0\n",
    "count_u = 0\n",
    "\n",
    "# Counting the vowels in the sentence\n",
    "for char in sentence:\n",
    "    if char == 'a':\n",
    "        count_a += 1\n",
    "    elif char == 'e':\n",
    "        count_e += 1\n",
    "    elif char == 'i':\n",
    "        count_i += 1\n",
    "    elif char == 'o':\n",
    "        count_o += 1\n",
    "    elif char == 'u':\n",
    "        count_u += 1\n",
    "\n",
    "# Calculating the total vowel count\n",
    "total_vowels = count_a + count_e + count_i + count_o + count_u\n",
    "\n",
    "# Displaying the vowel counts\n",
    "print(\"Number of 'a' vowels:\", count_a)\n",
    "print(\"Number of 'e' vowels:\", count_e)\n",
    "print(\"Number of 'i' vowels:\", count_i)\n",
    "print(\"Number of 'o' vowels:\", count_o)\n",
    "print(\"Number of 'u' vowels:\", count_u)\n",
    "print(\"Total number of vowels:\", total_vowels)"
   ]
  },
  {
   "cell_type": "code",
   "execution_count": 49,
   "id": "89a25d94-07ba-4672-bb1e-3dcf43a41ba0",
   "metadata": {},
   "outputs": [],
   "source": [
    "#Question 3. Given a string, reverse the order of characters using string slicing and print the reversed string."
   ]
  },
  {
   "cell_type": "code",
   "execution_count": 50,
   "id": "806a786d-05bb-4466-a04c-4046298d0a51",
   "metadata": {},
   "outputs": [
    {
     "name": "stdin",
     "output_type": "stream",
     "text": [
      "Enter a string:  Data science pro course learning has started\n"
     ]
    },
    {
     "name": "stdout",
     "output_type": "stream",
     "text": [
      "Reversed string: detrats sah gninrael esruoc orp ecneics ataD\n"
     ]
    }
   ],
   "source": [
    "# Taking input from the user\n",
    "original_string = input(\"Enter a string: \")\n",
    "\n",
    "# Reversing the string using string slicing\n",
    "reversed_string = original_string[::-1]\n",
    "\n",
    "# Displaying the reversed string\n",
    "print(\"Reversed string:\", reversed_string)"
   ]
  },
  {
   "cell_type": "code",
   "execution_count": 51,
   "id": "140d8ca2-564f-4b9f-8e8a-50e29ae52148",
   "metadata": {},
   "outputs": [],
   "source": [
    "#Question 4. Write a program that takes a string as input and checks if it is a palindrome(reads the same forwards and backwards)."
   ]
  },
  {
   "cell_type": "code",
   "execution_count": 52,
   "id": "c4d903cc-e79c-4084-8a12-8a8cd5e3a982",
   "metadata": {},
   "outputs": [
    {
     "name": "stdin",
     "output_type": "stream",
     "text": [
      "Enter a string:  How are you doing today?\n"
     ]
    },
    {
     "name": "stdout",
     "output_type": "stream",
     "text": [
      "The input string is not a palindrome.\n"
     ]
    }
   ],
   "source": [
    "# Taking input from the user\n",
    "input_string = input(\"Enter a string: \")\n",
    "\n",
    "# Converting the input string to lowercase for case-insensitive comparison\n",
    "input_string = input_string.lower()\n",
    "\n",
    "# Reversing the input string using string slicing\n",
    "reversed_string = input_string[::-1]\n",
    "\n",
    "# Checking if the input string is equal to its reverse\n",
    "if input_string == reversed_string:\n",
    "    print(\"The input string is a palindrome.\")\n",
    "else:\n",
    "    print(\"The input string is not a palindrome.\")\n"
   ]
  },
  {
   "cell_type": "code",
   "execution_count": 53,
   "id": "ac690812-cab5-435b-9693-a29319bb2f6c",
   "metadata": {},
   "outputs": [],
   "source": [
    "#Question 5. Create a program that takes a string as input and removes all the spaces from it. Print the modified string without spaces."
   ]
  },
  {
   "cell_type": "code",
   "execution_count": 54,
   "id": "237c1030-80f9-466d-8677-d6bfa3fbd737",
   "metadata": {},
   "outputs": [
    {
     "name": "stdin",
     "output_type": "stream",
     "text": [
      "Enter a string:  How we are going to remove spaces from here\n"
     ]
    },
    {
     "name": "stdout",
     "output_type": "stream",
     "text": [
      "Modified string: Howwearegoingtoremovespacesfromhere\n"
     ]
    }
   ],
   "source": [
    "# Taking input from the user\n",
    "input_string = input(\"Enter a string: \")\n",
    "\n",
    "# Removing spaces from the input string using string replace\n",
    "modified_string = input_string.replace(\" \", \"\")\n",
    "\n",
    "# Displaying the modified string without spaces\n",
    "print(\"Modified string:\", modified_string)"
   ]
  },
  {
   "cell_type": "code",
   "execution_count": null,
   "id": "dbe41a52-3d7a-42e3-821b-f96dfe8cb5ab",
   "metadata": {},
   "outputs": [],
   "source": []
  }
 ],
 "metadata": {
  "kernelspec": {
   "display_name": "Python 3 (ipykernel)",
   "language": "python",
   "name": "python3"
  },
  "language_info": {
   "codemirror_mode": {
    "name": "ipython",
    "version": 3
   },
   "file_extension": ".py",
   "mimetype": "text/x-python",
   "name": "python",
   "nbconvert_exporter": "python",
   "pygments_lexer": "ipython3",
   "version": "3.10.8"
  }
 },
 "nbformat": 4,
 "nbformat_minor": 5
}
